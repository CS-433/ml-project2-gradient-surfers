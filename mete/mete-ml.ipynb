{
 "cells": [
  {
   "cell_type": "code",
   "execution_count": 1,
   "metadata": {},
   "outputs": [],
   "source": [
    "%load_ext autoreload\n",
    "%autoreload 2\n",
    "import numpy as np\n",
    "import matplotlib.pyplot as plt\n",
    "import seaborn as sns\n",
    "import sys\n",
    "sys.path.append('..')\n",
    "from pipeline import *\n",
    "plt.style.use('ggplot')"
   ]
  },
  {
   "cell_type": "code",
   "execution_count": 26,
   "metadata": {},
   "outputs": [
    {
     "name": "stderr",
     "output_type": "stream",
     "text": [
      "Processing ../data/AA66266AA.npy: 100%|██████████| 20085/20085 [01:27<00:00, 228.85it/s]\n",
      "Processing ../data/AA66566AA.npy: 100%|██████████| 20026/20026 [01:14<00:00, 267.82it/s]\n"
     ]
    }
   ],
   "source": [
    "pipeline = AABB245_Pipeline(num_blocks=32, extrema_th=4)\n",
    "dataset = PolymerDataset(['../data/AA66266AA.npy', '../data/AA66566AA.npy'], pipeline)"
   ]
  },
  {
   "cell_type": "code",
   "execution_count": 27,
   "metadata": {},
   "outputs": [],
   "source": [
    "X, y = dataset.data.numpy(), dataset.labels.numpy()"
   ]
  },
  {
   "cell_type": "code",
   "execution_count": 28,
   "metadata": {},
   "outputs": [
    {
     "data": {
      "text/plain": [
       "(40111, 4, 20)"
      ]
     },
     "execution_count": 28,
     "metadata": {},
     "output_type": "execute_result"
    }
   ],
   "source": [
    "X.shape"
   ]
  },
  {
   "cell_type": "code",
   "execution_count": 29,
   "metadata": {},
   "outputs": [],
   "source": [
    "X = X.reshape((X.shape[0], X.shape[1] * X.shape[2]))"
   ]
  },
  {
   "cell_type": "code",
   "execution_count": 30,
   "metadata": {},
   "outputs": [
    {
     "data": {
      "text/plain": [
       "(40111, 80)"
      ]
     },
     "execution_count": 30,
     "metadata": {},
     "output_type": "execute_result"
    }
   ],
   "source": [
    "X.shape"
   ]
  },
  {
   "cell_type": "code",
   "execution_count": 31,
   "metadata": {},
   "outputs": [
    {
     "data": {
      "text/plain": [
       "(0.735759690888695, 0.7365805168986084)"
      ]
     },
     "execution_count": 31,
     "metadata": {},
     "output_type": "execute_result"
    }
   ],
   "source": [
    "from sklearn.ensemble import RandomForestClassifier\n",
    "from sklearn.model_selection import train_test_split\n",
    "from sklearn.metrics import accuracy_score, f1_score\n",
    "\n",
    "train_X, test_X, train_y, test_y = train_test_split(X, y, test_size=0.2, shuffle=True, random_state=42)\n",
    "\n",
    "model = RandomForestClassifier(min_samples_leaf=4)\n",
    "model.fit(train_X, train_y)\n",
    "\n",
    "preds = model.predict(test_X)\n",
    "accuracy_score(test_y, preds), f1_score(test_y, preds)"
   ]
  },
  {
   "cell_type": "code",
   "execution_count": 32,
   "metadata": {},
   "outputs": [
    {
     "data": {
      "text/plain": [
       "array([0.00406928, 0.00486106, 0.0338445 , 0.02507709, 0.01544658,\n",
       "       0.0173637 , 0.01774971, 0.00221737, 0.00290865, 0.0145425 ,\n",
       "       0.01599139, 0.01495293, 0.01567369, 0.00836655, 0.01395609,\n",
       "       0.01425009, 0.01076932, 0.00489355, 0.01347026, 0.00497366,\n",
       "       0.00408354, 0.0049332 , 0.03450338, 0.01893641, 0.01746509,\n",
       "       0.04345832, 0.01762358, 0.00246486, 0.00265688, 0.01365095,\n",
       "       0.01254084, 0.01151176, 0.01054973, 0.00919397, 0.0120739 ,\n",
       "       0.01808062, 0.011504  , 0.00506157, 0.00519066, 0.00472538,\n",
       "       0.00379271, 0.00482734, 0.03003618, 0.02171506, 0.01668169,\n",
       "       0.03798746, 0.01822061, 0.00302085, 0.00240267, 0.01355721,\n",
       "       0.01210229, 0.01129012, 0.01011194, 0.00943187, 0.012042  ,\n",
       "       0.0153708 , 0.01077393, 0.00523577, 0.00516456, 0.00534691,\n",
       "       0.00459915, 0.00496137, 0.03172956, 0.02078343, 0.01766643,\n",
       "       0.02266663, 0.0160428 , 0.00266661, 0.00279999, 0.01088885,\n",
       "       0.01178726, 0.01093509, 0.01007077, 0.00940114, 0.01345882,\n",
       "       0.01610991, 0.01290975, 0.00584314, 0.00496702, 0.00501367])"
      ]
     },
     "execution_count": 32,
     "metadata": {},
     "output_type": "execute_result"
    }
   ],
   "source": [
    "model.feature_importances_"
   ]
  },
  {
   "cell_type": "code",
   "execution_count": 35,
   "metadata": {},
   "outputs": [],
   "source": [
    "features = ['num_signals', 'duration', 'max_current', 'min_current', 'mean_current', 'std_current', 'median_current',\n",
    "            'num_peaks', 'num_lows', 'mean_peaks', 'std_peaks', 'mean_lows', 'std_lows',\n",
    "            'max_amp', 'min_amp', 'mean_amp', 'std_amp', 'dwell_time', 'dwell_start', 'dwell_end']\n",
    "importance_df = pd.DataFrame(model.feature_importances_, columns=['importance'])\n",
    "importance_df['block'] = [i // 20 for i in range(len(importance_df))]\n",
    "importance_df['feature'] = features * 4"
   ]
  },
  {
   "cell_type": "code",
   "execution_count": 36,
   "metadata": {},
   "outputs": [
    {
     "data": {
      "text/html": [
       "<div>\n",
       "<style scoped>\n",
       "    .dataframe tbody tr th:only-of-type {\n",
       "        vertical-align: middle;\n",
       "    }\n",
       "\n",
       "    .dataframe tbody tr th {\n",
       "        vertical-align: top;\n",
       "    }\n",
       "\n",
       "    .dataframe thead th {\n",
       "        text-align: right;\n",
       "    }\n",
       "</style>\n",
       "<table border=\"1\" class=\"dataframe\">\n",
       "  <thead>\n",
       "    <tr style=\"text-align: right;\">\n",
       "      <th></th>\n",
       "      <th>importance</th>\n",
       "      <th>block</th>\n",
       "      <th>feature</th>\n",
       "    </tr>\n",
       "  </thead>\n",
       "  <tbody>\n",
       "    <tr>\n",
       "      <th>0</th>\n",
       "      <td>0.004069</td>\n",
       "      <td>0</td>\n",
       "      <td>num_signals</td>\n",
       "    </tr>\n",
       "    <tr>\n",
       "      <th>1</th>\n",
       "      <td>0.004861</td>\n",
       "      <td>0</td>\n",
       "      <td>duration</td>\n",
       "    </tr>\n",
       "    <tr>\n",
       "      <th>2</th>\n",
       "      <td>0.033845</td>\n",
       "      <td>0</td>\n",
       "      <td>max_current</td>\n",
       "    </tr>\n",
       "    <tr>\n",
       "      <th>3</th>\n",
       "      <td>0.025077</td>\n",
       "      <td>0</td>\n",
       "      <td>min_current</td>\n",
       "    </tr>\n",
       "    <tr>\n",
       "      <th>4</th>\n",
       "      <td>0.015447</td>\n",
       "      <td>0</td>\n",
       "      <td>mean_current</td>\n",
       "    </tr>\n",
       "    <tr>\n",
       "      <th>...</th>\n",
       "      <td>...</td>\n",
       "      <td>...</td>\n",
       "      <td>...</td>\n",
       "    </tr>\n",
       "    <tr>\n",
       "      <th>75</th>\n",
       "      <td>0.016110</td>\n",
       "      <td>3</td>\n",
       "      <td>mean_amp</td>\n",
       "    </tr>\n",
       "    <tr>\n",
       "      <th>76</th>\n",
       "      <td>0.012910</td>\n",
       "      <td>3</td>\n",
       "      <td>std_amp</td>\n",
       "    </tr>\n",
       "    <tr>\n",
       "      <th>77</th>\n",
       "      <td>0.005843</td>\n",
       "      <td>3</td>\n",
       "      <td>dwell_time</td>\n",
       "    </tr>\n",
       "    <tr>\n",
       "      <th>78</th>\n",
       "      <td>0.004967</td>\n",
       "      <td>3</td>\n",
       "      <td>dwell_start</td>\n",
       "    </tr>\n",
       "    <tr>\n",
       "      <th>79</th>\n",
       "      <td>0.005014</td>\n",
       "      <td>3</td>\n",
       "      <td>dwell_end</td>\n",
       "    </tr>\n",
       "  </tbody>\n",
       "</table>\n",
       "<p>80 rows × 3 columns</p>\n",
       "</div>"
      ],
      "text/plain": [
       "    importance  block       feature\n",
       "0     0.004069      0   num_signals\n",
       "1     0.004861      0      duration\n",
       "2     0.033845      0   max_current\n",
       "3     0.025077      0   min_current\n",
       "4     0.015447      0  mean_current\n",
       "..         ...    ...           ...\n",
       "75    0.016110      3      mean_amp\n",
       "76    0.012910      3       std_amp\n",
       "77    0.005843      3    dwell_time\n",
       "78    0.004967      3   dwell_start\n",
       "79    0.005014      3     dwell_end\n",
       "\n",
       "[80 rows x 3 columns]"
      ]
     },
     "execution_count": 36,
     "metadata": {},
     "output_type": "execute_result"
    }
   ],
   "source": [
    "importance_df"
   ]
  },
  {
   "cell_type": "code",
   "execution_count": 37,
   "metadata": {},
   "outputs": [
    {
     "data": {
      "text/plain": [
       "[Text(0, 0, 'num_signals'),\n",
       " Text(1, 0, 'duration'),\n",
       " Text(2, 0, 'max_current'),\n",
       " Text(3, 0, 'min_current'),\n",
       " Text(4, 0, 'mean_current'),\n",
       " Text(5, 0, 'std_current'),\n",
       " Text(6, 0, 'median_current'),\n",
       " Text(7, 0, 'num_peaks'),\n",
       " Text(8, 0, 'num_lows'),\n",
       " Text(9, 0, 'mean_peaks'),\n",
       " Text(10, 0, 'std_peaks'),\n",
       " Text(11, 0, 'mean_lows'),\n",
       " Text(12, 0, 'std_lows'),\n",
       " Text(13, 0, 'max_amp'),\n",
       " Text(14, 0, 'min_amp'),\n",
       " Text(15, 0, 'mean_amp'),\n",
       " Text(16, 0, 'std_amp'),\n",
       " Text(17, 0, 'dwell_time'),\n",
       " Text(18, 0, 'dwell_start'),\n",
       " Text(19, 0, 'dwell_end')]"
      ]
     },
     "execution_count": 37,
     "metadata": {},
     "output_type": "execute_result"
    },
    {
     "data": {
      "image/png": "[encoded data removed]",
      "text/plain": [
       "<Figure size 1080x504 with 1 Axes>"
      ]
     },
     "metadata": {},
     "output_type": "display_data"
    }
   ],
   "source": [
    "ax = sns.barplot(data=importance_df, x='feature', y='importance', hue='block')\n",
    "ax.set_xticklabels(ax.get_xticklabels(), rotation = 30)"
   ]
  }
 ],
 "metadata": {
  "interpreter": {
   "hash": "34e9dc8c9cd4c2e3341692c7f5472da17e27c062a0f2ac63648b60e63867ef4a"
  },
  "kernelspec": {
   "display_name": "Python 3.9.7 64-bit ('ml': conda)",
   "language": "python",
   "name": "python3"
  },
  "language_info": {
   "codemirror_mode": {
    "name": "ipython",
    "version": 3
   },
   "file_extension": ".py",
   "mimetype": "text/x-python",
   "name": "python",
   "nbconvert_exporter": "python",
   "pygments_lexer": "ipython3",
   "version": "3.9.7"
  },
  "orig_nbformat": 4
 },
 "nbformat": 4,
 "nbformat_minor": 2
}
