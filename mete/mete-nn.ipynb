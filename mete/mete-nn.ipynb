{
 "cells": [
  {
   "cell_type": "code",
   "execution_count": 91,
   "metadata": {},
   "outputs": [
    {
     "name": "stdout",
     "output_type": "stream",
     "text": [
      "The autoreload extension is already loaded. To reload it, use:\n",
      "  %reload_ext autoreload\n"
     ]
    }
   ],
   "source": [
    "%load_ext autoreload\n",
    "%autoreload 2\n",
    "import numpy as np\n",
    "import matplotlib.pyplot as plt\n",
    "import seaborn as sns\n",
    "from utils import *\n",
    "plt.style.use('ggplot')"
   ]
  },
  {
   "cell_type": "code",
   "execution_count": 96,
   "metadata": {},
   "outputs": [],
   "source": [
    "import torch\n",
    "from torch.utils.data import Dataset\n",
    "import numpy as np\n",
    "from tqdm import tqdm\n",
    "\n",
    "class PolymerDataset(Dataset):\n",
    "    def __init__(self, data_paths, timesteps=64, diff_threshold=0) -> None:\n",
    "        self.raw_data = [np.load(data_path, allow_pickle=True) for data_path in data_paths]\n",
    "        self.prepare(timesteps=timesteps, diff_threshold=diff_threshold)\n",
    "    \n",
    "    def __len__(self):\n",
    "        return len(self.labels)\n",
    "    \n",
    "    def __getitem__(self, idx):\n",
    "        return self.data[idx], self.labels[idx]\n",
    "    \n",
    "    def _process_event(self, event, timesteps=64, diff_threshold=0):\n",
    "        compressed_event = []\n",
    "        step_size = int(np.ceil(len(event) / timesteps))\n",
    "        for i in range(timesteps):\n",
    "            sub_event = event[i*step_size:(i+1)*step_size]\n",
    "            features = build_features(sub_event, diff_threshold=diff_threshold)\n",
    "            compressed_event.append(np.array(list(features.values())))\n",
    "        return np.array(compressed_event)\n",
    "\n",
    "    def prepare(self, timesteps=64, diff_threshold=0, seed=42):\n",
    "        data = []\n",
    "        labels = []\n",
    "        data_size = min([len(d) for d in self.raw_data])\n",
    "        np.random.seed(seed)\n",
    "\n",
    "        for data_index, raw_data in enumerate(self.raw_data):\n",
    "            indices = np.random.permutation(len(raw_data))\n",
    "            raw_data = raw_data[indices[:data_size]]\n",
    "            data_lens = [len(event) for event in raw_data]\n",
    "            min_event_len = np.quantile(data_lens, 0.05)\n",
    "            max_event_len = np.quantile(data_lens, 0.95)\n",
    "\n",
    "            for event in tqdm(raw_data):\n",
    "                if len(event) > min_event_len and len(event) < max_event_len:\n",
    "                    processed_event = self._process_event(event, timesteps=timesteps, diff_threshold=diff_threshold)\n",
    "                    data.append(processed_event)\n",
    "                    labels.append(data_index)\n",
    "\n",
    "        self.data = torch.tensor(np.array(data), dtype=torch.float)\n",
    "        self.labels = torch.tensor(np.array(labels), dtype=torch.long)\n",
    "        return self"
   ]
  },
  {
   "cell_type": "code",
   "execution_count": 97,
   "metadata": {},
   "outputs": [
    {
     "name": "stderr",
     "output_type": "stream",
     "text": [
      "100%|██████████| 43074/43074 [13:22<00:00, 53.68it/s]\n",
      "100%|██████████| 43074/43074 [05:16<00:00, 135.91it/s]\n"
     ]
    }
   ],
   "source": [
    "TIMESTEPS = 4\n",
    "DIFF_THRESHOLD = 10\n",
    "dataset = PolymerDataset(['../data/AA66466AA.npy', '../data/AA66566AA.npy'], timesteps=TIMESTEPS, diff_threshold=DIFF_THRESHOLD)\n"
   ]
  },
  {
   "cell_type": "code",
   "execution_count": 6,
   "metadata": {},
   "outputs": [],
   "source": [
    "# torch.save(dataset.data, f'../data/AA6245_T{TIMESTEPS}.pt')"
   ]
  },
  {
   "cell_type": "code",
   "execution_count": 98,
   "metadata": {},
   "outputs": [
    {
     "data": {
      "text/plain": [
       "(torch.Size([77464, 4, 13]), torch.Size([77464]))"
      ]
     },
     "execution_count": 98,
     "metadata": {},
     "output_type": "execute_result"
    }
   ],
   "source": [
    "dataset.data.shape, dataset.labels.shape"
   ]
  },
  {
   "cell_type": "code",
   "execution_count": 69,
   "metadata": {},
   "outputs": [],
   "source": [
    "dataset.data = (dataset.data - dataset.data.mean(dim=1, keepdim=True)) / dataset.data.std(dim=1, keepdim=True)"
   ]
  },
  {
   "cell_type": "code",
   "execution_count": 25,
   "metadata": {},
   "outputs": [],
   "source": [
    "from torch.utils.data import random_split\n",
    "train_size = int(0.8 * len(dataset))\n",
    "test_size = len(dataset) - train_size\n",
    "train_data, test_data = random_split(dataset, [train_size, test_size])"
   ]
  },
  {
   "cell_type": "code",
   "execution_count": 99,
   "metadata": {},
   "outputs": [
    {
     "data": {
      "text/plain": [
       "(tensor(38736), tensor(38728), tensor(0))"
      ]
     },
     "execution_count": 99,
     "metadata": {},
     "output_type": "execute_result"
    }
   ],
   "source": [
    "(dataset.labels == 0).sum(), (dataset.labels == 1).sum(), (dataset.labels == 2).sum()"
   ]
  },
  {
   "cell_type": "code",
   "execution_count": 82,
   "metadata": {},
   "outputs": [],
   "source": [
    "from torch.utils.data import DataLoader\n",
    "\n",
    "class PolymerLSTM(torch.nn.Module):\n",
    "    def __init__(self, num_features, num_classes, num_layers=1, hidden_size=32) -> None:\n",
    "        super().__init__()\n",
    "        self.lstm = torch.nn.LSTM(input_size=num_features, num_layers=num_layers, hidden_size=hidden_size, batch_first=True)\n",
    "        self.linear = torch.nn.Linear(hidden_size, num_classes)\n",
    "    \n",
    "    def forward(self, X):\n",
    "        lstm_out, _ = self.lstm(X)\n",
    "        outputs = lstm_out[:, -1, :]\n",
    "        outputs = self.linear(outputs)\n",
    "        probs = torch.nn.functional.log_softmax(outputs, dim=1)\n",
    "        return probs\n",
    "    \n",
    "    def predict(self, X):\n",
    "        probs = self.forward(X)\n",
    "        preds = torch.argmax(probs, dim=1, keepdim=False)\n",
    "        return preds\n",
    "\n",
    "\n",
    "def train(dataset, num_epochs=100, batch_size=64, num_features=2, num_classes=2, hidden_size=32, num_layers=1, lr_rate=0.05):\n",
    "    data_loader = DataLoader(dataset, batch_size=batch_size, shuffle=True)\n",
    "    model = PolymerLSTM(num_features, num_classes, num_layers=num_layers, hidden_size=hidden_size)\n",
    "    loss_function = torch.nn.NLLLoss()\n",
    "    optimizer = torch.optim.Adam(model.parameters(), lr=lr_rate)\n",
    "\n",
    "    for epoch in range(num_epochs):\n",
    "        num_correct = 0\n",
    "        for X, y in iter(data_loader):\n",
    "            model.zero_grad()\n",
    "            probs = model(X)\n",
    "            loss = loss_function(probs, y)\n",
    "            loss.backward()\n",
    "            optimizer.step()\n",
    "            preds = torch.argmax(probs, dim=1, keepdim=False)\n",
    "            num_correct += (preds == y).sum()\n",
    "        print(f'epoch={epoch}/{num_epochs}, loss={loss}, accuracy={num_correct*100/len(dataset)}')\n",
    "    \n",
    "    return model"
   ]
  },
  {
   "cell_type": "code",
   "execution_count": 100,
   "metadata": {},
   "outputs": [
    {
     "name": "stdout",
     "output_type": "stream",
     "text": [
      "epoch=0/100, loss=0.5998442769050598, accuracy=66.56640625\n",
      "epoch=1/100, loss=0.6362658739089966, accuracy=67.23639678955078\n",
      "epoch=2/100, loss=0.6862271428108215, accuracy=67.49974060058594\n",
      "epoch=3/100, loss=0.4076294004917145, accuracy=68.09356689453125\n",
      "epoch=4/100, loss=0.6180543303489685, accuracy=68.52344512939453\n",
      "epoch=5/100, loss=0.6069925427436829, accuracy=67.83409118652344\n",
      "epoch=6/100, loss=0.7957097887992859, accuracy=67.7876205444336\n",
      "epoch=7/100, loss=0.6977307796478271, accuracy=68.03934478759766\n",
      "epoch=8/100, loss=0.6789999604225159, accuracy=67.82376098632812\n",
      "epoch=9/100, loss=0.720350444316864, accuracy=69.2347412109375\n",
      "epoch=10/100, loss=0.5439063906669617, accuracy=68.6628646850586\n",
      "epoch=11/100, loss=0.5567768216133118, accuracy=67.9851303100586\n",
      "epoch=12/100, loss=0.6033696532249451, accuracy=68.28720092773438\n",
      "epoch=13/100, loss=0.5770800709724426, accuracy=68.44340515136719\n",
      "epoch=14/100, loss=0.6622921824455261, accuracy=65.43555450439453\n",
      "epoch=15/100, loss=0.6147159934043884, accuracy=60.669471740722656\n",
      "epoch=16/100, loss=0.5287428498268127, accuracy=64.14592742919922\n",
      "epoch=17/100, loss=0.5091637372970581, accuracy=67.81085205078125\n",
      "epoch=18/100, loss=0.542754590511322, accuracy=66.09263610839844\n",
      "epoch=19/100, loss=0.586588442325592, accuracy=68.09614562988281\n",
      "epoch=20/100, loss=0.4687945544719696, accuracy=69.34188842773438\n",
      "epoch=21/100, loss=0.6528350710868835, accuracy=67.42874145507812\n",
      "epoch=22/100, loss=0.5019484162330627, accuracy=65.71052551269531\n"
     ]
    },
    {
     "ename": "KeyboardInterrupt",
     "evalue": "",
     "output_type": "error",
     "traceback": [
      "\u001b[0;31m---------------------------------------------------------------------------\u001b[0m",
      "\u001b[0;31mKeyboardInterrupt\u001b[0m                         Traceback (most recent call last)",
      "\u001b[0;32m/var/folders/rs/c9bqjyq95q59ngc5v1t0gz_00000gn/T/ipykernel_61108/2972003256.py\u001b[0m in \u001b[0;36m<module>\u001b[0;34m\u001b[0m\n\u001b[0;32m----> 1\u001b[0;31m \u001b[0mmodel\u001b[0m \u001b[0;34m=\u001b[0m \u001b[0mtrain\u001b[0m\u001b[0;34m(\u001b[0m\u001b[0mdataset\u001b[0m\u001b[0;34m,\u001b[0m \u001b[0mnum_features\u001b[0m\u001b[0;34m=\u001b[0m\u001b[0mdataset\u001b[0m\u001b[0;34m.\u001b[0m\u001b[0mdata\u001b[0m\u001b[0;34m.\u001b[0m\u001b[0mshape\u001b[0m\u001b[0;34m[\u001b[0m\u001b[0;36m2\u001b[0m\u001b[0;34m]\u001b[0m\u001b[0;34m,\u001b[0m \u001b[0mnum_classes\u001b[0m\u001b[0;34m=\u001b[0m\u001b[0mlen\u001b[0m\u001b[0;34m(\u001b[0m\u001b[0mtorch\u001b[0m\u001b[0;34m.\u001b[0m\u001b[0munique\u001b[0m\u001b[0;34m(\u001b[0m\u001b[0mdataset\u001b[0m\u001b[0;34m.\u001b[0m\u001b[0mlabels\u001b[0m\u001b[0;34m)\u001b[0m\u001b[0;34m)\u001b[0m\u001b[0;34m,\u001b[0m \u001b[0mbatch_size\u001b[0m\u001b[0;34m=\u001b[0m\u001b[0;36m128\u001b[0m\u001b[0;34m,\u001b[0m \u001b[0mhidden_size\u001b[0m\u001b[0;34m=\u001b[0m\u001b[0;36m8\u001b[0m\u001b[0;34m,\u001b[0m \u001b[0mnum_layers\u001b[0m\u001b[0;34m=\u001b[0m\u001b[0;36m2\u001b[0m\u001b[0;34m)\u001b[0m\u001b[0;34m\u001b[0m\u001b[0;34m\u001b[0m\u001b[0m\n\u001b[0m",
      "\u001b[0;32m/var/folders/rs/c9bqjyq95q59ngc5v1t0gz_00000gn/T/ipykernel_61108/2423014457.py\u001b[0m in \u001b[0;36mtrain\u001b[0;34m(dataset, num_epochs, batch_size, num_features, num_classes, hidden_size, num_layers, lr_rate)\u001b[0m\n\u001b[1;32m     32\u001b[0m             \u001b[0mprobs\u001b[0m \u001b[0;34m=\u001b[0m \u001b[0mmodel\u001b[0m\u001b[0;34m(\u001b[0m\u001b[0mX\u001b[0m\u001b[0;34m)\u001b[0m\u001b[0;34m\u001b[0m\u001b[0;34m\u001b[0m\u001b[0m\n\u001b[1;32m     33\u001b[0m             \u001b[0mloss\u001b[0m \u001b[0;34m=\u001b[0m \u001b[0mloss_function\u001b[0m\u001b[0;34m(\u001b[0m\u001b[0mprobs\u001b[0m\u001b[0;34m,\u001b[0m \u001b[0my\u001b[0m\u001b[0;34m)\u001b[0m\u001b[0;34m\u001b[0m\u001b[0;34m\u001b[0m\u001b[0m\n\u001b[0;32m---> 34\u001b[0;31m             \u001b[0mloss\u001b[0m\u001b[0;34m.\u001b[0m\u001b[0mbackward\u001b[0m\u001b[0;34m(\u001b[0m\u001b[0;34m)\u001b[0m\u001b[0;34m\u001b[0m\u001b[0;34m\u001b[0m\u001b[0m\n\u001b[0m\u001b[1;32m     35\u001b[0m             \u001b[0moptimizer\u001b[0m\u001b[0;34m.\u001b[0m\u001b[0mstep\u001b[0m\u001b[0;34m(\u001b[0m\u001b[0;34m)\u001b[0m\u001b[0;34m\u001b[0m\u001b[0;34m\u001b[0m\u001b[0m\n\u001b[1;32m     36\u001b[0m             \u001b[0mpreds\u001b[0m \u001b[0;34m=\u001b[0m \u001b[0mtorch\u001b[0m\u001b[0;34m.\u001b[0m\u001b[0margmax\u001b[0m\u001b[0;34m(\u001b[0m\u001b[0mprobs\u001b[0m\u001b[0;34m,\u001b[0m \u001b[0mdim\u001b[0m\u001b[0;34m=\u001b[0m\u001b[0;36m1\u001b[0m\u001b[0;34m,\u001b[0m \u001b[0mkeepdim\u001b[0m\u001b[0;34m=\u001b[0m\u001b[0;32mFalse\u001b[0m\u001b[0;34m)\u001b[0m\u001b[0;34m\u001b[0m\u001b[0;34m\u001b[0m\u001b[0m\n",
      "\u001b[0;32m~/opt/anaconda3/envs/ml/lib/python3.9/site-packages/torch/_tensor.py\u001b[0m in \u001b[0;36mbackward\u001b[0;34m(self, gradient, retain_graph, create_graph, inputs)\u001b[0m\n\u001b[1;32m    305\u001b[0m                 \u001b[0mcreate_graph\u001b[0m\u001b[0;34m=\u001b[0m\u001b[0mcreate_graph\u001b[0m\u001b[0;34m,\u001b[0m\u001b[0;34m\u001b[0m\u001b[0;34m\u001b[0m\u001b[0m\n\u001b[1;32m    306\u001b[0m                 inputs=inputs)\n\u001b[0;32m--> 307\u001b[0;31m         \u001b[0mtorch\u001b[0m\u001b[0;34m.\u001b[0m\u001b[0mautograd\u001b[0m\u001b[0;34m.\u001b[0m\u001b[0mbackward\u001b[0m\u001b[0;34m(\u001b[0m\u001b[0mself\u001b[0m\u001b[0;34m,\u001b[0m \u001b[0mgradient\u001b[0m\u001b[0;34m,\u001b[0m \u001b[0mretain_graph\u001b[0m\u001b[0;34m,\u001b[0m \u001b[0mcreate_graph\u001b[0m\u001b[0;34m,\u001b[0m \u001b[0minputs\u001b[0m\u001b[0;34m=\u001b[0m\u001b[0minputs\u001b[0m\u001b[0;34m)\u001b[0m\u001b[0;34m\u001b[0m\u001b[0;34m\u001b[0m\u001b[0m\n\u001b[0m\u001b[1;32m    308\u001b[0m \u001b[0;34m\u001b[0m\u001b[0m\n\u001b[1;32m    309\u001b[0m     \u001b[0;32mdef\u001b[0m \u001b[0mregister_hook\u001b[0m\u001b[0;34m(\u001b[0m\u001b[0mself\u001b[0m\u001b[0;34m,\u001b[0m \u001b[0mhook\u001b[0m\u001b[0;34m)\u001b[0m\u001b[0;34m:\u001b[0m\u001b[0;34m\u001b[0m\u001b[0;34m\u001b[0m\u001b[0m\n",
      "\u001b[0;32m~/opt/anaconda3/envs/ml/lib/python3.9/site-packages/torch/autograd/__init__.py\u001b[0m in \u001b[0;36mbackward\u001b[0;34m(tensors, grad_tensors, retain_graph, create_graph, grad_variables, inputs)\u001b[0m\n\u001b[1;32m    152\u001b[0m         \u001b[0mretain_graph\u001b[0m \u001b[0;34m=\u001b[0m \u001b[0mcreate_graph\u001b[0m\u001b[0;34m\u001b[0m\u001b[0;34m\u001b[0m\u001b[0m\n\u001b[1;32m    153\u001b[0m \u001b[0;34m\u001b[0m\u001b[0m\n\u001b[0;32m--> 154\u001b[0;31m     Variable._execution_engine.run_backward(\n\u001b[0m\u001b[1;32m    155\u001b[0m         \u001b[0mtensors\u001b[0m\u001b[0;34m,\u001b[0m \u001b[0mgrad_tensors_\u001b[0m\u001b[0;34m,\u001b[0m \u001b[0mretain_graph\u001b[0m\u001b[0;34m,\u001b[0m \u001b[0mcreate_graph\u001b[0m\u001b[0;34m,\u001b[0m \u001b[0minputs\u001b[0m\u001b[0;34m,\u001b[0m\u001b[0;34m\u001b[0m\u001b[0;34m\u001b[0m\u001b[0m\n\u001b[1;32m    156\u001b[0m         allow_unreachable=True, accumulate_grad=True)  # allow_unreachable flag\n",
      "\u001b[0;31mKeyboardInterrupt\u001b[0m: "
     ]
    }
   ],
   "source": [
    "model = train(dataset, num_features=dataset.data.shape[2], num_classes=len(torch.unique(dataset.labels)), batch_size=128, hidden_size=8, num_layers=2)"
   ]
  }
 ],
 "metadata": {
  "interpreter": {
   "hash": "34e9dc8c9cd4c2e3341692c7f5472da17e27c062a0f2ac63648b60e63867ef4a"
  },
  "kernelspec": {
   "display_name": "Python 3.9.7 64-bit ('ml': conda)",
   "language": "python",
   "name": "python3"
  },
  "language_info": {
   "codemirror_mode": {
    "name": "ipython",
    "version": 3
   },
   "file_extension": ".py",
   "mimetype": "text/x-python",
   "name": "python",
   "nbconvert_exporter": "python",
   "pygments_lexer": "ipython3",
   "version": "3.9.7"
  },
  "orig_nbformat": 4
 },
 "nbformat": 4,
 "nbformat_minor": 2
}
