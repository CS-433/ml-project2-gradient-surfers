{
 "cells": [
  {
   "cell_type": "code",
   "execution_count": 5,
   "metadata": {},
   "outputs": [
    {
     "name": "stdout",
     "output_type": "stream",
     "text": [
      "The autoreload extension is already loaded. To reload it, use:\n",
      "  %reload_ext autoreload\n"
     ]
    }
   ],
   "source": [
    "%load_ext autoreload\n",
    "%autoreload 2\n",
    "import numpy as np\n",
    "import sys\n",
    "sys.path.append('..')\n",
    "from pipeline import *\n",
    "from models import *"
   ]
  },
  {
   "cell_type": "code",
   "execution_count": 45,
   "metadata": {},
   "outputs": [
    {
     "name": "stderr",
     "output_type": "stream",
     "text": [
      "Processing ../data/AA66266AA.npy: 100%|██████████| 20085/20085 [03:21<00:00, 99.54it/s] \n",
      "Processing ../data/AA66566AA.npy: 100%|██████████| 20026/20026 [03:07<00:00, 106.83it/s]\n"
     ]
    }
   ],
   "source": [
    "pipeline = AABB245_Pipeline(num_blocks=32)\n",
    "dataset = PolymerDataset(['../data/AA66266AA.npy', '../data/AA66566AA.npy'], pipeline)"
   ]
  },
  {
   "cell_type": "code",
   "execution_count": 46,
   "metadata": {},
   "outputs": [
    {
     "data": {
      "text/plain": [
       "(torch.Size([40111, 32, 18]), torch.Size([40111]))"
      ]
     },
     "execution_count": 46,
     "metadata": {},
     "output_type": "execute_result"
    }
   ],
   "source": [
    "dataset.data.shape, dataset.labels.shape"
   ]
  },
  {
   "cell_type": "code",
   "execution_count": 47,
   "metadata": {},
   "outputs": [],
   "source": [
    "train_data, test_data = train_test_split(dataset)"
   ]
  },
  {
   "cell_type": "code",
   "execution_count": 51,
   "metadata": {},
   "outputs": [],
   "source": [
    "model = VanillaLSTM(input_dim=dataset.num_features, output_dim=dataset.num_classes)"
   ]
  },
  {
   "cell_type": "code",
   "execution_count": 52,
   "metadata": {},
   "outputs": [
    {
     "data": {
      "text/html": [
       "\n",
       "                    Syncing run <strong><a href=\"https://wandb.ai/mismayil/ml4science-polymers/runs/1n0r0pw8\" target=\"_blank\">mild-gorge-118</a></strong> to <a href=\"https://wandb.ai/mismayil/ml4science-polymers\" target=\"_blank\">Weights & Biases</a> (<a href=\"https://docs.wandb.com/integrations/jupyter.html\" target=\"_blank\">docs</a>).<br/>\n",
       "\n",
       "                "
      ],
      "text/plain": [
       "<IPython.core.display.HTML object>"
      ]
     },
     "metadata": {},
     "output_type": "display_data"
    },
    {
     "name": "stdout",
     "output_type": "stream",
     "text": [
      "epoch=0/100, loss=0.6560538770660521, accuracy=60.56904220581055\n",
      "epoch=1/100, loss=0.610845390766386, accuracy=65.75773620605469\n",
      "epoch=2/100, loss=0.5841019219822354, accuracy=69.03300476074219\n",
      "epoch=3/100, loss=0.568113194571601, accuracy=70.64414978027344\n",
      "epoch=4/100, loss=0.565961898319305, accuracy=70.83424377441406\n",
      "epoch=5/100, loss=0.5606987504732042, accuracy=70.96824645996094\n",
      "epoch=6/100, loss=0.5544883537860144, accuracy=71.59774017333984\n",
      "epoch=7/100, loss=0.5517977201749408, accuracy=71.85639953613281\n",
      "epoch=8/100, loss=0.554651225370074, accuracy=71.53541564941406\n",
      "epoch=9/100, loss=0.5499116106638833, accuracy=71.90937805175781\n",
      "epoch=10/100, loss=0.5511102941301134, accuracy=71.5572280883789\n",
      "epoch=11/100, loss=0.548184164932796, accuracy=72.06831359863281\n",
      "epoch=12/100, loss=0.5424110260274675, accuracy=72.383056640625\n",
      "epoch=13/100, loss=0.5410123301876916, accuracy=72.29268646240234\n",
      "epoch=14/100, loss=0.5409151069701664, accuracy=72.22100830078125\n",
      "epoch=15/100, loss=0.5379737587202162, accuracy=72.79129791259766\n",
      "epoch=16/100, loss=0.5368496009281704, accuracy=73.06864929199219\n",
      "epoch=17/100, loss=0.5381225522548433, accuracy=72.6822280883789\n",
      "epoch=18/100, loss=0.5305774476793077, accuracy=73.5267562866211\n",
      "epoch=19/100, loss=0.5340954519453502, accuracy=73.19330596923828\n",
      "epoch=20/100, loss=0.5323602032093775, accuracy=73.12786102294922\n",
      "epoch=21/100, loss=0.529112802611457, accuracy=73.50182342529297\n",
      "epoch=22/100, loss=0.5293109147321611, accuracy=73.31796264648438\n",
      "epoch=23/100, loss=0.5255909037022364, accuracy=73.69815063476562\n",
      "epoch=24/100, loss=0.5278139019769336, accuracy=73.67633819580078\n",
      "epoch=25/100, loss=0.5282952052260202, accuracy=73.60466003417969\n",
      "epoch=26/100, loss=0.52201994402068, accuracy=73.8508529663086\n",
      "epoch=27/100, loss=0.5275271733601888, accuracy=73.73554992675781\n",
      "epoch=28/100, loss=0.5284370335321578, accuracy=73.66075897216797\n",
      "epoch=29/100, loss=0.524539631037485, accuracy=73.82280731201172\n",
      "epoch=30/100, loss=0.5255166320573716, accuracy=73.70438385009766\n",
      "epoch=31/100, loss=0.5261499564799051, accuracy=73.63582611083984\n",
      "epoch=32/100, loss=0.5234753555721707, accuracy=73.76359558105469\n",
      "epoch=33/100, loss=0.5247977172571515, accuracy=73.64205932617188\n",
      "epoch=34/100, loss=0.5210048012317173, accuracy=74.01290130615234\n",
      "epoch=35/100, loss=0.5227482929116204, accuracy=73.71061706542969\n",
      "epoch=36/100, loss=0.5220998993941716, accuracy=73.81968688964844\n",
      "epoch=37/100, loss=0.5218223971979958, accuracy=73.95992279052734\n",
      "epoch=38/100, loss=0.5200483898321787, accuracy=73.81968688964844\n",
      "epoch=39/100, loss=0.5265738547794403, accuracy=73.78852844238281\n",
      "epoch=40/100, loss=0.5224344872293019, accuracy=73.77606201171875\n",
      "epoch=41/100, loss=0.5189687841468387, accuracy=73.80098724365234\n",
      "epoch=42/100, loss=0.5210101869371202, accuracy=73.92564392089844\n",
      "epoch=43/100, loss=0.5231376451159281, accuracy=73.9038314819336\n",
      "epoch=44/100, loss=0.5162737274926806, accuracy=74.47723388671875\n",
      "epoch=45/100, loss=0.5223023905640557, accuracy=73.9381103515625\n",
      "epoch=46/100, loss=0.5200768624033246, accuracy=74.0970458984375\n",
      "epoch=47/100, loss=0.5194850119333418, accuracy=74.00666809082031\n",
      "epoch=48/100, loss=0.516339415595645, accuracy=74.15313720703125\n",
      "epoch=49/100, loss=0.5198468911269355, accuracy=74.1219711303711\n",
      "epoch=50/100, loss=0.5207909303052085, accuracy=73.89136505126953\n",
      "epoch=51/100, loss=0.5238890751959786, accuracy=73.80722045898438\n",
      "epoch=52/100, loss=0.5215785162789481, accuracy=73.82904052734375\n",
      "epoch=53/100, loss=0.5193505604115743, accuracy=74.18741607666016\n",
      "epoch=54/100, loss=0.5198238856262631, accuracy=74.1313247680664\n",
      "epoch=55/100, loss=0.5163474574921623, accuracy=74.37439727783203\n",
      "epoch=56/100, loss=0.517964328092242, accuracy=74.07522583007812\n",
      "epoch=57/100, loss=0.5207581539002676, accuracy=74.04094696044922\n",
      "epoch=58/100, loss=0.5235097006199851, accuracy=73.93187713623047\n",
      "epoch=59/100, loss=0.5241482541674659, accuracy=73.78540802001953\n",
      "epoch=60/100, loss=0.5236530057967655, accuracy=73.81657409667969\n",
      "epoch=61/100, loss=0.5162416530980004, accuracy=74.21858215332031\n",
      "epoch=62/100, loss=0.5257183758039323, accuracy=73.65763854980469\n",
      "epoch=63/100, loss=0.51840864050956, accuracy=74.0097885131836\n",
      "epoch=64/100, loss=0.5191284153196547, accuracy=74.15313720703125\n",
      "epoch=65/100, loss=0.5199558474714794, accuracy=74.04094696044922\n",
      "epoch=66/100, loss=0.5212492592751033, accuracy=73.82592010498047\n",
      "epoch=67/100, loss=0.5211950606769986, accuracy=74.01290130615234\n",
      "epoch=68/100, loss=0.521762072093903, accuracy=74.14690399169922\n",
      "epoch=69/100, loss=0.5194106759533049, accuracy=74.23727416992188\n",
      "epoch=70/100, loss=0.514932514183105, accuracy=74.48970031738281\n",
      "epoch=71/100, loss=0.51958691033106, accuracy=74.15625\n",
      "epoch=72/100, loss=0.5188698494245135, accuracy=74.08769226074219\n",
      "epoch=73/100, loss=0.5212904072943187, accuracy=74.08145904541016\n",
      "epoch=74/100, loss=0.5163793852404942, accuracy=74.11573791503906\n",
      "epoch=75/100, loss=0.519463040525951, accuracy=74.0689926147461\n",
      "epoch=76/100, loss=0.5168021212494562, accuracy=74.0689926147461\n",
      "epoch=77/100, loss=0.5200336859339759, accuracy=73.89136505126953\n",
      "epoch=78/100, loss=0.5192780253433046, accuracy=73.98796844482422\n",
      "epoch=79/100, loss=0.5188195175594754, accuracy=74.33076477050781\n",
      "epoch=80/100, loss=0.5199029431456611, accuracy=74.29025268554688\n",
      "epoch=81/100, loss=0.5214554464060163, accuracy=73.82280731201172\n",
      "epoch=82/100, loss=0.5246922870477041, accuracy=73.78229522705078\n",
      "epoch=83/100, loss=0.5167492722708081, accuracy=73.99732208251953\n",
      "epoch=84/100, loss=0.5220514781891353, accuracy=73.95057678222656\n",
      "epoch=85/100, loss=0.521968888858008, accuracy=73.7791748046875\n",
      "epoch=86/100, loss=0.5167813466654884, accuracy=74.21858215332031\n",
      "epoch=87/100, loss=0.5204292185722835, accuracy=74.10950469970703\n",
      "epoch=88/100, loss=0.5208666423956553, accuracy=74.09081268310547\n",
      "epoch=89/100, loss=0.5184427679531158, accuracy=74.00355529785156\n",
      "epoch=90/100, loss=0.5153998609573122, accuracy=74.22169494628906\n",
      "epoch=91/100, loss=0.5193100793967171, accuracy=74.22481536865234\n",
      "epoch=92/100, loss=0.5168405700297583, accuracy=74.25909423828125\n",
      "epoch=93/100, loss=0.520738212835221, accuracy=73.93187713623047\n",
      "epoch=94/100, loss=0.5181641834122794, accuracy=74.09081268310547\n",
      "epoch=95/100, loss=0.5208797719743516, accuracy=73.99420166015625\n",
      "epoch=96/100, loss=0.5161922895719134, accuracy=74.36193084716797\n",
      "epoch=97/100, loss=0.5239728826379019, accuracy=73.65140533447266\n",
      "epoch=98/100, loss=0.5141164220514751, accuracy=74.43360900878906\n",
      "epoch=99/100, loss=0.5187729218649486, accuracy=73.9381103515625\n"
     ]
    },
    {
     "data": {
      "text/html": [
       "Waiting for W&B process to finish, PID 84557... <strong style=\"color:green\">(success).</strong>"
      ],
      "text/plain": [
       "<IPython.core.display.HTML object>"
      ]
     },
     "metadata": {},
     "output_type": "display_data"
    },
    {
     "data": {
      "application/vnd.jupyter.widget-view+json": {
       "model_id": "fbd6e1eaf60b4f8ebf844320467f9e56",
       "version_major": 2,
       "version_minor": 0
      },
      "text/plain": [
       "VBox(children=(Label(value=' 0.00MB of 0.00MB uploaded (0.00MB deduped)\\r'), FloatProgress(value=1.0, max=1.0)…"
      ]
     },
     "metadata": {},
     "output_type": "display_data"
    },
    {
     "data": {
      "text/html": [
       "Synced <strong style=\"color:#cdcd00\">mild-gorge-118</strong>: <a href=\"https://wandb.ai/mismayil/ml4science-polymers/runs/1n0r0pw8\" target=\"_blank\">https://wandb.ai/mismayil/ml4science-polymers/runs/1n0r0pw8</a><br/>\n"
      ],
      "text/plain": [
       "<IPython.core.display.HTML object>"
      ]
     },
     "metadata": {},
     "output_type": "display_data"
    }
   ],
   "source": [
    "model, metrics = train(train_dataset=train_data, test_dataset=test_data, model=model, batch_size=512, num_epochs=100, lr_rate=0.01)"
   ]
  },
  {
   "cell_type": "code",
   "execution_count": 20,
   "metadata": {},
   "outputs": [
    {
     "name": "stderr",
     "output_type": "stream",
     "text": [
      "Processing ../data/AA66266AA.npy: 100%|██████████| 20085/20085 [00:57<00:00, 347.45it/s]\n",
      "Processing ../data/AA66466AA.npy: 100%|██████████| 20752/20752 [01:40<00:00, 206.58it/s]\n"
     ]
    },
    {
     "data": {
      "text/html": [
       "\n",
       "                    Syncing run <strong><a href=\"https://wandb.ai/mismayil/ml4science-polymers/runs/1wi9nfwi\" target=\"_blank\">azure-grass-6</a></strong> to <a href=\"https://wandb.ai/mismayil/ml4science-polymers\" target=\"_blank\">Weights & Biases</a> (<a href=\"https://docs.wandb.com/integrations/jupyter.html\" target=\"_blank\">docs</a>).<br/>\n",
       "\n",
       "                "
      ],
      "text/plain": [
       "<IPython.core.display.HTML object>"
      ]
     },
     "metadata": {},
     "output_type": "display_data"
    },
    {
     "data": {
      "text/html": [
       "Waiting for W&B process to finish, PID 72858... <strong style=\"color:green\">(success).</strong>"
      ],
      "text/plain": [
       "<IPython.core.display.HTML object>"
      ]
     },
     "metadata": {},
     "output_type": "display_data"
    },
    {
     "data": {
      "application/vnd.jupyter.widget-view+json": {
       "model_id": "2b53e53a0dd148ff9b32e1929022f5d0",
       "version_major": 2,
       "version_minor": 0
      },
      "text/plain": [
       "VBox(children=(Label(value=' 0.00MB of 0.00MB uploaded (0.00MB deduped)\\r'), FloatProgress(value=1.0, max=1.0)…"
      ]
     },
     "metadata": {},
     "output_type": "display_data"
    },
    {
     "data": {
      "text/html": [
       "Synced <strong style=\"color:#cdcd00\">azure-grass-6</strong>: <a href=\"https://wandb.ai/mismayil/ml4science-polymers/runs/1wi9nfwi\" target=\"_blank\">https://wandb.ai/mismayil/ml4science-polymers/runs/1wi9nfwi</a><br/>\n"
      ],
      "text/plain": [
       "<IPython.core.display.HTML object>"
      ]
     },
     "metadata": {},
     "output_type": "display_data"
    },
    {
     "name": "stderr",
     "output_type": "stream",
     "text": [
      "Processing ../data/AA66266AA.npy: 100%|██████████| 20085/20085 [00:57<00:00, 351.08it/s]\n",
      "Processing ../data/AA66466AA.npy: 100%|██████████| 20752/20752 [01:39<00:00, 208.06it/s]\n"
     ]
    },
    {
     "data": {
      "text/html": [
       "\n",
       "                    Syncing run <strong><a href=\"https://wandb.ai/mismayil/ml4science-polymers/runs/w1ld8a7x\" target=\"_blank\">warm-haze-7</a></strong> to <a href=\"https://wandb.ai/mismayil/ml4science-polymers\" target=\"_blank\">Weights & Biases</a> (<a href=\"https://docs.wandb.com/integrations/jupyter.html\" target=\"_blank\">docs</a>).<br/>\n",
       "\n",
       "                "
      ],
      "text/plain": [
       "<IPython.core.display.HTML object>"
      ]
     },
     "metadata": {},
     "output_type": "display_data"
    },
    {
     "data": {
      "text/html": [
       "Waiting for W&B process to finish, PID 72908... <strong style=\"color:green\">(success).</strong>"
      ],
      "text/plain": [
       "<IPython.core.display.HTML object>"
      ]
     },
     "metadata": {},
     "output_type": "display_data"
    },
    {
     "data": {
      "application/vnd.jupyter.widget-view+json": {
       "model_id": "576fbe60b46f4c8d9d927804a3be1046",
       "version_major": 2,
       "version_minor": 0
      },
      "text/plain": [
       "VBox(children=(Label(value=' 0.00MB of 0.00MB uploaded (0.00MB deduped)\\r'), FloatProgress(value=1.0, max=1.0)…"
      ]
     },
     "metadata": {},
     "output_type": "display_data"
    },
    {
     "data": {
      "text/html": [
       "Synced <strong style=\"color:#cdcd00\">warm-haze-7</strong>: <a href=\"https://wandb.ai/mismayil/ml4science-polymers/runs/w1ld8a7x\" target=\"_blank\">https://wandb.ai/mismayil/ml4science-polymers/runs/w1ld8a7x</a><br/>\n"
      ],
      "text/plain": [
       "<IPython.core.display.HTML object>"
      ]
     },
     "metadata": {},
     "output_type": "display_data"
    },
    {
     "name": "stderr",
     "output_type": "stream",
     "text": [
      "Processing ../data/AA66266AA.npy: 100%|██████████| 20085/20085 [00:58<00:00, 343.68it/s]\n",
      "Processing ../data/AA66466AA.npy: 100%|██████████| 20752/20752 [01:35<00:00, 217.00it/s]\n"
     ]
    },
    {
     "data": {
      "text/html": [
       "\n",
       "                    Syncing run <strong><a href=\"https://wandb.ai/mismayil/ml4science-polymers/runs/89v4nnpi\" target=\"_blank\">jolly-fire-8</a></strong> to <a href=\"https://wandb.ai/mismayil/ml4science-polymers\" target=\"_blank\">Weights & Biases</a> (<a href=\"https://docs.wandb.com/integrations/jupyter.html\" target=\"_blank\">docs</a>).<br/>\n",
       "\n",
       "                "
      ],
      "text/plain": [
       "<IPython.core.display.HTML object>"
      ]
     },
     "metadata": {},
     "output_type": "display_data"
    },
    {
     "data": {
      "text/html": [
       "Waiting for W&B process to finish, PID 72966... <strong style=\"color:green\">(success).</strong>"
      ],
      "text/plain": [
       "<IPython.core.display.HTML object>"
      ]
     },
     "metadata": {},
     "output_type": "display_data"
    },
    {
     "data": {
      "application/vnd.jupyter.widget-view+json": {
       "model_id": "320c258e652c46eeafbf5191ba946b09",
       "version_major": 2,
       "version_minor": 0
      },
      "text/plain": [
       "VBox(children=(Label(value=' 0.00MB of 0.00MB uploaded (0.00MB deduped)\\r'), FloatProgress(value=1.0, max=1.0)…"
      ]
     },
     "metadata": {},
     "output_type": "display_data"
    },
    {
     "data": {
      "text/html": [
       "Synced <strong style=\"color:#cdcd00\">jolly-fire-8</strong>: <a href=\"https://wandb.ai/mismayil/ml4science-polymers/runs/89v4nnpi\" target=\"_blank\">https://wandb.ai/mismayil/ml4science-polymers/runs/89v4nnpi</a><br/>\n"
      ],
      "text/plain": [
       "<IPython.core.display.HTML object>"
      ]
     },
     "metadata": {},
     "output_type": "display_data"
    },
    {
     "name": "stderr",
     "output_type": "stream",
     "text": [
      "Processing ../data/AA66266AA.npy: 100%|██████████| 20085/20085 [00:53<00:00, 373.47it/s]\n",
      "Processing ../data/AA66466AA.npy: 100%|██████████| 20752/20752 [01:33<00:00, 221.36it/s]\n"
     ]
    },
    {
     "data": {
      "text/html": [
       "\n",
       "                    Syncing run <strong><a href=\"https://wandb.ai/mismayil/ml4science-polymers/runs/5xp8s35o\" target=\"_blank\">smart-microwave-9</a></strong> to <a href=\"https://wandb.ai/mismayil/ml4science-polymers\" target=\"_blank\">Weights & Biases</a> (<a href=\"https://docs.wandb.com/integrations/jupyter.html\" target=\"_blank\">docs</a>).<br/>\n",
       "\n",
       "                "
      ],
      "text/plain": [
       "<IPython.core.display.HTML object>"
      ]
     },
     "metadata": {},
     "output_type": "display_data"
    },
    {
     "data": {
      "text/html": [
       "Waiting for W&B process to finish, PID 72985... <strong style=\"color:green\">(success).</strong>"
      ],
      "text/plain": [
       "<IPython.core.display.HTML object>"
      ]
     },
     "metadata": {},
     "output_type": "display_data"
    },
    {
     "data": {
      "application/vnd.jupyter.widget-view+json": {
       "model_id": "f39b009d6b9747e78e7c20ecfcb4741f",
       "version_major": 2,
       "version_minor": 0
      },
      "text/plain": [
       "VBox(children=(Label(value=' 0.00MB of 0.00MB uploaded (0.00MB deduped)\\r'), FloatProgress(value=1.0, max=1.0)…"
      ]
     },
     "metadata": {},
     "output_type": "display_data"
    },
    {
     "data": {
      "text/html": [
       "Synced <strong style=\"color:#cdcd00\">smart-microwave-9</strong>: <a href=\"https://wandb.ai/mismayil/ml4science-polymers/runs/5xp8s35o\" target=\"_blank\">https://wandb.ai/mismayil/ml4science-polymers/runs/5xp8s35o</a><br/>\n"
      ],
      "text/plain": [
       "<IPython.core.display.HTML object>"
      ]
     },
     "metadata": {},
     "output_type": "display_data"
    },
    {
     "name": "stderr",
     "output_type": "stream",
     "text": [
      "Processing ../data/AA66266AA.npy: 100%|██████████| 20085/20085 [01:08<00:00, 293.39it/s]\n",
      "Processing ../data/AA66466AA.npy: 100%|██████████| 20752/20752 [01:50<00:00, 187.09it/s]\n"
     ]
    },
    {
     "data": {
      "text/html": [
       "\n",
       "                    Syncing run <strong><a href=\"https://wandb.ai/mismayil/ml4science-polymers/runs/37t67i99\" target=\"_blank\">ethereal-violet-10</a></strong> to <a href=\"https://wandb.ai/mismayil/ml4science-polymers\" target=\"_blank\">Weights & Biases</a> (<a href=\"https://docs.wandb.com/integrations/jupyter.html\" target=\"_blank\">docs</a>).<br/>\n",
       "\n",
       "                "
      ],
      "text/plain": [
       "<IPython.core.display.HTML object>"
      ]
     },
     "metadata": {},
     "output_type": "display_data"
    },
    {
     "data": {
      "text/html": [
       "Waiting for W&B process to finish, PID 73017... <strong style=\"color:green\">(success).</strong>"
      ],
      "text/plain": [
       "<IPython.core.display.HTML object>"
      ]
     },
     "metadata": {},
     "output_type": "display_data"
    },
    {
     "data": {
      "application/vnd.jupyter.widget-view+json": {
       "model_id": "010073c28d8a4253849ebaa8c427977a",
       "version_major": 2,
       "version_minor": 0
      },
      "text/plain": [
       "VBox(children=(Label(value=' 0.00MB of 0.00MB uploaded (0.00MB deduped)\\r'), FloatProgress(value=1.0, max=1.0)…"
      ]
     },
     "metadata": {},
     "output_type": "display_data"
    },
    {
     "data": {
      "text/html": [
       "Synced <strong style=\"color:#cdcd00\">ethereal-violet-10</strong>: <a href=\"https://wandb.ai/mismayil/ml4science-polymers/runs/37t67i99\" target=\"_blank\">https://wandb.ai/mismayil/ml4science-polymers/runs/37t67i99</a><br/>\n"
      ],
      "text/plain": [
       "<IPython.core.display.HTML object>"
      ]
     },
     "metadata": {},
     "output_type": "display_data"
    },
    {
     "name": "stderr",
     "output_type": "stream",
     "text": [
      "Processing ../data/AA66266AA.npy: 100%|██████████| 20085/20085 [01:08<00:00, 293.06it/s]\n",
      "Processing ../data/AA66466AA.npy: 100%|██████████| 20752/20752 [01:50<00:00, 187.08it/s]\n"
     ]
    },
    {
     "data": {
      "text/html": [
       "\n",
       "                    Syncing run <strong><a href=\"https://wandb.ai/mismayil/ml4science-polymers/runs/e4holisb\" target=\"_blank\">dandy-haze-11</a></strong> to <a href=\"https://wandb.ai/mismayil/ml4science-polymers\" target=\"_blank\">Weights & Biases</a> (<a href=\"https://docs.wandb.com/integrations/jupyter.html\" target=\"_blank\">docs</a>).<br/>\n",
       "\n",
       "                "
      ],
      "text/plain": [
       "<IPython.core.display.HTML object>"
      ]
     },
     "metadata": {},
     "output_type": "display_data"
    },
    {
     "data": {
      "text/html": [
       "Waiting for W&B process to finish, PID 73041... <strong style=\"color:green\">(success).</strong>"
      ],
      "text/plain": [
       "<IPython.core.display.HTML object>"
      ]
     },
     "metadata": {},
     "output_type": "display_data"
    },
    {
     "data": {
      "application/vnd.jupyter.widget-view+json": {
       "model_id": "3f84c424c91d4898aa1e55aacd43cb6d",
       "version_major": 2,
       "version_minor": 0
      },
      "text/plain": [
       "VBox(children=(Label(value=' 0.00MB of 0.00MB uploaded (0.00MB deduped)\\r'), FloatProgress(value=1.0, max=1.0)…"
      ]
     },
     "metadata": {},
     "output_type": "display_data"
    },
    {
     "data": {
      "text/html": [
       "Synced <strong style=\"color:#cdcd00\">dandy-haze-11</strong>: <a href=\"https://wandb.ai/mismayil/ml4science-polymers/runs/e4holisb\" target=\"_blank\">https://wandb.ai/mismayil/ml4science-polymers/runs/e4holisb</a><br/>\n"
      ],
      "text/plain": [
       "<IPython.core.display.HTML object>"
      ]
     },
     "metadata": {},
     "output_type": "display_data"
    },
    {
     "name": "stderr",
     "output_type": "stream",
     "text": [
      "Processing ../data/AA66266AA.npy: 100%|██████████| 20085/20085 [01:08<00:00, 295.20it/s]\n",
      "Processing ../data/AA66466AA.npy: 100%|██████████| 20752/20752 [01:52<00:00, 185.24it/s]\n"
     ]
    },
    {
     "data": {
      "text/html": [
       "\n",
       "                    Syncing run <strong><a href=\"https://wandb.ai/mismayil/ml4science-polymers/runs/3tofrnj0\" target=\"_blank\">good-terrain-12</a></strong> to <a href=\"https://wandb.ai/mismayil/ml4science-polymers\" target=\"_blank\">Weights & Biases</a> (<a href=\"https://docs.wandb.com/integrations/jupyter.html\" target=\"_blank\">docs</a>).<br/>\n",
       "\n",
       "                "
      ],
      "text/plain": [
       "<IPython.core.display.HTML object>"
      ]
     },
     "metadata": {},
     "output_type": "display_data"
    },
    {
     "data": {
      "text/html": [
       "Waiting for W&B process to finish, PID 73073... <strong style=\"color:green\">(success).</strong>"
      ],
      "text/plain": [
       "<IPython.core.display.HTML object>"
      ]
     },
     "metadata": {},
     "output_type": "display_data"
    },
    {
     "data": {
      "application/vnd.jupyter.widget-view+json": {
       "model_id": "7bc0ffe104574dccbf5a54bf35c8c3ed",
       "version_major": 2,
       "version_minor": 0
      },
      "text/plain": [
       "VBox(children=(Label(value=' 0.00MB of 0.00MB uploaded (0.00MB deduped)\\r'), FloatProgress(value=1.0, max=1.0)…"
      ]
     },
     "metadata": {},
     "output_type": "display_data"
    },
    {
     "data": {
      "text/html": [
       "Synced <strong style=\"color:#cdcd00\">good-terrain-12</strong>: <a href=\"https://wandb.ai/mismayil/ml4science-polymers/runs/3tofrnj0\" target=\"_blank\">https://wandb.ai/mismayil/ml4science-polymers/runs/3tofrnj0</a><br/>\n"
      ],
      "text/plain": [
       "<IPython.core.display.HTML object>"
      ]
     },
     "metadata": {},
     "output_type": "display_data"
    },
    {
     "name": "stderr",
     "output_type": "stream",
     "text": [
      "Processing ../data/AA66266AA.npy: 100%|██████████| 20085/20085 [01:09<00:00, 287.60it/s]\n",
      "Processing ../data/AA66466AA.npy: 100%|██████████| 20752/20752 [01:52<00:00, 184.95it/s]\n"
     ]
    },
    {
     "data": {
      "text/html": [
       "\n",
       "                    Syncing run <strong><a href=\"https://wandb.ai/mismayil/ml4science-polymers/runs/315ylhlp\" target=\"_blank\">swift-smoke-13</a></strong> to <a href=\"https://wandb.ai/mismayil/ml4science-polymers\" target=\"_blank\">Weights & Biases</a> (<a href=\"https://docs.wandb.com/integrations/jupyter.html\" target=\"_blank\">docs</a>).<br/>\n",
       "\n",
       "                "
      ],
      "text/plain": [
       "<IPython.core.display.HTML object>"
      ]
     },
     "metadata": {},
     "output_type": "display_data"
    },
    {
     "data": {
      "text/html": [
       "Waiting for W&B process to finish, PID 73102... <strong style=\"color:green\">(success).</strong>"
      ],
      "text/plain": [
       "<IPython.core.display.HTML object>"
      ]
     },
     "metadata": {},
     "output_type": "display_data"
    },
    {
     "data": {
      "application/vnd.jupyter.widget-view+json": {
       "model_id": "0fa731d91eff465dadb2fbfe17e90583",
       "version_major": 2,
       "version_minor": 0
      },
      "text/plain": [
       "VBox(children=(Label(value=' 0.00MB of 0.00MB uploaded (0.00MB deduped)\\r'), FloatProgress(value=1.0, max=1.0)…"
      ]
     },
     "metadata": {},
     "output_type": "display_data"
    },
    {
     "data": {
      "text/html": [
       "Synced <strong style=\"color:#cdcd00\">swift-smoke-13</strong>: <a href=\"https://wandb.ai/mismayil/ml4science-polymers/runs/315ylhlp\" target=\"_blank\">https://wandb.ai/mismayil/ml4science-polymers/runs/315ylhlp</a><br/>\n"
      ],
      "text/plain": [
       "<IPython.core.display.HTML object>"
      ]
     },
     "metadata": {},
     "output_type": "display_data"
    },
    {
     "name": "stderr",
     "output_type": "stream",
     "text": [
      "Processing ../data/AA66266AA.npy: 100%|██████████| 20085/20085 [01:32<00:00, 216.52it/s]\n",
      "Processing ../data/AA66466AA.npy: 100%|██████████| 20752/20752 [02:19<00:00, 148.49it/s]\n"
     ]
    },
    {
     "data": {
      "text/html": [
       "\n",
       "                    Syncing run <strong><a href=\"https://wandb.ai/mismayil/ml4science-polymers/runs/pbmlwrwo\" target=\"_blank\">jolly-grass-14</a></strong> to <a href=\"https://wandb.ai/mismayil/ml4science-polymers\" target=\"_blank\">Weights & Biases</a> (<a href=\"https://docs.wandb.com/integrations/jupyter.html\" target=\"_blank\">docs</a>).<br/>\n",
       "\n",
       "                "
      ],
      "text/plain": [
       "<IPython.core.display.HTML object>"
      ]
     },
     "metadata": {},
     "output_type": "display_data"
    },
    {
     "data": {
      "text/html": [
       "Waiting for W&B process to finish, PID 73132... <strong style=\"color:green\">(success).</strong>"
      ],
      "text/plain": [
       "<IPython.core.display.HTML object>"
      ]
     },
     "metadata": {},
     "output_type": "display_data"
    },
    {
     "data": {
      "application/vnd.jupyter.widget-view+json": {
       "model_id": "16fbf15bbba1441e83b127df94817dab",
       "version_major": 2,
       "version_minor": 0
      },
      "text/plain": [
       "VBox(children=(Label(value=' 0.00MB of 0.00MB uploaded (0.00MB deduped)\\r'), FloatProgress(value=1.0, max=1.0)…"
      ]
     },
     "metadata": {},
     "output_type": "display_data"
    },
    {
     "data": {
      "text/html": [
       "Synced <strong style=\"color:#cdcd00\">jolly-grass-14</strong>: <a href=\"https://wandb.ai/mismayil/ml4science-polymers/runs/pbmlwrwo\" target=\"_blank\">https://wandb.ai/mismayil/ml4science-polymers/runs/pbmlwrwo</a><br/>\n"
      ],
      "text/plain": [
       "<IPython.core.display.HTML object>"
      ]
     },
     "metadata": {},
     "output_type": "display_data"
    },
    {
     "name": "stderr",
     "output_type": "stream",
     "text": [
      "Processing ../data/AA66266AA.npy: 100%|██████████| 20085/20085 [01:32<00:00, 216.42it/s]\n",
      "Processing ../data/AA66466AA.npy: 100%|██████████| 20752/20752 [02:20<00:00, 147.96it/s]\n"
     ]
    },
    {
     "data": {
      "text/html": [
       "\n",
       "                    Syncing run <strong><a href=\"https://wandb.ai/mismayil/ml4science-polymers/runs/1lz1idce\" target=\"_blank\">dark-darkness-15</a></strong> to <a href=\"https://wandb.ai/mismayil/ml4science-polymers\" target=\"_blank\">Weights & Biases</a> (<a href=\"https://docs.wandb.com/integrations/jupyter.html\" target=\"_blank\">docs</a>).<br/>\n",
       "\n",
       "                "
      ],
      "text/plain": [
       "<IPython.core.display.HTML object>"
      ]
     },
     "metadata": {},
     "output_type": "display_data"
    },
    {
     "data": {
      "text/html": [
       "Waiting for W&B process to finish, PID 73159... <strong style=\"color:green\">(success).</strong>"
      ],
      "text/plain": [
       "<IPython.core.display.HTML object>"
      ]
     },
     "metadata": {},
     "output_type": "display_data"
    },
    {
     "data": {
      "application/vnd.jupyter.widget-view+json": {
       "model_id": "7760912654d642ceb78d8131cef28934",
       "version_major": 2,
       "version_minor": 0
      },
      "text/plain": [
       "VBox(children=(Label(value=' 0.00MB of 0.00MB uploaded (0.00MB deduped)\\r'), FloatProgress(value=1.0, max=1.0)…"
      ]
     },
     "metadata": {},
     "output_type": "display_data"
    },
    {
     "data": {
      "text/html": [
       "Synced <strong style=\"color:#cdcd00\">dark-darkness-15</strong>: <a href=\"https://wandb.ai/mismayil/ml4science-polymers/runs/1lz1idce\" target=\"_blank\">https://wandb.ai/mismayil/ml4science-polymers/runs/1lz1idce</a><br/>\n"
      ],
      "text/plain": [
       "<IPython.core.display.HTML object>"
      ]
     },
     "metadata": {},
     "output_type": "display_data"
    },
    {
     "name": "stderr",
     "output_type": "stream",
     "text": [
      "Processing ../data/AA66266AA.npy: 100%|██████████| 20085/20085 [01:32<00:00, 217.18it/s]\n",
      "Processing ../data/AA66466AA.npy: 100%|██████████| 20752/20752 [02:19<00:00, 148.50it/s]\n"
     ]
    },
    {
     "data": {
      "text/html": [
       "\n",
       "                    Syncing run <strong><a href=\"https://wandb.ai/mismayil/ml4science-polymers/runs/2eook97e\" target=\"_blank\">jolly-field-16</a></strong> to <a href=\"https://wandb.ai/mismayil/ml4science-polymers\" target=\"_blank\">Weights & Biases</a> (<a href=\"https://docs.wandb.com/integrations/jupyter.html\" target=\"_blank\">docs</a>).<br/>\n",
       "\n",
       "                "
      ],
      "text/plain": [
       "<IPython.core.display.HTML object>"
      ]
     },
     "metadata": {},
     "output_type": "display_data"
    },
    {
     "data": {
      "text/html": [
       "Waiting for W&B process to finish, PID 73188... <strong style=\"color:green\">(success).</strong>"
      ],
      "text/plain": [
       "<IPython.core.display.HTML object>"
      ]
     },
     "metadata": {},
     "output_type": "display_data"
    },
    {
     "data": {
      "application/vnd.jupyter.widget-view+json": {
       "model_id": "8a47c5e271a94bc9a0208841729e4278",
       "version_major": 2,
       "version_minor": 0
      },
      "text/plain": [
       "VBox(children=(Label(value=' 0.00MB of 0.00MB uploaded (0.00MB deduped)\\r'), FloatProgress(value=1.0, max=1.0)…"
      ]
     },
     "metadata": {},
     "output_type": "display_data"
    },
    {
     "data": {
      "text/html": [
       "Synced <strong style=\"color:#cdcd00\">jolly-field-16</strong>: <a href=\"https://wandb.ai/mismayil/ml4science-polymers/runs/2eook97e\" target=\"_blank\">https://wandb.ai/mismayil/ml4science-polymers/runs/2eook97e</a><br/>\n"
      ],
      "text/plain": [
       "<IPython.core.display.HTML object>"
      ]
     },
     "metadata": {},
     "output_type": "display_data"
    },
    {
     "name": "stderr",
     "output_type": "stream",
     "text": [
      "Processing ../data/AA66266AA.npy: 100%|██████████| 20085/20085 [01:32<00:00, 217.21it/s]\n",
      "Processing ../data/AA66466AA.npy: 100%|██████████| 20752/20752 [02:19<00:00, 148.57it/s]\n"
     ]
    },
    {
     "data": {
      "text/html": [
       "\n",
       "                    Syncing run <strong><a href=\"https://wandb.ai/mismayil/ml4science-polymers/runs/s1cmisdk\" target=\"_blank\">stellar-dragon-17</a></strong> to <a href=\"https://wandb.ai/mismayil/ml4science-polymers\" target=\"_blank\">Weights & Biases</a> (<a href=\"https://docs.wandb.com/integrations/jupyter.html\" target=\"_blank\">docs</a>).<br/>\n",
       "\n",
       "                "
      ],
      "text/plain": [
       "<IPython.core.display.HTML object>"
      ]
     },
     "metadata": {},
     "output_type": "display_data"
    },
    {
     "data": {
      "text/html": [
       "Waiting for W&B process to finish, PID 73224... <strong style=\"color:green\">(success).</strong>"
      ],
      "text/plain": [
       "<IPython.core.display.HTML object>"
      ]
     },
     "metadata": {},
     "output_type": "display_data"
    },
    {
     "data": {
      "application/vnd.jupyter.widget-view+json": {
       "model_id": "79a18652d8a645fc952ebd4e603c86b0",
       "version_major": 2,
       "version_minor": 0
      },
      "text/plain": [
       "VBox(children=(Label(value=' 0.00MB of 0.00MB uploaded (0.00MB deduped)\\r'), FloatProgress(value=1.0, max=1.0)…"
      ]
     },
     "metadata": {},
     "output_type": "display_data"
    },
    {
     "data": {
      "text/html": [
       "Synced <strong style=\"color:#cdcd00\">stellar-dragon-17</strong>: <a href=\"https://wandb.ai/mismayil/ml4science-polymers/runs/s1cmisdk\" target=\"_blank\">https://wandb.ai/mismayil/ml4science-polymers/runs/s1cmisdk</a><br/>\n"
      ],
      "text/plain": [
       "<IPython.core.display.HTML object>"
      ]
     },
     "metadata": {},
     "output_type": "display_data"
    },
    {
     "name": "stderr",
     "output_type": "stream",
     "text": [
      "Processing ../data/AA66266AA.npy: 100%|██████████| 20085/20085 [02:13<00:00, 150.60it/s]\n",
      "Processing ../data/AA66466AA.npy: 100%|██████████| 20752/20752 [03:07<00:00, 110.42it/s]\n"
     ]
    },
    {
     "data": {
      "text/html": [
       "\n",
       "                    Syncing run <strong><a href=\"https://wandb.ai/mismayil/ml4science-polymers/runs/3omjs12a\" target=\"_blank\">fanciful-water-18</a></strong> to <a href=\"https://wandb.ai/mismayil/ml4science-polymers\" target=\"_blank\">Weights & Biases</a> (<a href=\"https://docs.wandb.com/integrations/jupyter.html\" target=\"_blank\">docs</a>).<br/>\n",
       "\n",
       "                "
      ],
      "text/plain": [
       "<IPython.core.display.HTML object>"
      ]
     },
     "metadata": {},
     "output_type": "display_data"
    },
    {
     "data": {
      "text/html": [
       "Waiting for W&B process to finish, PID 73251... <strong style=\"color:green\">(success).</strong>"
      ],
      "text/plain": [
       "<IPython.core.display.HTML object>"
      ]
     },
     "metadata": {},
     "output_type": "display_data"
    },
    {
     "data": {
      "application/vnd.jupyter.widget-view+json": {
       "model_id": "46f093f6284d4471885dd2156c452e60",
       "version_major": 2,
       "version_minor": 0
      },
      "text/plain": [
       "VBox(children=(Label(value=' 0.00MB of 0.00MB uploaded (0.00MB deduped)\\r'), FloatProgress(value=1.0, max=1.0)…"
      ]
     },
     "metadata": {},
     "output_type": "display_data"
    },
    {
     "data": {
      "text/html": [
       "Synced <strong style=\"color:#cdcd00\">fanciful-water-18</strong>: <a href=\"https://wandb.ai/mismayil/ml4science-polymers/runs/3omjs12a\" target=\"_blank\">https://wandb.ai/mismayil/ml4science-polymers/runs/3omjs12a</a><br/>\n"
      ],
      "text/plain": [
       "<IPython.core.display.HTML object>"
      ]
     },
     "metadata": {},
     "output_type": "display_data"
    },
    {
     "name": "stderr",
     "output_type": "stream",
     "text": [
      "Processing ../data/AA66266AA.npy: 100%|██████████| 20085/20085 [02:13<00:00, 150.46it/s]\n",
      "Processing ../data/AA66466AA.npy: 100%|██████████| 20752/20752 [03:08<00:00, 110.37it/s]\n"
     ]
    },
    {
     "data": {
      "text/html": [
       "\n",
       "                    Syncing run <strong><a href=\"https://wandb.ai/mismayil/ml4science-polymers/runs/2uim1gum\" target=\"_blank\">prime-mountain-19</a></strong> to <a href=\"https://wandb.ai/mismayil/ml4science-polymers\" target=\"_blank\">Weights & Biases</a> (<a href=\"https://docs.wandb.com/integrations/jupyter.html\" target=\"_blank\">docs</a>).<br/>\n",
       "\n",
       "                "
      ],
      "text/plain": [
       "<IPython.core.display.HTML object>"
      ]
     },
     "metadata": {},
     "output_type": "display_data"
    },
    {
     "data": {
      "text/html": [
       "Waiting for W&B process to finish, PID 73293... <strong style=\"color:green\">(success).</strong>"
      ],
      "text/plain": [
       "<IPython.core.display.HTML object>"
      ]
     },
     "metadata": {},
     "output_type": "display_data"
    },
    {
     "data": {
      "application/vnd.jupyter.widget-view+json": {
       "model_id": "53419a52d77a4d89b2e9aff6155bd3ec",
       "version_major": 2,
       "version_minor": 0
      },
      "text/plain": [
       "VBox(children=(Label(value=' 0.00MB of 0.00MB uploaded (0.00MB deduped)\\r'), FloatProgress(value=1.0, max=1.0)…"
      ]
     },
     "metadata": {},
     "output_type": "display_data"
    },
    {
     "data": {
      "text/html": [
       "Synced <strong style=\"color:#cdcd00\">prime-mountain-19</strong>: <a href=\"https://wandb.ai/mismayil/ml4science-polymers/runs/2uim1gum\" target=\"_blank\">https://wandb.ai/mismayil/ml4science-polymers/runs/2uim1gum</a><br/>\n"
      ],
      "text/plain": [
       "<IPython.core.display.HTML object>"
      ]
     },
     "metadata": {},
     "output_type": "display_data"
    },
    {
     "name": "stderr",
     "output_type": "stream",
     "text": [
      "Processing ../data/AA66266AA.npy: 100%|██████████| 20085/20085 [02:12<00:00, 152.13it/s]\n",
      "Processing ../data/AA66466AA.npy: 100%|██████████| 20752/20752 [03:06<00:00, 111.01it/s]\n"
     ]
    },
    {
     "data": {
      "text/html": [
       "\n",
       "                    Syncing run <strong><a href=\"https://wandb.ai/mismayil/ml4science-polymers/runs/vudy0stn\" target=\"_blank\">astral-terrain-20</a></strong> to <a href=\"https://wandb.ai/mismayil/ml4science-polymers\" target=\"_blank\">Weights & Biases</a> (<a href=\"https://docs.wandb.com/integrations/jupyter.html\" target=\"_blank\">docs</a>).<br/>\n",
       "\n",
       "                "
      ],
      "text/plain": [
       "<IPython.core.display.HTML object>"
      ]
     },
     "metadata": {},
     "output_type": "display_data"
    },
    {
     "data": {
      "text/html": [
       "Waiting for W&B process to finish, PID 73325... <strong style=\"color:green\">(success).</strong>"
      ],
      "text/plain": [
       "<IPython.core.display.HTML object>"
      ]
     },
     "metadata": {},
     "output_type": "display_data"
    },
    {
     "data": {
      "application/vnd.jupyter.widget-view+json": {
       "model_id": "c1448b37497d441da36b8b3ed442c7c4",
       "version_major": 2,
       "version_minor": 0
      },
      "text/plain": [
       "VBox(children=(Label(value=' 0.00MB of 0.00MB uploaded (0.00MB deduped)\\r'), FloatProgress(value=1.0, max=1.0)…"
      ]
     },
     "metadata": {},
     "output_type": "display_data"
    },
    {
     "data": {
      "text/html": [
       "Synced <strong style=\"color:#cdcd00\">astral-terrain-20</strong>: <a href=\"https://wandb.ai/mismayil/ml4science-polymers/runs/vudy0stn\" target=\"_blank\">https://wandb.ai/mismayil/ml4science-polymers/runs/vudy0stn</a><br/>\n"
      ],
      "text/plain": [
       "<IPython.core.display.HTML object>"
      ]
     },
     "metadata": {},
     "output_type": "display_data"
    },
    {
     "name": "stderr",
     "output_type": "stream",
     "text": [
      "Processing ../data/AA66266AA.npy: 100%|██████████| 20085/20085 [02:13<00:00, 150.91it/s]\n",
      "Processing ../data/AA66466AA.npy: 100%|██████████| 20752/20752 [03:08<00:00, 109.93it/s]\n"
     ]
    },
    {
     "data": {
      "text/html": [
       "\n",
       "                    Syncing run <strong><a href=\"https://wandb.ai/mismayil/ml4science-polymers/runs/2t476pe0\" target=\"_blank\">noble-spaceship-21</a></strong> to <a href=\"https://wandb.ai/mismayil/ml4science-polymers\" target=\"_blank\">Weights & Biases</a> (<a href=\"https://docs.wandb.com/integrations/jupyter.html\" target=\"_blank\">docs</a>).<br/>\n",
       "\n",
       "                "
      ],
      "text/plain": [
       "<IPython.core.display.HTML object>"
      ]
     },
     "metadata": {},
     "output_type": "display_data"
    },
    {
     "data": {
      "text/html": [
       "Waiting for W&B process to finish, PID 73392... <strong style=\"color:green\">(success).</strong>"
      ],
      "text/plain": [
       "<IPython.core.display.HTML object>"
      ]
     },
     "metadata": {},
     "output_type": "display_data"
    },
    {
     "data": {
      "application/vnd.jupyter.widget-view+json": {
       "model_id": "f666c30aa3634ece8d137a7b1be53f9f",
       "version_major": 2,
       "version_minor": 0
      },
      "text/plain": [
       "VBox(children=(Label(value=' 0.00MB of 0.00MB uploaded (0.00MB deduped)\\r'), FloatProgress(value=1.0, max=1.0)…"
      ]
     },
     "metadata": {},
     "output_type": "display_data"
    },
    {
     "data": {
      "text/html": [
       "Synced <strong style=\"color:#cdcd00\">noble-spaceship-21</strong>: <a href=\"https://wandb.ai/mismayil/ml4science-polymers/runs/2t476pe0\" target=\"_blank\">https://wandb.ai/mismayil/ml4science-polymers/runs/2t476pe0</a><br/>\n"
      ],
      "text/plain": [
       "<IPython.core.display.HTML object>"
      ]
     },
     "metadata": {},
     "output_type": "display_data"
    },
    {
     "name": "stderr",
     "output_type": "stream",
     "text": [
      "Processing ../data/AA66266AA.npy: 100%|██████████| 20085/20085 [03:23<00:00, 98.56it/s] \n",
      "Processing ../data/AA66466AA.npy: 100%|██████████| 20752/20752 [04:29<00:00, 77.06it/s]\n"
     ]
    },
    {
     "data": {
      "text/html": [
       "\n",
       "                    Syncing run <strong><a href=\"https://wandb.ai/mismayil/ml4science-polymers/runs/2ztnwfyu\" target=\"_blank\">kind-hill-22</a></strong> to <a href=\"https://wandb.ai/mismayil/ml4science-polymers\" target=\"_blank\">Weights & Biases</a> (<a href=\"https://docs.wandb.com/integrations/jupyter.html\" target=\"_blank\">docs</a>).<br/>\n",
       "\n",
       "                "
      ],
      "text/plain": [
       "<IPython.core.display.HTML object>"
      ]
     },
     "metadata": {},
     "output_type": "display_data"
    },
    {
     "data": {
      "text/html": [
       "Waiting for W&B process to finish, PID 73439... <strong style=\"color:green\">(success).</strong>"
      ],
      "text/plain": [
       "<IPython.core.display.HTML object>"
      ]
     },
     "metadata": {},
     "output_type": "display_data"
    },
    {
     "data": {
      "application/vnd.jupyter.widget-view+json": {
       "model_id": "2de8006b084646bf989f8086f00ab82b",
       "version_major": 2,
       "version_minor": 0
      },
      "text/plain": [
       "VBox(children=(Label(value=' 0.00MB of 0.00MB uploaded (0.00MB deduped)\\r'), FloatProgress(value=1.0, max=1.0)…"
      ]
     },
     "metadata": {},
     "output_type": "display_data"
    },
    {
     "data": {
      "text/html": [
       "Synced <strong style=\"color:#cdcd00\">kind-hill-22</strong>: <a href=\"https://wandb.ai/mismayil/ml4science-polymers/runs/2ztnwfyu\" target=\"_blank\">https://wandb.ai/mismayil/ml4science-polymers/runs/2ztnwfyu</a><br/>\n"
      ],
      "text/plain": [
       "<IPython.core.display.HTML object>"
      ]
     },
     "metadata": {},
     "output_type": "display_data"
    },
    {
     "name": "stderr",
     "output_type": "stream",
     "text": [
      "Processing ../data/AA66266AA.npy: 100%|██████████| 20085/20085 [03:23<00:00, 98.64it/s] \n",
      "Processing ../data/AA66466AA.npy: 100%|██████████| 20752/20752 [04:29<00:00, 76.99it/s]\n"
     ]
    },
    {
     "data": {
      "text/html": [
       "\n",
       "                    Syncing run <strong><a href=\"https://wandb.ai/mismayil/ml4science-polymers/runs/3bzgtvc0\" target=\"_blank\">driven-grass-23</a></strong> to <a href=\"https://wandb.ai/mismayil/ml4science-polymers\" target=\"_blank\">Weights & Biases</a> (<a href=\"https://docs.wandb.com/integrations/jupyter.html\" target=\"_blank\">docs</a>).<br/>\n",
       "\n",
       "                "
      ],
      "text/plain": [
       "<IPython.core.display.HTML object>"
      ]
     },
     "metadata": {},
     "output_type": "display_data"
    },
    {
     "data": {
      "text/html": [
       "Waiting for W&B process to finish, PID 73472... <strong style=\"color:green\">(success).</strong>"
      ],
      "text/plain": [
       "<IPython.core.display.HTML object>"
      ]
     },
     "metadata": {},
     "output_type": "display_data"
    },
    {
     "data": {
      "application/vnd.jupyter.widget-view+json": {
       "model_id": "441e4c3d6bc04332b1036308990684de",
       "version_major": 2,
       "version_minor": 0
      },
      "text/plain": [
       "VBox(children=(Label(value=' 0.00MB of 0.00MB uploaded (0.00MB deduped)\\r'), FloatProgress(value=1.0, max=1.0)…"
      ]
     },
     "metadata": {},
     "output_type": "display_data"
    },
    {
     "data": {
      "text/html": [
       "Synced <strong style=\"color:#cdcd00\">driven-grass-23</strong>: <a href=\"https://wandb.ai/mismayil/ml4science-polymers/runs/3bzgtvc0\" target=\"_blank\">https://wandb.ai/mismayil/ml4science-polymers/runs/3bzgtvc0</a><br/>\n"
      ],
      "text/plain": [
       "<IPython.core.display.HTML object>"
      ]
     },
     "metadata": {},
     "output_type": "display_data"
    },
    {
     "name": "stderr",
     "output_type": "stream",
     "text": [
      "Processing ../data/AA66266AA.npy: 100%|██████████| 20085/20085 [03:24<00:00, 98.44it/s] \n",
      "Processing ../data/AA66466AA.npy: 100%|██████████| 20752/20752 [04:30<00:00, 76.78it/s]\n"
     ]
    },
    {
     "data": {
      "text/html": [
       "\n",
       "                    Syncing run <strong><a href=\"https://wandb.ai/mismayil/ml4science-polymers/runs/23h4or9n\" target=\"_blank\">swept-dawn-24</a></strong> to <a href=\"https://wandb.ai/mismayil/ml4science-polymers\" target=\"_blank\">Weights & Biases</a> (<a href=\"https://docs.wandb.com/integrations/jupyter.html\" target=\"_blank\">docs</a>).<br/>\n",
       "\n",
       "                "
      ],
      "text/plain": [
       "<IPython.core.display.HTML object>"
      ]
     },
     "metadata": {},
     "output_type": "display_data"
    },
    {
     "data": {
      "text/html": [
       "Waiting for W&B process to finish, PID 73511... <strong style=\"color:green\">(success).</strong>"
      ],
      "text/plain": [
       "<IPython.core.display.HTML object>"
      ]
     },
     "metadata": {},
     "output_type": "display_data"
    },
    {
     "data": {
      "application/vnd.jupyter.widget-view+json": {
       "model_id": "c0841c7bb1204e369c3a09d659852cd7",
       "version_major": 2,
       "version_minor": 0
      },
      "text/plain": [
       "VBox(children=(Label(value=' 0.00MB of 0.00MB uploaded (0.00MB deduped)\\r'), FloatProgress(value=1.0, max=1.0)…"
      ]
     },
     "metadata": {},
     "output_type": "display_data"
    },
    {
     "data": {
      "text/html": [
       "Synced <strong style=\"color:#cdcd00\">swept-dawn-24</strong>: <a href=\"https://wandb.ai/mismayil/ml4science-polymers/runs/23h4or9n\" target=\"_blank\">https://wandb.ai/mismayil/ml4science-polymers/runs/23h4or9n</a><br/>\n"
      ],
      "text/plain": [
       "<IPython.core.display.HTML object>"
      ]
     },
     "metadata": {},
     "output_type": "display_data"
    },
    {
     "name": "stderr",
     "output_type": "stream",
     "text": [
      "Processing ../data/AA66266AA.npy: 100%|██████████| 20085/20085 [03:23<00:00, 98.77it/s] \n",
      "Processing ../data/AA66466AA.npy: 100%|██████████| 20752/20752 [04:29<00:00, 76.87it/s]\n"
     ]
    },
    {
     "data": {
      "text/html": [
       "\n",
       "                    Syncing run <strong><a href=\"https://wandb.ai/mismayil/ml4science-polymers/runs/2oj52wfq\" target=\"_blank\">whole-water-25</a></strong> to <a href=\"https://wandb.ai/mismayil/ml4science-polymers\" target=\"_blank\">Weights & Biases</a> (<a href=\"https://docs.wandb.com/integrations/jupyter.html\" target=\"_blank\">docs</a>).<br/>\n",
       "\n",
       "                "
      ],
      "text/plain": [
       "<IPython.core.display.HTML object>"
      ]
     },
     "metadata": {},
     "output_type": "display_data"
    },
    {
     "data": {
      "text/html": [
       "Waiting for W&B process to finish, PID 73553... <strong style=\"color:green\">(success).</strong>"
      ],
      "text/plain": [
       "<IPython.core.display.HTML object>"
      ]
     },
     "metadata": {},
     "output_type": "display_data"
    },
    {
     "data": {
      "application/vnd.jupyter.widget-view+json": {
       "model_id": "b4814206c8084e4c8ba54958c337af7b",
       "version_major": 2,
       "version_minor": 0
      },
      "text/plain": [
       "VBox(children=(Label(value=' 0.00MB of 0.00MB uploaded (0.00MB deduped)\\r'), FloatProgress(value=1.0, max=1.0)…"
      ]
     },
     "metadata": {},
     "output_type": "display_data"
    },
    {
     "data": {
      "text/html": [
       "Synced <strong style=\"color:#cdcd00\">whole-water-25</strong>: <a href=\"https://wandb.ai/mismayil/ml4science-polymers/runs/2oj52wfq\" target=\"_blank\">https://wandb.ai/mismayil/ml4science-polymers/runs/2oj52wfq</a><br/>\n"
      ],
      "text/plain": [
       "<IPython.core.display.HTML object>"
      ]
     },
     "metadata": {},
     "output_type": "display_data"
    },
    {
     "name": "stderr",
     "output_type": "stream",
     "text": [
      "Processing ../data/AA66266AA.npy: 100%|██████████| 20085/20085 [05:29<00:00, 60.96it/s]\n",
      "Processing ../data/AA66466AA.npy: 100%|██████████| 20752/20752 [06:53<00:00, 50.14it/s]\n"
     ]
    },
    {
     "data": {
      "text/html": [
       "\n",
       "                    Syncing run <strong><a href=\"https://wandb.ai/mismayil/ml4science-polymers/runs/3eivmbhf\" target=\"_blank\">devoted-shadow-26</a></strong> to <a href=\"https://wandb.ai/mismayil/ml4science-polymers\" target=\"_blank\">Weights & Biases</a> (<a href=\"https://docs.wandb.com/integrations/jupyter.html\" target=\"_blank\">docs</a>).<br/>\n",
       "\n",
       "                "
      ],
      "text/plain": [
       "<IPython.core.display.HTML object>"
      ]
     },
     "metadata": {},
     "output_type": "display_data"
    },
    {
     "data": {
      "text/html": [
       "Waiting for W&B process to finish, PID 73603... <strong style=\"color:green\">(success).</strong>"
      ],
      "text/plain": [
       "<IPython.core.display.HTML object>"
      ]
     },
     "metadata": {},
     "output_type": "display_data"
    },
    {
     "data": {
      "application/vnd.jupyter.widget-view+json": {
       "model_id": "cc7bb87a645b4f949356e80d84424a01",
       "version_major": 2,
       "version_minor": 0
      },
      "text/plain": [
       "VBox(children=(Label(value=' 0.00MB of 0.00MB uploaded (0.00MB deduped)\\r'), FloatProgress(value=1.0, max=1.0)…"
      ]
     },
     "metadata": {},
     "output_type": "display_data"
    },
    {
     "data": {
      "text/html": [
       "Synced <strong style=\"color:#cdcd00\">devoted-shadow-26</strong>: <a href=\"https://wandb.ai/mismayil/ml4science-polymers/runs/3eivmbhf\" target=\"_blank\">https://wandb.ai/mismayil/ml4science-polymers/runs/3eivmbhf</a><br/>\n"
      ],
      "text/plain": [
       "<IPython.core.display.HTML object>"
      ]
     },
     "metadata": {},
     "output_type": "display_data"
    },
    {
     "name": "stderr",
     "output_type": "stream",
     "text": [
      "Processing ../data/AA66266AA.npy: 100%|██████████| 20085/20085 [05:28<00:00, 61.10it/s]\n",
      "Processing ../data/AA66466AA.npy: 100%|██████████| 20752/20752 [06:52<00:00, 50.34it/s]\n"
     ]
    },
    {
     "data": {
      "text/html": [
       "\n",
       "                    Syncing run <strong><a href=\"https://wandb.ai/mismayil/ml4science-polymers/runs/757zfjaj\" target=\"_blank\">eternal-dew-27</a></strong> to <a href=\"https://wandb.ai/mismayil/ml4science-polymers\" target=\"_blank\">Weights & Biases</a> (<a href=\"https://docs.wandb.com/integrations/jupyter.html\" target=\"_blank\">docs</a>).<br/>\n",
       "\n",
       "                "
      ],
      "text/plain": [
       "<IPython.core.display.HTML object>"
      ]
     },
     "metadata": {},
     "output_type": "display_data"
    },
    {
     "data": {
      "text/html": [
       "Waiting for W&B process to finish, PID 73647... <strong style=\"color:green\">(success).</strong>"
      ],
      "text/plain": [
       "<IPython.core.display.HTML object>"
      ]
     },
     "metadata": {},
     "output_type": "display_data"
    },
    {
     "data": {
      "application/vnd.jupyter.widget-view+json": {
       "model_id": "8ff1fd6e95184acaa114587f7b4e0692",
       "version_major": 2,
       "version_minor": 0
      },
      "text/plain": [
       "VBox(children=(Label(value=' 0.00MB of 0.00MB uploaded (0.00MB deduped)\\r'), FloatProgress(value=1.0, max=1.0)…"
      ]
     },
     "metadata": {},
     "output_type": "display_data"
    },
    {
     "data": {
      "text/html": [
       "Synced <strong style=\"color:#cdcd00\">eternal-dew-27</strong>: <a href=\"https://wandb.ai/mismayil/ml4science-polymers/runs/757zfjaj\" target=\"_blank\">https://wandb.ai/mismayil/ml4science-polymers/runs/757zfjaj</a><br/>\n"
      ],
      "text/plain": [
       "<IPython.core.display.HTML object>"
      ]
     },
     "metadata": {},
     "output_type": "display_data"
    },
    {
     "name": "stderr",
     "output_type": "stream",
     "text": [
      "Processing ../data/AA66266AA.npy: 100%|██████████| 20085/20085 [05:30<00:00, 60.83it/s]\n",
      "Processing ../data/AA66466AA.npy: 100%|██████████| 20752/20752 [06:53<00:00, 50.18it/s]\n"
     ]
    },
    {
     "data": {
      "text/html": [
       "\n",
       "                    Syncing run <strong><a href=\"https://wandb.ai/mismayil/ml4science-polymers/runs/3mwds5hq\" target=\"_blank\">misty-thunder-28</a></strong> to <a href=\"https://wandb.ai/mismayil/ml4science-polymers\" target=\"_blank\">Weights & Biases</a> (<a href=\"https://docs.wandb.com/integrations/jupyter.html\" target=\"_blank\">docs</a>).<br/>\n",
       "\n",
       "                "
      ],
      "text/plain": [
       "<IPython.core.display.HTML object>"
      ]
     },
     "metadata": {},
     "output_type": "display_data"
    },
    {
     "data": {
      "text/html": [
       "Waiting for W&B process to finish, PID 73702... <strong style=\"color:green\">(success).</strong>"
      ],
      "text/plain": [
       "<IPython.core.display.HTML object>"
      ]
     },
     "metadata": {},
     "output_type": "display_data"
    },
    {
     "data": {
      "application/vnd.jupyter.widget-view+json": {
       "model_id": "1ca93ba6523747e79a8c68008e62a7f0",
       "version_major": 2,
       "version_minor": 0
      },
      "text/plain": [
       "VBox(children=(Label(value=' 0.00MB of 0.00MB uploaded (0.00MB deduped)\\r'), FloatProgress(value=1.0, max=1.0)…"
      ]
     },
     "metadata": {},
     "output_type": "display_data"
    },
    {
     "data": {
      "text/html": [
       "Synced <strong style=\"color:#cdcd00\">misty-thunder-28</strong>: <a href=\"https://wandb.ai/mismayil/ml4science-polymers/runs/3mwds5hq\" target=\"_blank\">https://wandb.ai/mismayil/ml4science-polymers/runs/3mwds5hq</a><br/>\n"
      ],
      "text/plain": [
       "<IPython.core.display.HTML object>"
      ]
     },
     "metadata": {},
     "output_type": "display_data"
    },
    {
     "name": "stderr",
     "output_type": "stream",
     "text": [
      "Processing ../data/AA66266AA.npy: 100%|██████████| 20085/20085 [05:29<00:00, 60.88it/s]\n",
      "Processing ../data/AA66466AA.npy: 100%|██████████| 20752/20752 [06:53<00:00, 50.22it/s]\n"
     ]
    },
    {
     "data": {
      "text/html": [
       "\n",
       "                    Syncing run <strong><a href=\"https://wandb.ai/mismayil/ml4science-polymers/runs/2qdtcsi8\" target=\"_blank\">glorious-field-29</a></strong> to <a href=\"https://wandb.ai/mismayil/ml4science-polymers\" target=\"_blank\">Weights & Biases</a> (<a href=\"https://docs.wandb.com/integrations/jupyter.html\" target=\"_blank\">docs</a>).<br/>\n",
       "\n",
       "                "
      ],
      "text/plain": [
       "<IPython.core.display.HTML object>"
      ]
     },
     "metadata": {},
     "output_type": "display_data"
    },
    {
     "data": {
      "text/html": [
       "Waiting for W&B process to finish, PID 73769... <strong style=\"color:green\">(success).</strong>"
      ],
      "text/plain": [
       "<IPython.core.display.HTML object>"
      ]
     },
     "metadata": {},
     "output_type": "display_data"
    },
    {
     "data": {
      "application/vnd.jupyter.widget-view+json": {
       "model_id": "a5e158f3c3774f19a29f7905b66b2f2f",
       "version_major": 2,
       "version_minor": 0
      },
      "text/plain": [
       "VBox(children=(Label(value=' 0.00MB of 0.00MB uploaded (0.00MB deduped)\\r'), FloatProgress(value=1.0, max=1.0)…"
      ]
     },
     "metadata": {},
     "output_type": "display_data"
    },
    {
     "data": {
      "text/html": [
       "Synced <strong style=\"color:#cdcd00\">glorious-field-29</strong>: <a href=\"https://wandb.ai/mismayil/ml4science-polymers/runs/2qdtcsi8\" target=\"_blank\">https://wandb.ai/mismayil/ml4science-polymers/runs/2qdtcsi8</a><br/>\n"
      ],
      "text/plain": [
       "<IPython.core.display.HTML object>"
      ]
     },
     "metadata": {},
     "output_type": "display_data"
    },
    {
     "name": "stderr",
     "output_type": "stream",
     "text": [
      "Processing ../data/AA66266AA.npy: 100%|██████████| 20085/20085 [00:53<00:00, 375.54it/s]\n",
      "Processing ../data/AA66566AA.npy: 100%|██████████| 20026/20026 [00:43<00:00, 457.89it/s]\n"
     ]
    },
    {
     "data": {
      "text/html": [
       "\n",
       "                    Syncing run <strong><a href=\"https://wandb.ai/mismayil/ml4science-polymers/runs/ddn81pqu\" target=\"_blank\">dazzling-eon-30</a></strong> to <a href=\"https://wandb.ai/mismayil/ml4science-polymers\" target=\"_blank\">Weights & Biases</a> (<a href=\"https://docs.wandb.com/integrations/jupyter.html\" target=\"_blank\">docs</a>).<br/>\n",
       "\n",
       "                "
      ],
      "text/plain": [
       "<IPython.core.display.HTML object>"
      ]
     },
     "metadata": {},
     "output_type": "display_data"
    },
    {
     "data": {
      "text/html": [
       "Waiting for W&B process to finish, PID 73818... <strong style=\"color:green\">(success).</strong>"
      ],
      "text/plain": [
       "<IPython.core.display.HTML object>"
      ]
     },
     "metadata": {},
     "output_type": "display_data"
    },
    {
     "data": {
      "application/vnd.jupyter.widget-view+json": {
       "model_id": "9679dd8782a04edcb8075eb5eee32b42",
       "version_major": 2,
       "version_minor": 0
      },
      "text/plain": [
       "VBox(children=(Label(value=' 0.00MB of 0.00MB uploaded (0.00MB deduped)\\r'), FloatProgress(value=1.0, max=1.0)…"
      ]
     },
     "metadata": {},
     "output_type": "display_data"
    },
    {
     "data": {
      "text/html": [
       "Synced <strong style=\"color:#cdcd00\">dazzling-eon-30</strong>: <a href=\"https://wandb.ai/mismayil/ml4science-polymers/runs/ddn81pqu\" target=\"_blank\">https://wandb.ai/mismayil/ml4science-polymers/runs/ddn81pqu</a><br/>\n"
      ],
      "text/plain": [
       "<IPython.core.display.HTML object>"
      ]
     },
     "metadata": {},
     "output_type": "display_data"
    },
    {
     "name": "stderr",
     "output_type": "stream",
     "text": [
      "Processing ../data/AA66266AA.npy: 100%|██████████| 20085/20085 [00:53<00:00, 374.27it/s]\n",
      "Processing ../data/AA66566AA.npy: 100%|██████████| 20026/20026 [00:43<00:00, 457.83it/s]\n"
     ]
    },
    {
     "data": {
      "text/html": [
       "\n",
       "                    Syncing run <strong><a href=\"https://wandb.ai/mismayil/ml4science-polymers/runs/1360mp8y\" target=\"_blank\">rural-universe-31</a></strong> to <a href=\"https://wandb.ai/mismayil/ml4science-polymers\" target=\"_blank\">Weights & Biases</a> (<a href=\"https://docs.wandb.com/integrations/jupyter.html\" target=\"_blank\">docs</a>).<br/>\n",
       "\n",
       "                "
      ],
      "text/plain": [
       "<IPython.core.display.HTML object>"
      ]
     },
     "metadata": {},
     "output_type": "display_data"
    },
    {
     "data": {
      "text/html": [
       "Waiting for W&B process to finish, PID 73833... <strong style=\"color:green\">(success).</strong>"
      ],
      "text/plain": [
       "<IPython.core.display.HTML object>"
      ]
     },
     "metadata": {},
     "output_type": "display_data"
    },
    {
     "data": {
      "application/vnd.jupyter.widget-view+json": {
       "model_id": "645566973fe94285b82afe0245893c26",
       "version_major": 2,
       "version_minor": 0
      },
      "text/plain": [
       "VBox(children=(Label(value=' 0.00MB of 0.00MB uploaded (0.00MB deduped)\\r'), FloatProgress(value=1.0, max=1.0)…"
      ]
     },
     "metadata": {},
     "output_type": "display_data"
    },
    {
     "data": {
      "text/html": [
       "Synced <strong style=\"color:#cdcd00\">rural-universe-31</strong>: <a href=\"https://wandb.ai/mismayil/ml4science-polymers/runs/1360mp8y\" target=\"_blank\">https://wandb.ai/mismayil/ml4science-polymers/runs/1360mp8y</a><br/>\n"
      ],
      "text/plain": [
       "<IPython.core.display.HTML object>"
      ]
     },
     "metadata": {},
     "output_type": "display_data"
    },
    {
     "name": "stderr",
     "output_type": "stream",
     "text": [
      "Processing ../data/AA66266AA.npy: 100%|██████████| 20085/20085 [00:53<00:00, 376.20it/s]\n",
      "Processing ../data/AA66566AA.npy: 100%|██████████| 20026/20026 [00:43<00:00, 460.31it/s]\n"
     ]
    },
    {
     "data": {
      "text/html": [
       "\n",
       "                    Syncing run <strong><a href=\"https://wandb.ai/mismayil/ml4science-polymers/runs/2bsf5xi8\" target=\"_blank\">blooming-lion-32</a></strong> to <a href=\"https://wandb.ai/mismayil/ml4science-polymers\" target=\"_blank\">Weights & Biases</a> (<a href=\"https://docs.wandb.com/integrations/jupyter.html\" target=\"_blank\">docs</a>).<br/>\n",
       "\n",
       "                "
      ],
      "text/plain": [
       "<IPython.core.display.HTML object>"
      ]
     },
     "metadata": {},
     "output_type": "display_data"
    },
    {
     "data": {
      "text/html": [
       "Waiting for W&B process to finish, PID 73860... <strong style=\"color:green\">(success).</strong>"
      ],
      "text/plain": [
       "<IPython.core.display.HTML object>"
      ]
     },
     "metadata": {},
     "output_type": "display_data"
    },
    {
     "data": {
      "application/vnd.jupyter.widget-view+json": {
       "model_id": "eb7e425d07b0470595bdbc4473fdae7a",
       "version_major": 2,
       "version_minor": 0
      },
      "text/plain": [
       "VBox(children=(Label(value=' 0.00MB of 0.00MB uploaded (0.00MB deduped)\\r'), FloatProgress(value=1.0, max=1.0)…"
      ]
     },
     "metadata": {},
     "output_type": "display_data"
    },
    {
     "data": {
      "text/html": [
       "Synced <strong style=\"color:#cdcd00\">blooming-lion-32</strong>: <a href=\"https://wandb.ai/mismayil/ml4science-polymers/runs/2bsf5xi8\" target=\"_blank\">https://wandb.ai/mismayil/ml4science-polymers/runs/2bsf5xi8</a><br/>\n"
      ],
      "text/plain": [
       "<IPython.core.display.HTML object>"
      ]
     },
     "metadata": {},
     "output_type": "display_data"
    },
    {
     "name": "stderr",
     "output_type": "stream",
     "text": [
      "Processing ../data/AA66266AA.npy: 100%|██████████| 20085/20085 [00:53<00:00, 374.18it/s]\n",
      "Processing ../data/AA66566AA.npy: 100%|██████████| 20026/20026 [00:43<00:00, 457.23it/s]\n"
     ]
    },
    {
     "data": {
      "text/html": [
       "\n",
       "                    Syncing run <strong><a href=\"https://wandb.ai/mismayil/ml4science-polymers/runs/2jahmfcz\" target=\"_blank\">polished-feather-33</a></strong> to <a href=\"https://wandb.ai/mismayil/ml4science-polymers\" target=\"_blank\">Weights & Biases</a> (<a href=\"https://docs.wandb.com/integrations/jupyter.html\" target=\"_blank\">docs</a>).<br/>\n",
       "\n",
       "                "
      ],
      "text/plain": [
       "<IPython.core.display.HTML object>"
      ]
     },
     "metadata": {},
     "output_type": "display_data"
    },
    {
     "data": {
      "text/html": [
       "Waiting for W&B process to finish, PID 73876... <strong style=\"color:green\">(success).</strong>"
      ],
      "text/plain": [
       "<IPython.core.display.HTML object>"
      ]
     },
     "metadata": {},
     "output_type": "display_data"
    },
    {
     "data": {
      "application/vnd.jupyter.widget-view+json": {
       "model_id": "1764289cbc9a437cb236b82375b464f2",
       "version_major": 2,
       "version_minor": 0
      },
      "text/plain": [
       "VBox(children=(Label(value=' 0.00MB of 0.00MB uploaded (0.00MB deduped)\\r'), FloatProgress(value=1.0, max=1.0)…"
      ]
     },
     "metadata": {},
     "output_type": "display_data"
    },
    {
     "data": {
      "text/html": [
       "Synced <strong style=\"color:#cdcd00\">polished-feather-33</strong>: <a href=\"https://wandb.ai/mismayil/ml4science-polymers/runs/2jahmfcz\" target=\"_blank\">https://wandb.ai/mismayil/ml4science-polymers/runs/2jahmfcz</a><br/>\n"
      ],
      "text/plain": [
       "<IPython.core.display.HTML object>"
      ]
     },
     "metadata": {},
     "output_type": "display_data"
    },
    {
     "name": "stderr",
     "output_type": "stream",
     "text": [
      "Processing ../data/AA66266AA.npy: 100%|██████████| 20085/20085 [01:07<00:00, 295.41it/s]\n",
      "Processing ../data/AA66566AA.npy: 100%|██████████| 20026/20026 [00:57<00:00, 350.82it/s]\n"
     ]
    },
    {
     "data": {
      "text/html": [
       "\n",
       "                    Syncing run <strong><a href=\"https://wandb.ai/mismayil/ml4science-polymers/runs/1vokfwaf\" target=\"_blank\">winter-sun-34</a></strong> to <a href=\"https://wandb.ai/mismayil/ml4science-polymers\" target=\"_blank\">Weights & Biases</a> (<a href=\"https://docs.wandb.com/integrations/jupyter.html\" target=\"_blank\">docs</a>).<br/>\n",
       "\n",
       "                "
      ],
      "text/plain": [
       "<IPython.core.display.HTML object>"
      ]
     },
     "metadata": {},
     "output_type": "display_data"
    },
    {
     "data": {
      "text/html": [
       "Waiting for W&B process to finish, PID 73901... <strong style=\"color:green\">(success).</strong>"
      ],
      "text/plain": [
       "<IPython.core.display.HTML object>"
      ]
     },
     "metadata": {},
     "output_type": "display_data"
    },
    {
     "data": {
      "application/vnd.jupyter.widget-view+json": {
       "model_id": "9ca63502dc4d42f7b4bcc17af331c099",
       "version_major": 2,
       "version_minor": 0
      },
      "text/plain": [
       "VBox(children=(Label(value=' 0.00MB of 0.00MB uploaded (0.00MB deduped)\\r'), FloatProgress(value=1.0, max=1.0)…"
      ]
     },
     "metadata": {},
     "output_type": "display_data"
    },
    {
     "data": {
      "text/html": [
       "Synced <strong style=\"color:#cdcd00\">winter-sun-34</strong>: <a href=\"https://wandb.ai/mismayil/ml4science-polymers/runs/1vokfwaf\" target=\"_blank\">https://wandb.ai/mismayil/ml4science-polymers/runs/1vokfwaf</a><br/>\n"
      ],
      "text/plain": [
       "<IPython.core.display.HTML object>"
      ]
     },
     "metadata": {},
     "output_type": "display_data"
    },
    {
     "name": "stderr",
     "output_type": "stream",
     "text": [
      "Processing ../data/AA66266AA.npy: 100%|██████████| 20085/20085 [01:08<00:00, 293.63it/s]\n",
      "Processing ../data/AA66566AA.npy: 100%|██████████| 20026/20026 [00:57<00:00, 350.23it/s]\n"
     ]
    },
    {
     "data": {
      "text/html": [
       "\n",
       "                    Syncing run <strong><a href=\"https://wandb.ai/mismayil/ml4science-polymers/runs/2vyjk4un\" target=\"_blank\">earthy-water-35</a></strong> to <a href=\"https://wandb.ai/mismayil/ml4science-polymers\" target=\"_blank\">Weights & Biases</a> (<a href=\"https://docs.wandb.com/integrations/jupyter.html\" target=\"_blank\">docs</a>).<br/>\n",
       "\n",
       "                "
      ],
      "text/plain": [
       "<IPython.core.display.HTML object>"
      ]
     },
     "metadata": {},
     "output_type": "display_data"
    },
    {
     "data": {
      "text/html": [
       "Waiting for W&B process to finish, PID 73922... <strong style=\"color:green\">(success).</strong>"
      ],
      "text/plain": [
       "<IPython.core.display.HTML object>"
      ]
     },
     "metadata": {},
     "output_type": "display_data"
    },
    {
     "data": {
      "application/vnd.jupyter.widget-view+json": {
       "model_id": "92bed8ec23b14aa9a997dcdbe62c98ba",
       "version_major": 2,
       "version_minor": 0
      },
      "text/plain": [
       "VBox(children=(Label(value=' 0.00MB of 0.00MB uploaded (0.00MB deduped)\\r'), FloatProgress(value=1.0, max=1.0)…"
      ]
     },
     "metadata": {},
     "output_type": "display_data"
    },
    {
     "data": {
      "text/html": [
       "Synced <strong style=\"color:#cdcd00\">earthy-water-35</strong>: <a href=\"https://wandb.ai/mismayil/ml4science-polymers/runs/2vyjk4un\" target=\"_blank\">https://wandb.ai/mismayil/ml4science-polymers/runs/2vyjk4un</a><br/>\n"
      ],
      "text/plain": [
       "<IPython.core.display.HTML object>"
      ]
     },
     "metadata": {},
     "output_type": "display_data"
    },
    {
     "name": "stderr",
     "output_type": "stream",
     "text": [
      "Processing ../data/AA66266AA.npy: 100%|██████████| 20085/20085 [01:07<00:00, 295.65it/s]\n",
      "Processing ../data/AA66566AA.npy: 100%|██████████| 20026/20026 [00:56<00:00, 353.34it/s]\n"
     ]
    },
    {
     "data": {
      "text/html": [
       "\n",
       "                    Syncing run <strong><a href=\"https://wandb.ai/mismayil/ml4science-polymers/runs/2rpdqumm\" target=\"_blank\">chocolate-wave-36</a></strong> to <a href=\"https://wandb.ai/mismayil/ml4science-polymers\" target=\"_blank\">Weights & Biases</a> (<a href=\"https://docs.wandb.com/integrations/jupyter.html\" target=\"_blank\">docs</a>).<br/>\n",
       "\n",
       "                "
      ],
      "text/plain": [
       "<IPython.core.display.HTML object>"
      ]
     },
     "metadata": {},
     "output_type": "display_data"
    },
    {
     "data": {
      "text/html": [
       "Waiting for W&B process to finish, PID 73939... <strong style=\"color:green\">(success).</strong>"
      ],
      "text/plain": [
       "<IPython.core.display.HTML object>"
      ]
     },
     "metadata": {},
     "output_type": "display_data"
    },
    {
     "data": {
      "application/vnd.jupyter.widget-view+json": {
       "model_id": "05e1778bd48f4c418bf9b0aadda1893f",
       "version_major": 2,
       "version_minor": 0
      },
      "text/plain": [
       "VBox(children=(Label(value=' 0.00MB of 0.00MB uploaded (0.00MB deduped)\\r'), FloatProgress(value=1.0, max=1.0)…"
      ]
     },
     "metadata": {},
     "output_type": "display_data"
    },
    {
     "data": {
      "text/html": [
       "Synced <strong style=\"color:#cdcd00\">chocolate-wave-36</strong>: <a href=\"https://wandb.ai/mismayil/ml4science-polymers/runs/2rpdqumm\" target=\"_blank\">https://wandb.ai/mismayil/ml4science-polymers/runs/2rpdqumm</a><br/>\n"
      ],
      "text/plain": [
       "<IPython.core.display.HTML object>"
      ]
     },
     "metadata": {},
     "output_type": "display_data"
    },
    {
     "name": "stderr",
     "output_type": "stream",
     "text": [
      "Processing ../data/AA66266AA.npy: 100%|██████████| 20085/20085 [01:08<00:00, 293.84it/s]\n",
      "Processing ../data/AA66566AA.npy: 100%|██████████| 20026/20026 [00:57<00:00, 349.49it/s]\n"
     ]
    },
    {
     "data": {
      "text/html": [
       "\n",
       "                    Syncing run <strong><a href=\"https://wandb.ai/mismayil/ml4science-polymers/runs/274uq6uz\" target=\"_blank\">good-dream-37</a></strong> to <a href=\"https://wandb.ai/mismayil/ml4science-polymers\" target=\"_blank\">Weights & Biases</a> (<a href=\"https://docs.wandb.com/integrations/jupyter.html\" target=\"_blank\">docs</a>).<br/>\n",
       "\n",
       "                "
      ],
      "text/plain": [
       "<IPython.core.display.HTML object>"
      ]
     },
     "metadata": {},
     "output_type": "display_data"
    },
    {
     "data": {
      "text/html": [
       "Waiting for W&B process to finish, PID 73958... <strong style=\"color:green\">(success).</strong>"
      ],
      "text/plain": [
       "<IPython.core.display.HTML object>"
      ]
     },
     "metadata": {},
     "output_type": "display_data"
    },
    {
     "data": {
      "application/vnd.jupyter.widget-view+json": {
       "model_id": "2fae63dc1c4c42b09b268ceff2d83cb9",
       "version_major": 2,
       "version_minor": 0
      },
      "text/plain": [
       "VBox(children=(Label(value=' 0.00MB of 0.00MB uploaded (0.00MB deduped)\\r'), FloatProgress(value=1.0, max=1.0)…"
      ]
     },
     "metadata": {},
     "output_type": "display_data"
    },
    {
     "data": {
      "text/html": [
       "Synced <strong style=\"color:#cdcd00\">good-dream-37</strong>: <a href=\"https://wandb.ai/mismayil/ml4science-polymers/runs/274uq6uz\" target=\"_blank\">https://wandb.ai/mismayil/ml4science-polymers/runs/274uq6uz</a><br/>\n"
      ],
      "text/plain": [
       "<IPython.core.display.HTML object>"
      ]
     },
     "metadata": {},
     "output_type": "display_data"
    },
    {
     "name": "stderr",
     "output_type": "stream",
     "text": [
      "Processing ../data/AA66266AA.npy: 100%|██████████| 20085/20085 [01:32<00:00, 217.93it/s]\n",
      "Processing ../data/AA66566AA.npy: 100%|██████████| 20026/20026 [01:19<00:00, 252.99it/s]\n"
     ]
    },
    {
     "data": {
      "text/html": [
       "\n",
       "                    Syncing run <strong><a href=\"https://wandb.ai/mismayil/ml4science-polymers/runs/3bzg8uqo\" target=\"_blank\">sparkling-vortex-38</a></strong> to <a href=\"https://wandb.ai/mismayil/ml4science-polymers\" target=\"_blank\">Weights & Biases</a> (<a href=\"https://docs.wandb.com/integrations/jupyter.html\" target=\"_blank\">docs</a>).<br/>\n",
       "\n",
       "                "
      ],
      "text/plain": [
       "<IPython.core.display.HTML object>"
      ]
     },
     "metadata": {},
     "output_type": "display_data"
    },
    {
     "data": {
      "text/html": [
       "Waiting for W&B process to finish, PID 73986... <strong style=\"color:green\">(success).</strong>"
      ],
      "text/plain": [
       "<IPython.core.display.HTML object>"
      ]
     },
     "metadata": {},
     "output_type": "display_data"
    },
    {
     "data": {
      "application/vnd.jupyter.widget-view+json": {
       "model_id": "eb7c6efbfbcf4093a7d814e622cad70d",
       "version_major": 2,
       "version_minor": 0
      },
      "text/plain": [
       "VBox(children=(Label(value=' 0.00MB of 0.00MB uploaded (0.00MB deduped)\\r'), FloatProgress(value=1.0, max=1.0)…"
      ]
     },
     "metadata": {},
     "output_type": "display_data"
    }
   ],
   "source": [
    "param_grid = {\n",
    "    'data_paths': [['../data/AA66266AA.npy', '../data/AA66466AA.npy'],\n",
    "                   ['../data/AA66266AA.npy', '../data/AA66566AA.npy'],\n",
    "                   ['../data/AA66466AA.npy', '../data/AA66566AA.npy'],\n",
    "                   ['../data/AA66266AA.npy', '../data/AA66466AA.npy', '../data/AA66566AA.npy']],\n",
    "    'num_blocks': [4, 8, 16, 32, 64, 128],\n",
    "    'lr_rate': [0.001, 0.01],\n",
    "    'num_epochs': [100, 200]\n",
    "}\n",
    "\n",
    "run_245(param_grid)\n",
    "\n"
   ]
  },
  {
   "cell_type": "code",
   "execution_count": 3,
   "metadata": {},
   "outputs": [
    {
     "name": "stderr",
     "output_type": "stream",
     "text": [
      "Processing ../data/AA66266AA.npy: 100%|██████████| 20085/20085 [01:40<00:00, 199.22it/s]\n",
      "Processing ../data/AA66566AA.npy: 100%|██████████| 20026/20026 [01:26<00:00, 232.56it/s]\n",
      "Failed to detect the name of this notebook, you can set it manually with the WANDB_NOTEBOOK_NAME environment variable to enable code saving.\n",
      "\u001b[34m\u001b[1mwandb\u001b[0m: Currently logged in as: \u001b[33mmismayil\u001b[0m (use `wandb login --relogin` to force relogin)\n"
     ]
    },
    {
     "data": {
      "text/html": [
       "\n",
       "                    Syncing run <strong><a href=\"https://wandb.ai/mismayil/ml4science-polymers/runs/2ogksccg\" target=\"_blank\">skilled-mountain-40</a></strong> to <a href=\"https://wandb.ai/mismayil/ml4science-polymers\" target=\"_blank\">Weights & Biases</a> (<a href=\"https://docs.wandb.com/integrations/jupyter.html\" target=\"_blank\">docs</a>).<br/>\n",
       "\n",
       "                "
      ],
      "text/plain": [
       "<IPython.core.display.HTML object>"
      ]
     },
     "metadata": {},
     "output_type": "display_data"
    },
    {
     "data": {
      "text/html": [
       "Waiting for W&B process to finish, PID 75436... <strong style=\"color:green\">(success).</strong>"
      ],
      "text/plain": [
       "<IPython.core.display.HTML object>"
      ]
     },
     "metadata": {},
     "output_type": "display_data"
    },
    {
     "data": {
      "application/vnd.jupyter.widget-view+json": {
       "model_id": "31b05c846c174ec189b38272e1751e7e",
       "version_major": 2,
       "version_minor": 0
      },
      "text/plain": [
       "VBox(children=(Label(value=' 0.00MB of 0.00MB uploaded (0.00MB deduped)\\r'), FloatProgress(value=1.0, max=1.0)…"
      ]
     },
     "metadata": {},
     "output_type": "display_data"
    },
    {
     "data": {
      "text/html": [
       "Synced <strong style=\"color:#cdcd00\">skilled-mountain-40</strong>: <a href=\"https://wandb.ai/mismayil/ml4science-polymers/runs/2ogksccg\" target=\"_blank\">https://wandb.ai/mismayil/ml4science-polymers/runs/2ogksccg</a><br/>\n"
      ],
      "text/plain": [
       "<IPython.core.display.HTML object>"
      ]
     },
     "metadata": {},
     "output_type": "display_data"
    },
    {
     "name": "stderr",
     "output_type": "stream",
     "text": [
      "Processing ../data/AA66266AA.npy: 100%|██████████| 20085/20085 [01:34<00:00, 212.12it/s]\n",
      "Processing ../data/AA66566AA.npy: 100%|██████████| 20026/20026 [01:21<00:00, 247.15it/s]\n"
     ]
    },
    {
     "data": {
      "text/html": [
       "\n",
       "                    Syncing run <strong><a href=\"https://wandb.ai/mismayil/ml4science-polymers/runs/1in9xali\" target=\"_blank\">wobbly-thunder-41</a></strong> to <a href=\"https://wandb.ai/mismayil/ml4science-polymers\" target=\"_blank\">Weights & Biases</a> (<a href=\"https://docs.wandb.com/integrations/jupyter.html\" target=\"_blank\">docs</a>).<br/>\n",
       "\n",
       "                "
      ],
      "text/plain": [
       "<IPython.core.display.HTML object>"
      ]
     },
     "metadata": {},
     "output_type": "display_data"
    },
    {
     "data": {
      "text/html": [
       "Waiting for W&B process to finish, PID 75477... <strong style=\"color:green\">(success).</strong>"
      ],
      "text/plain": [
       "<IPython.core.display.HTML object>"
      ]
     },
     "metadata": {},
     "output_type": "display_data"
    },
    {
     "data": {
      "application/vnd.jupyter.widget-view+json": {
       "model_id": "f5ba454c6a18439fae366bd8635de52c",
       "version_major": 2,
       "version_minor": 0
      },
      "text/plain": [
       "VBox(children=(Label(value=' 0.00MB of 0.00MB uploaded (0.00MB deduped)\\r'), FloatProgress(value=1.0, max=1.0)…"
      ]
     },
     "metadata": {},
     "output_type": "display_data"
    },
    {
     "data": {
      "text/html": [
       "Synced <strong style=\"color:#cdcd00\">wobbly-thunder-41</strong>: <a href=\"https://wandb.ai/mismayil/ml4science-polymers/runs/1in9xali\" target=\"_blank\">https://wandb.ai/mismayil/ml4science-polymers/runs/1in9xali</a><br/>\n"
      ],
      "text/plain": [
       "<IPython.core.display.HTML object>"
      ]
     },
     "metadata": {},
     "output_type": "display_data"
    },
    {
     "name": "stderr",
     "output_type": "stream",
     "text": [
      "Processing ../data/AA66266AA.npy: 100%|██████████| 20085/20085 [01:34<00:00, 212.86it/s]\n",
      "Processing ../data/AA66566AA.npy: 100%|██████████| 20026/20026 [01:20<00:00, 248.64it/s]\n"
     ]
    },
    {
     "data": {
      "text/html": [
       "\n",
       "                    Syncing run <strong><a href=\"https://wandb.ai/mismayil/ml4science-polymers/runs/3bvwx3vh\" target=\"_blank\">fragrant-darkness-42</a></strong> to <a href=\"https://wandb.ai/mismayil/ml4science-polymers\" target=\"_blank\">Weights & Biases</a> (<a href=\"https://docs.wandb.com/integrations/jupyter.html\" target=\"_blank\">docs</a>).<br/>\n",
       "\n",
       "                "
      ],
      "text/plain": [
       "<IPython.core.display.HTML object>"
      ]
     },
     "metadata": {},
     "output_type": "display_data"
    },
    {
     "data": {
      "text/html": [
       "Waiting for W&B process to finish, PID 75503... <strong style=\"color:green\">(success).</strong>"
      ],
      "text/plain": [
       "<IPython.core.display.HTML object>"
      ]
     },
     "metadata": {},
     "output_type": "display_data"
    },
    {
     "data": {
      "application/vnd.jupyter.widget-view+json": {
       "model_id": "f564d54296c141ad8f91782670f5ea8c",
       "version_major": 2,
       "version_minor": 0
      },
      "text/plain": [
       "VBox(children=(Label(value=' 0.00MB of 0.00MB uploaded (0.00MB deduped)\\r'), FloatProgress(value=1.0, max=1.0)…"
      ]
     },
     "metadata": {},
     "output_type": "display_data"
    },
    {
     "data": {
      "text/html": [
       "Synced <strong style=\"color:#cdcd00\">fragrant-darkness-42</strong>: <a href=\"https://wandb.ai/mismayil/ml4science-polymers/runs/3bvwx3vh\" target=\"_blank\">https://wandb.ai/mismayil/ml4science-polymers/runs/3bvwx3vh</a><br/>\n"
      ],
      "text/plain": [
       "<IPython.core.display.HTML object>"
      ]
     },
     "metadata": {},
     "output_type": "display_data"
    },
    {
     "name": "stderr",
     "output_type": "stream",
     "text": [
      "Processing ../data/AA66266AA.npy: 100%|██████████| 20085/20085 [01:33<00:00, 214.61it/s]\n",
      "Processing ../data/AA66566AA.npy: 100%|██████████| 20026/20026 [01:26<00:00, 232.15it/s]\n"
     ]
    },
    {
     "data": {
      "text/html": [
       "\n",
       "                    Syncing run <strong><a href=\"https://wandb.ai/mismayil/ml4science-polymers/runs/6c81sp8p\" target=\"_blank\">grateful-deluge-43</a></strong> to <a href=\"https://wandb.ai/mismayil/ml4science-polymers\" target=\"_blank\">Weights & Biases</a> (<a href=\"https://docs.wandb.com/integrations/jupyter.html\" target=\"_blank\">docs</a>).<br/>\n",
       "\n",
       "                "
      ],
      "text/plain": [
       "<IPython.core.display.HTML object>"
      ]
     },
     "metadata": {},
     "output_type": "display_data"
    },
    {
     "data": {
      "text/html": [
       "Waiting for W&B process to finish, PID 75546... <strong style=\"color:green\">(success).</strong>"
      ],
      "text/plain": [
       "<IPython.core.display.HTML object>"
      ]
     },
     "metadata": {},
     "output_type": "display_data"
    },
    {
     "data": {
      "application/vnd.jupyter.widget-view+json": {
       "model_id": "5553d3664df24472893752fab747d0a9",
       "version_major": 2,
       "version_minor": 0
      },
      "text/plain": [
       "VBox(children=(Label(value=' 0.00MB of 0.00MB uploaded (0.00MB deduped)\\r'), FloatProgress(value=1.0, max=1.0)…"
      ]
     },
     "metadata": {},
     "output_type": "display_data"
    },
    {
     "data": {
      "text/html": [
       "Synced <strong style=\"color:#cdcd00\">grateful-deluge-43</strong>: <a href=\"https://wandb.ai/mismayil/ml4science-polymers/runs/6c81sp8p\" target=\"_blank\">https://wandb.ai/mismayil/ml4science-polymers/runs/6c81sp8p</a><br/>\n"
      ],
      "text/plain": [
       "<IPython.core.display.HTML object>"
      ]
     },
     "metadata": {},
     "output_type": "display_data"
    },
    {
     "name": "stderr",
     "output_type": "stream",
     "text": [
      "Processing ../data/AA66266AA.npy: 100%|██████████| 20085/20085 [02:25<00:00, 137.79it/s]\n",
      "Processing ../data/AA66566AA.npy: 100%|██████████| 20026/20026 [02:09<00:00, 155.15it/s]\n"
     ]
    },
    {
     "data": {
      "text/html": [
       "\n",
       "                    Syncing run <strong><a href=\"https://wandb.ai/mismayil/ml4science-polymers/runs/2sso4esf\" target=\"_blank\">lemon-butterfly-44</a></strong> to <a href=\"https://wandb.ai/mismayil/ml4science-polymers\" target=\"_blank\">Weights & Biases</a> (<a href=\"https://docs.wandb.com/integrations/jupyter.html\" target=\"_blank\">docs</a>).<br/>\n",
       "\n",
       "                "
      ],
      "text/plain": [
       "<IPython.core.display.HTML object>"
      ]
     },
     "metadata": {},
     "output_type": "display_data"
    },
    {
     "data": {
      "text/html": [
       "Waiting for W&B process to finish, PID 75580... <strong style=\"color:green\">(success).</strong>"
      ],
      "text/plain": [
       "<IPython.core.display.HTML object>"
      ]
     },
     "metadata": {},
     "output_type": "display_data"
    },
    {
     "data": {
      "application/vnd.jupyter.widget-view+json": {
       "model_id": "18d1133ef70e446ea51b44d425e36d9c",
       "version_major": 2,
       "version_minor": 0
      },
      "text/plain": [
       "VBox(children=(Label(value=' 0.00MB of 0.00MB uploaded (0.00MB deduped)\\r'), FloatProgress(value=1.0, max=1.0)…"
      ]
     },
     "metadata": {},
     "output_type": "display_data"
    },
    {
     "data": {
      "text/html": [
       "Synced <strong style=\"color:#cdcd00\">lemon-butterfly-44</strong>: <a href=\"https://wandb.ai/mismayil/ml4science-polymers/runs/2sso4esf\" target=\"_blank\">https://wandb.ai/mismayil/ml4science-polymers/runs/2sso4esf</a><br/>\n"
      ],
      "text/plain": [
       "<IPython.core.display.HTML object>"
      ]
     },
     "metadata": {},
     "output_type": "display_data"
    },
    {
     "name": "stderr",
     "output_type": "stream",
     "text": [
      "Processing ../data/AA66266AA.npy: 100%|██████████| 20085/20085 [02:23<00:00, 139.51it/s]\n",
      "Processing ../data/AA66566AA.npy: 100%|██████████| 20026/20026 [02:08<00:00, 155.91it/s]\n"
     ]
    },
    {
     "data": {
      "text/html": [
       "\n",
       "                    Syncing run <strong><a href=\"https://wandb.ai/mismayil/ml4science-polymers/runs/34voi5cs\" target=\"_blank\">decent-river-45</a></strong> to <a href=\"https://wandb.ai/mismayil/ml4science-polymers\" target=\"_blank\">Weights & Biases</a> (<a href=\"https://docs.wandb.com/integrations/jupyter.html\" target=\"_blank\">docs</a>).<br/>\n",
       "\n",
       "                "
      ],
      "text/plain": [
       "<IPython.core.display.HTML object>"
      ]
     },
     "metadata": {},
     "output_type": "display_data"
    },
    {
     "data": {
      "text/html": [
       "Waiting for W&B process to finish, PID 75639... <strong style=\"color:green\">(success).</strong>"
      ],
      "text/plain": [
       "<IPython.core.display.HTML object>"
      ]
     },
     "metadata": {},
     "output_type": "display_data"
    },
    {
     "data": {
      "application/vnd.jupyter.widget-view+json": {
       "model_id": "ef98083ed3ba49909fdbe51dff91544b",
       "version_major": 2,
       "version_minor": 0
      },
      "text/plain": [
       "VBox(children=(Label(value=' 0.00MB of 0.00MB uploaded (0.00MB deduped)\\r'), FloatProgress(value=1.0, max=1.0)…"
      ]
     },
     "metadata": {},
     "output_type": "display_data"
    },
    {
     "data": {
      "text/html": [
       "Synced <strong style=\"color:#cdcd00\">decent-river-45</strong>: <a href=\"https://wandb.ai/mismayil/ml4science-polymers/runs/34voi5cs\" target=\"_blank\">https://wandb.ai/mismayil/ml4science-polymers/runs/34voi5cs</a><br/>\n"
      ],
      "text/plain": [
       "<IPython.core.display.HTML object>"
      ]
     },
     "metadata": {},
     "output_type": "display_data"
    },
    {
     "name": "stderr",
     "output_type": "stream",
     "text": [
      "Processing ../data/AA66266AA.npy: 100%|██████████| 20085/20085 [02:24<00:00, 138.55it/s]\n",
      "Processing ../data/AA66566AA.npy: 100%|██████████| 20026/20026 [02:07<00:00, 156.88it/s]\n"
     ]
    },
    {
     "data": {
      "text/html": [
       "\n",
       "                    Syncing run <strong><a href=\"https://wandb.ai/mismayil/ml4science-polymers/runs/1bb9bp6g\" target=\"_blank\">prime-breeze-46</a></strong> to <a href=\"https://wandb.ai/mismayil/ml4science-polymers\" target=\"_blank\">Weights & Biases</a> (<a href=\"https://docs.wandb.com/integrations/jupyter.html\" target=\"_blank\">docs</a>).<br/>\n",
       "\n",
       "                "
      ],
      "text/plain": [
       "<IPython.core.display.HTML object>"
      ]
     },
     "metadata": {},
     "output_type": "display_data"
    },
    {
     "data": {
      "text/html": [
       "Waiting for W&B process to finish, PID 75674... <strong style=\"color:green\">(success).</strong>"
      ],
      "text/plain": [
       "<IPython.core.display.HTML object>"
      ]
     },
     "metadata": {},
     "output_type": "display_data"
    },
    {
     "data": {
      "application/vnd.jupyter.widget-view+json": {
       "model_id": "c9e985612f424e049a7d777d43ae8279",
       "version_major": 2,
       "version_minor": 0
      },
      "text/plain": [
       "VBox(children=(Label(value=' 0.00MB of 0.00MB uploaded (0.00MB deduped)\\r'), FloatProgress(value=1.0, max=1.0)…"
      ]
     },
     "metadata": {},
     "output_type": "display_data"
    },
    {
     "data": {
      "text/html": [
       "Synced <strong style=\"color:#cdcd00\">prime-breeze-46</strong>: <a href=\"https://wandb.ai/mismayil/ml4science-polymers/runs/1bb9bp6g\" target=\"_blank\">https://wandb.ai/mismayil/ml4science-polymers/runs/1bb9bp6g</a><br/>\n"
      ],
      "text/plain": [
       "<IPython.core.display.HTML object>"
      ]
     },
     "metadata": {},
     "output_type": "display_data"
    },
    {
     "name": "stderr",
     "output_type": "stream",
     "text": [
      "Processing ../data/AA66266AA.npy: 100%|██████████| 20085/20085 [02:14<00:00, 148.99it/s]\n",
      "Processing ../data/AA66566AA.npy: 100%|██████████| 20026/20026 [01:59<00:00, 167.67it/s]\n"
     ]
    },
    {
     "data": {
      "text/html": [
       "\n",
       "                    Syncing run <strong><a href=\"https://wandb.ai/mismayil/ml4science-polymers/runs/2bh4lxcq\" target=\"_blank\">blooming-deluge-47</a></strong> to <a href=\"https://wandb.ai/mismayil/ml4science-polymers\" target=\"_blank\">Weights & Biases</a> (<a href=\"https://docs.wandb.com/integrations/jupyter.html\" target=\"_blank\">docs</a>).<br/>\n",
       "\n",
       "                "
      ],
      "text/plain": [
       "<IPython.core.display.HTML object>"
      ]
     },
     "metadata": {},
     "output_type": "display_data"
    },
    {
     "data": {
      "text/html": [
       "Waiting for W&B process to finish, PID 75704... <strong style=\"color:green\">(success).</strong>"
      ],
      "text/plain": [
       "<IPython.core.display.HTML object>"
      ]
     },
     "metadata": {},
     "output_type": "display_data"
    },
    {
     "data": {
      "application/vnd.jupyter.widget-view+json": {
       "model_id": "810692d6d3404bf59007b4f914b176c9",
       "version_major": 2,
       "version_minor": 0
      },
      "text/plain": [
       "VBox(children=(Label(value=' 0.00MB of 0.00MB uploaded (0.00MB deduped)\\r'), FloatProgress(value=1.0, max=1.0)…"
      ]
     },
     "metadata": {},
     "output_type": "display_data"
    },
    {
     "data": {
      "text/html": [
       "Synced <strong style=\"color:#cdcd00\">blooming-deluge-47</strong>: <a href=\"https://wandb.ai/mismayil/ml4science-polymers/runs/2bh4lxcq\" target=\"_blank\">https://wandb.ai/mismayil/ml4science-polymers/runs/2bh4lxcq</a><br/>\n"
      ],
      "text/plain": [
       "<IPython.core.display.HTML object>"
      ]
     },
     "metadata": {},
     "output_type": "display_data"
    },
    {
     "name": "stderr",
     "output_type": "stream",
     "text": [
      "Processing ../data/AA66266AA.npy: 100%|██████████| 20085/20085 [03:28<00:00, 96.33it/s] \n",
      "Processing ../data/AA66566AA.npy: 100%|██████████| 20026/20026 [03:11<00:00, 104.69it/s]\n"
     ]
    },
    {
     "data": {
      "text/html": [
       "\n",
       "                    Syncing run <strong><a href=\"https://wandb.ai/mismayil/ml4science-polymers/runs/3mrq6k3m\" target=\"_blank\">mild-fog-48</a></strong> to <a href=\"https://wandb.ai/mismayil/ml4science-polymers\" target=\"_blank\">Weights & Biases</a> (<a href=\"https://docs.wandb.com/integrations/jupyter.html\" target=\"_blank\">docs</a>).<br/>\n",
       "\n",
       "                "
      ],
      "text/plain": [
       "<IPython.core.display.HTML object>"
      ]
     },
     "metadata": {},
     "output_type": "display_data"
    },
    {
     "data": {
      "text/html": [
       "Waiting for W&B process to finish, PID 75761... <strong style=\"color:green\">(success).</strong>"
      ],
      "text/plain": [
       "<IPython.core.display.HTML object>"
      ]
     },
     "metadata": {},
     "output_type": "display_data"
    },
    {
     "data": {
      "application/vnd.jupyter.widget-view+json": {
       "model_id": "d1581bf38ba0424dabde536da2f35ccb",
       "version_major": 2,
       "version_minor": 0
      },
      "text/plain": [
       "VBox(children=(Label(value=' 0.00MB of 0.00MB uploaded (0.00MB deduped)\\r'), FloatProgress(value=1.0, max=1.0)…"
      ]
     },
     "metadata": {},
     "output_type": "display_data"
    },
    {
     "data": {
      "text/html": [
       "Synced <strong style=\"color:#cdcd00\">mild-fog-48</strong>: <a href=\"https://wandb.ai/mismayil/ml4science-polymers/runs/3mrq6k3m\" target=\"_blank\">https://wandb.ai/mismayil/ml4science-polymers/runs/3mrq6k3m</a><br/>\n"
      ],
      "text/plain": [
       "<IPython.core.display.HTML object>"
      ]
     },
     "metadata": {},
     "output_type": "display_data"
    },
    {
     "name": "stderr",
     "output_type": "stream",
     "text": [
      "Processing ../data/AA66266AA.npy: 100%|██████████| 20085/20085 [03:31<00:00, 94.86it/s] \n",
      "Processing ../data/AA66566AA.npy: 100%|██████████| 20026/20026 [03:15<00:00, 102.68it/s]\n"
     ]
    },
    {
     "data": {
      "text/html": [
       "\n",
       "                    Syncing run <strong><a href=\"https://wandb.ai/mismayil/ml4science-polymers/runs/3v5wmij6\" target=\"_blank\">expert-wood-49</a></strong> to <a href=\"https://wandb.ai/mismayil/ml4science-polymers\" target=\"_blank\">Weights & Biases</a> (<a href=\"https://docs.wandb.com/integrations/jupyter.html\" target=\"_blank\">docs</a>).<br/>\n",
       "\n",
       "                "
      ],
      "text/plain": [
       "<IPython.core.display.HTML object>"
      ]
     },
     "metadata": {},
     "output_type": "display_data"
    },
    {
     "data": {
      "text/html": [
       "Waiting for W&B process to finish, PID 75822... <strong style=\"color:green\">(success).</strong>"
      ],
      "text/plain": [
       "<IPython.core.display.HTML object>"
      ]
     },
     "metadata": {},
     "output_type": "display_data"
    },
    {
     "data": {
      "application/vnd.jupyter.widget-view+json": {
       "model_id": "4b3ca92046834ce3a1086207cdbc044a",
       "version_major": 2,
       "version_minor": 0
      },
      "text/plain": [
       "VBox(children=(Label(value=' 0.00MB of 0.00MB uploaded (0.00MB deduped)\\r'), FloatProgress(value=1.0, max=1.0)…"
      ]
     },
     "metadata": {},
     "output_type": "display_data"
    },
    {
     "data": {
      "text/html": [
       "Synced <strong style=\"color:#cdcd00\">expert-wood-49</strong>: <a href=\"https://wandb.ai/mismayil/ml4science-polymers/runs/3v5wmij6\" target=\"_blank\">https://wandb.ai/mismayil/ml4science-polymers/runs/3v5wmij6</a><br/>\n"
      ],
      "text/plain": [
       "<IPython.core.display.HTML object>"
      ]
     },
     "metadata": {},
     "output_type": "display_data"
    },
    {
     "name": "stderr",
     "output_type": "stream",
     "text": [
      "Processing ../data/AA66266AA.npy: 100%|██████████| 20085/20085 [03:40<00:00, 90.97it/s] \n",
      "Processing ../data/AA66566AA.npy: 100%|██████████| 20026/20026 [03:23<00:00, 98.64it/s] \n"
     ]
    },
    {
     "data": {
      "text/html": [
       "\n",
       "                    Syncing run <strong><a href=\"https://wandb.ai/mismayil/ml4science-polymers/runs/ad7n0dmh\" target=\"_blank\">summer-snow-50</a></strong> to <a href=\"https://wandb.ai/mismayil/ml4science-polymers\" target=\"_blank\">Weights & Biases</a> (<a href=\"https://docs.wandb.com/integrations/jupyter.html\" target=\"_blank\">docs</a>).<br/>\n",
       "\n",
       "                "
      ],
      "text/plain": [
       "<IPython.core.display.HTML object>"
      ]
     },
     "metadata": {},
     "output_type": "display_data"
    },
    {
     "data": {
      "text/html": [
       "Waiting for W&B process to finish, PID 75869... <strong style=\"color:green\">(success).</strong>"
      ],
      "text/plain": [
       "<IPython.core.display.HTML object>"
      ]
     },
     "metadata": {},
     "output_type": "display_data"
    },
    {
     "data": {
      "application/vnd.jupyter.widget-view+json": {
       "model_id": "ea73022d2165447b80a6781bc5c11289",
       "version_major": 2,
       "version_minor": 0
      },
      "text/plain": [
       "VBox(children=(Label(value=' 0.00MB of 0.00MB uploaded (0.00MB deduped)\\r'), FloatProgress(value=1.0, max=1.0)…"
      ]
     },
     "metadata": {},
     "output_type": "display_data"
    },
    {
     "data": {
      "text/html": [
       "Synced <strong style=\"color:#cdcd00\">summer-snow-50</strong>: <a href=\"https://wandb.ai/mismayil/ml4science-polymers/runs/ad7n0dmh\" target=\"_blank\">https://wandb.ai/mismayil/ml4science-polymers/runs/ad7n0dmh</a><br/>\n"
      ],
      "text/plain": [
       "<IPython.core.display.HTML object>"
      ]
     },
     "metadata": {},
     "output_type": "display_data"
    },
    {
     "name": "stderr",
     "output_type": "stream",
     "text": [
      "Processing ../data/AA66266AA.npy: 100%|██████████| 20085/20085 [03:44<00:00, 89.45it/s] \n",
      "Processing ../data/AA66566AA.npy: 100%|██████████| 20026/20026 [03:22<00:00, 98.85it/s] \n"
     ]
    },
    {
     "data": {
      "text/html": [
       "\n",
       "                    Syncing run <strong><a href=\"https://wandb.ai/mismayil/ml4science-polymers/runs/12ucp0vu\" target=\"_blank\">dutiful-aardvark-51</a></strong> to <a href=\"https://wandb.ai/mismayil/ml4science-polymers\" target=\"_blank\">Weights & Biases</a> (<a href=\"https://docs.wandb.com/integrations/jupyter.html\" target=\"_blank\">docs</a>).<br/>\n",
       "\n",
       "                "
      ],
      "text/plain": [
       "<IPython.core.display.HTML object>"
      ]
     },
     "metadata": {},
     "output_type": "display_data"
    },
    {
     "data": {
      "text/html": [
       "Waiting for W&B process to finish, PID 75914... <strong style=\"color:green\">(success).</strong>"
      ],
      "text/plain": [
       "<IPython.core.display.HTML object>"
      ]
     },
     "metadata": {},
     "output_type": "display_data"
    },
    {
     "data": {
      "application/vnd.jupyter.widget-view+json": {
       "model_id": "131a6da959a74151b46d81d2bb0b0d90",
       "version_major": 2,
       "version_minor": 0
      },
      "text/plain": [
       "VBox(children=(Label(value=' 0.00MB of 0.00MB uploaded (0.00MB deduped)\\r'), FloatProgress(value=1.0, max=1.0)…"
      ]
     },
     "metadata": {},
     "output_type": "display_data"
    },
    {
     "data": {
      "text/html": [
       "Synced <strong style=\"color:#cdcd00\">dutiful-aardvark-51</strong>: <a href=\"https://wandb.ai/mismayil/ml4science-polymers/runs/12ucp0vu\" target=\"_blank\">https://wandb.ai/mismayil/ml4science-polymers/runs/12ucp0vu</a><br/>\n"
      ],
      "text/plain": [
       "<IPython.core.display.HTML object>"
      ]
     },
     "metadata": {},
     "output_type": "display_data"
    },
    {
     "name": "stderr",
     "output_type": "stream",
     "text": [
      "Processing ../data/AA66266AA.npy: 100%|██████████| 20085/20085 [05:36<00:00, 59.63it/s]\n",
      "Processing ../data/AA66566AA.npy: 100%|██████████| 20026/20026 [05:21<00:00, 62.19it/s]\n"
     ]
    },
    {
     "data": {
      "text/html": [
       "\n",
       "                    Syncing run <strong><a href=\"https://wandb.ai/mismayil/ml4science-polymers/runs/36lg46ci\" target=\"_blank\">volcanic-field-52</a></strong> to <a href=\"https://wandb.ai/mismayil/ml4science-polymers\" target=\"_blank\">Weights & Biases</a> (<a href=\"https://docs.wandb.com/integrations/jupyter.html\" target=\"_blank\">docs</a>).<br/>\n",
       "\n",
       "                "
      ],
      "text/plain": [
       "<IPython.core.display.HTML object>"
      ]
     },
     "metadata": {},
     "output_type": "display_data"
    },
    {
     "data": {
      "text/html": [
       "Waiting for W&B process to finish, PID 76009... <strong style=\"color:green\">(success).</strong>"
      ],
      "text/plain": [
       "<IPython.core.display.HTML object>"
      ]
     },
     "metadata": {},
     "output_type": "display_data"
    },
    {
     "data": {
      "application/vnd.jupyter.widget-view+json": {
       "model_id": "2aca29a1d8854804bed8388c4fb8b22e",
       "version_major": 2,
       "version_minor": 0
      },
      "text/plain": [
       "VBox(children=(Label(value=' 0.00MB of 0.00MB uploaded (0.00MB deduped)\\r'), FloatProgress(value=1.0, max=1.0)…"
      ]
     },
     "metadata": {},
     "output_type": "display_data"
    },
    {
     "data": {
      "text/html": [
       "Synced <strong style=\"color:#cdcd00\">volcanic-field-52</strong>: <a href=\"https://wandb.ai/mismayil/ml4science-polymers/runs/36lg46ci\" target=\"_blank\">https://wandb.ai/mismayil/ml4science-polymers/runs/36lg46ci</a><br/>\n"
      ],
      "text/plain": [
       "<IPython.core.display.HTML object>"
      ]
     },
     "metadata": {},
     "output_type": "display_data"
    },
    {
     "name": "stderr",
     "output_type": "stream",
     "text": [
      "Processing ../data/AA66266AA.npy: 100%|██████████| 20085/20085 [05:44<00:00, 58.23it/s]\n",
      "Processing ../data/AA66566AA.npy: 100%|██████████| 20026/20026 [05:21<00:00, 62.23it/s]\n"
     ]
    },
    {
     "data": {
      "text/html": [
       "\n",
       "                    Syncing run <strong><a href=\"https://wandb.ai/mismayil/ml4science-polymers/runs/3kwueis6\" target=\"_blank\">northern-waterfall-53</a></strong> to <a href=\"https://wandb.ai/mismayil/ml4science-polymers\" target=\"_blank\">Weights & Biases</a> (<a href=\"https://docs.wandb.com/integrations/jupyter.html\" target=\"_blank\">docs</a>).<br/>\n",
       "\n",
       "                "
      ],
      "text/plain": [
       "<IPython.core.display.HTML object>"
      ]
     },
     "metadata": {},
     "output_type": "display_data"
    },
    {
     "data": {
      "text/html": [
       "Waiting for W&B process to finish, PID 76334... <strong style=\"color:green\">(success).</strong>"
      ],
      "text/plain": [
       "<IPython.core.display.HTML object>"
      ]
     },
     "metadata": {},
     "output_type": "display_data"
    },
    {
     "data": {
      "application/vnd.jupyter.widget-view+json": {
       "model_id": "c417c69f967c4d9e958549dd730c010a",
       "version_major": 2,
       "version_minor": 0
      },
      "text/plain": [
       "VBox(children=(Label(value=' 0.00MB of 0.00MB uploaded (0.00MB deduped)\\r'), FloatProgress(value=1.0, max=1.0)…"
      ]
     },
     "metadata": {},
     "output_type": "display_data"
    },
    {
     "data": {
      "text/html": [
       "Synced <strong style=\"color:#cdcd00\">northern-waterfall-53</strong>: <a href=\"https://wandb.ai/mismayil/ml4science-polymers/runs/3kwueis6\" target=\"_blank\">https://wandb.ai/mismayil/ml4science-polymers/runs/3kwueis6</a><br/>\n"
      ],
      "text/plain": [
       "<IPython.core.display.HTML object>"
      ]
     },
     "metadata": {},
     "output_type": "display_data"
    },
    {
     "name": "stderr",
     "output_type": "stream",
     "text": [
      "Processing ../data/AA66266AA.npy: 100%|██████████| 20085/20085 [05:48<00:00, 57.64it/s]\n",
      "Processing ../data/AA66566AA.npy: 100%|██████████| 20026/20026 [05:20<00:00, 62.41it/s]\n"
     ]
    },
    {
     "data": {
      "text/html": [
       "\n",
       "                    Syncing run <strong><a href=\"https://wandb.ai/mismayil/ml4science-polymers/runs/y2wfwy73\" target=\"_blank\">magic-feather-54</a></strong> to <a href=\"https://wandb.ai/mismayil/ml4science-polymers\" target=\"_blank\">Weights & Biases</a> (<a href=\"https://docs.wandb.com/integrations/jupyter.html\" target=\"_blank\">docs</a>).<br/>\n",
       "\n",
       "                "
      ],
      "text/plain": [
       "<IPython.core.display.HTML object>"
      ]
     },
     "metadata": {},
     "output_type": "display_data"
    },
    {
     "data": {
      "text/html": [
       "Waiting for W&B process to finish, PID 76597... <strong style=\"color:green\">(success).</strong>"
      ],
      "text/plain": [
       "<IPython.core.display.HTML object>"
      ]
     },
     "metadata": {},
     "output_type": "display_data"
    },
    {
     "data": {
      "application/vnd.jupyter.widget-view+json": {
       "model_id": "de3fd23b788240a786eac7ada896ce18",
       "version_major": 2,
       "version_minor": 0
      },
      "text/plain": [
       "VBox(children=(Label(value=' 0.00MB of 0.00MB uploaded (0.00MB deduped)\\r'), FloatProgress(value=1.0, max=1.0)…"
      ]
     },
     "metadata": {},
     "output_type": "display_data"
    },
    {
     "data": {
      "text/html": [
       "Synced <strong style=\"color:#cdcd00\">magic-feather-54</strong>: <a href=\"https://wandb.ai/mismayil/ml4science-polymers/runs/y2wfwy73\" target=\"_blank\">https://wandb.ai/mismayil/ml4science-polymers/runs/y2wfwy73</a><br/>\n"
      ],
      "text/plain": [
       "<IPython.core.display.HTML object>"
      ]
     },
     "metadata": {},
     "output_type": "display_data"
    },
    {
     "name": "stderr",
     "output_type": "stream",
     "text": [
      "Processing ../data/AA66266AA.npy: 100%|██████████| 20085/20085 [05:37<00:00, 59.58it/s]\n",
      "Processing ../data/AA66566AA.npy: 100%|██████████| 20026/20026 [05:12<00:00, 64.15it/s]\n"
     ]
    },
    {
     "data": {
      "text/html": [
       "\n",
       "                    Syncing run <strong><a href=\"https://wandb.ai/mismayil/ml4science-polymers/runs/ltqsfhq6\" target=\"_blank\">dulcet-donkey-55</a></strong> to <a href=\"https://wandb.ai/mismayil/ml4science-polymers\" target=\"_blank\">Weights & Biases</a> (<a href=\"https://docs.wandb.com/integrations/jupyter.html\" target=\"_blank\">docs</a>).<br/>\n",
       "\n",
       "                "
      ],
      "text/plain": [
       "<IPython.core.display.HTML object>"
      ]
     },
     "metadata": {},
     "output_type": "display_data"
    },
    {
     "data": {
      "text/html": [
       "Waiting for W&B process to finish, PID 76982... <strong style=\"color:green\">(success).</strong>"
      ],
      "text/plain": [
       "<IPython.core.display.HTML object>"
      ]
     },
     "metadata": {},
     "output_type": "display_data"
    },
    {
     "data": {
      "application/vnd.jupyter.widget-view+json": {
       "model_id": "cc7fcd54d50e48158606c01f6c9a6cf1",
       "version_major": 2,
       "version_minor": 0
      },
      "text/plain": [
       "VBox(children=(Label(value=' 0.00MB of 0.00MB uploaded (0.00MB deduped)\\r'), FloatProgress(value=1.0, max=1.0)…"
      ]
     },
     "metadata": {},
     "output_type": "display_data"
    },
    {
     "data": {
      "text/html": [
       "Synced <strong style=\"color:#cdcd00\">dulcet-donkey-55</strong>: <a href=\"https://wandb.ai/mismayil/ml4science-polymers/runs/ltqsfhq6\" target=\"_blank\">https://wandb.ai/mismayil/ml4science-polymers/runs/ltqsfhq6</a><br/>\n"
      ],
      "text/plain": [
       "<IPython.core.display.HTML object>"
      ]
     },
     "metadata": {},
     "output_type": "display_data"
    }
   ],
   "source": [
    "param_grid = {\n",
    "    'data_paths': [['../data/AA66266AA.npy', '../data/AA66566AA.npy']],\n",
    "    'num_blocks': [16, 32, 64, 128],\n",
    "    'lr_rate': [0.001, 0.01],\n",
    "    'num_epochs': [100, 200]\n",
    "}\n",
    "\n",
    "run_245(param_grid)"
   ]
  },
  {
   "cell_type": "code",
   "execution_count": 4,
   "metadata": {},
   "outputs": [
    {
     "name": "stderr",
     "output_type": "stream",
     "text": [
      "Processing ../data/AA66466AA.npy: 100%|██████████| 40576/40576 [03:00<00:00, 224.56it/s]\n",
      "Processing ../data/AA66566AA.npy: 100%|██████████| 39128/39128 [01:24<00:00, 462.94it/s]\n"
     ]
    },
    {
     "data": {
      "text/html": [
       "\n",
       "                    Syncing run <strong><a href=\"https://wandb.ai/mismayil/ml4science-polymers/runs/3nkjt3cd\" target=\"_blank\">effortless-dawn-56</a></strong> to <a href=\"https://wandb.ai/mismayil/ml4science-polymers\" target=\"_blank\">Weights & Biases</a> (<a href=\"https://docs.wandb.com/integrations/jupyter.html\" target=\"_blank\">docs</a>).<br/>\n",
       "\n",
       "                "
      ],
      "text/plain": [
       "<IPython.core.display.HTML object>"
      ]
     },
     "metadata": {},
     "output_type": "display_data"
    },
    {
     "data": {
      "text/html": [
       "Waiting for W&B process to finish, PID 77024... <strong style=\"color:green\">(success).</strong>"
      ],
      "text/plain": [
       "<IPython.core.display.HTML object>"
      ]
     },
     "metadata": {},
     "output_type": "display_data"
    },
    {
     "data": {
      "application/vnd.jupyter.widget-view+json": {
       "model_id": "296e1993fc3e496486668b6a28697b10",
       "version_major": 2,
       "version_minor": 0
      },
      "text/plain": [
       "VBox(children=(Label(value=' 0.00MB of 0.00MB uploaded (0.00MB deduped)\\r'), FloatProgress(value=1.0, max=1.0)…"
      ]
     },
     "metadata": {},
     "output_type": "display_data"
    },
    {
     "data": {
      "text/html": [
       "Synced <strong style=\"color:#cdcd00\">effortless-dawn-56</strong>: <a href=\"https://wandb.ai/mismayil/ml4science-polymers/runs/3nkjt3cd\" target=\"_blank\">https://wandb.ai/mismayil/ml4science-polymers/runs/3nkjt3cd</a><br/>\n"
      ],
      "text/plain": [
       "<IPython.core.display.HTML object>"
      ]
     },
     "metadata": {},
     "output_type": "display_data"
    },
    {
     "name": "stderr",
     "output_type": "stream",
     "text": [
      "Processing ../data/AA66466AA.npy: 100%|██████████| 40576/40576 [03:01<00:00, 223.23it/s]\n",
      "Processing ../data/AA66566AA.npy: 100%|██████████| 39128/39128 [01:24<00:00, 460.70it/s]\n"
     ]
    },
    {
     "data": {
      "text/html": [
       "\n",
       "                    Syncing run <strong><a href=\"https://wandb.ai/mismayil/ml4science-polymers/runs/2x20b9j4\" target=\"_blank\">golden-puddle-57</a></strong> to <a href=\"https://wandb.ai/mismayil/ml4science-polymers\" target=\"_blank\">Weights & Biases</a> (<a href=\"https://docs.wandb.com/integrations/jupyter.html\" target=\"_blank\">docs</a>).<br/>\n",
       "\n",
       "                "
      ],
      "text/plain": [
       "<IPython.core.display.HTML object>"
      ]
     },
     "metadata": {},
     "output_type": "display_data"
    },
    {
     "data": {
      "text/html": [
       "Waiting for W&B process to finish, PID 77047... <strong style=\"color:green\">(success).</strong>"
      ],
      "text/plain": [
       "<IPython.core.display.HTML object>"
      ]
     },
     "metadata": {},
     "output_type": "display_data"
    },
    {
     "data": {
      "application/vnd.jupyter.widget-view+json": {
       "model_id": "5ad7a0043d284f64893756bbe08b3e07",
       "version_major": 2,
       "version_minor": 0
      },
      "text/plain": [
       "VBox(children=(Label(value=' 0.00MB of 0.00MB uploaded (0.00MB deduped)\\r'), FloatProgress(value=1.0, max=1.0)…"
      ]
     },
     "metadata": {},
     "output_type": "display_data"
    },
    {
     "data": {
      "text/html": [
       "Synced <strong style=\"color:#cdcd00\">golden-puddle-57</strong>: <a href=\"https://wandb.ai/mismayil/ml4science-polymers/runs/2x20b9j4\" target=\"_blank\">https://wandb.ai/mismayil/ml4science-polymers/runs/2x20b9j4</a><br/>\n"
      ],
      "text/plain": [
       "<IPython.core.display.HTML object>"
      ]
     },
     "metadata": {},
     "output_type": "display_data"
    },
    {
     "name": "stderr",
     "output_type": "stream",
     "text": [
      "Processing ../data/AA66466AA.npy: 100%|██████████| 40576/40576 [03:01<00:00, 223.61it/s]\n",
      "Processing ../data/AA66566AA.npy: 100%|██████████| 39128/39128 [01:24<00:00, 461.61it/s]\n"
     ]
    },
    {
     "data": {
      "text/html": [
       "\n",
       "                    Syncing run <strong><a href=\"https://wandb.ai/mismayil/ml4science-polymers/runs/wkk0fh1f\" target=\"_blank\">olive-wind-58</a></strong> to <a href=\"https://wandb.ai/mismayil/ml4science-polymers\" target=\"_blank\">Weights & Biases</a> (<a href=\"https://docs.wandb.com/integrations/jupyter.html\" target=\"_blank\">docs</a>).<br/>\n",
       "\n",
       "                "
      ],
      "text/plain": [
       "<IPython.core.display.HTML object>"
      ]
     },
     "metadata": {},
     "output_type": "display_data"
    },
    {
     "data": {
      "text/html": [
       "Waiting for W&B process to finish, PID 77083... <strong style=\"color:green\">(success).</strong>"
      ],
      "text/plain": [
       "<IPython.core.display.HTML object>"
      ]
     },
     "metadata": {},
     "output_type": "display_data"
    },
    {
     "data": {
      "application/vnd.jupyter.widget-view+json": {
       "model_id": "9361f819a6c648a4937b6bf379190fe6",
       "version_major": 2,
       "version_minor": 0
      },
      "text/plain": [
       "VBox(children=(Label(value=' 0.00MB of 0.00MB uploaded (0.00MB deduped)\\r'), FloatProgress(value=1.0, max=1.0)…"
      ]
     },
     "metadata": {},
     "output_type": "display_data"
    },
    {
     "data": {
      "text/html": [
       "Synced <strong style=\"color:#cdcd00\">olive-wind-58</strong>: <a href=\"https://wandb.ai/mismayil/ml4science-polymers/runs/wkk0fh1f\" target=\"_blank\">https://wandb.ai/mismayil/ml4science-polymers/runs/wkk0fh1f</a><br/>\n"
      ],
      "text/plain": [
       "<IPython.core.display.HTML object>"
      ]
     },
     "metadata": {},
     "output_type": "display_data"
    },
    {
     "name": "stderr",
     "output_type": "stream",
     "text": [
      "Processing ../data/AA66466AA.npy: 100%|██████████| 40576/40576 [03:01<00:00, 223.18it/s]\n",
      "Processing ../data/AA66566AA.npy: 100%|██████████| 39128/39128 [01:24<00:00, 460.61it/s]\n"
     ]
    },
    {
     "data": {
      "text/html": [
       "\n",
       "                    Syncing run <strong><a href=\"https://wandb.ai/mismayil/ml4science-polymers/runs/3pby7dq8\" target=\"_blank\">cosmic-bee-59</a></strong> to <a href=\"https://wandb.ai/mismayil/ml4science-polymers\" target=\"_blank\">Weights & Biases</a> (<a href=\"https://docs.wandb.com/integrations/jupyter.html\" target=\"_blank\">docs</a>).<br/>\n",
       "\n",
       "                "
      ],
      "text/plain": [
       "<IPython.core.display.HTML object>"
      ]
     },
     "metadata": {},
     "output_type": "display_data"
    },
    {
     "data": {
      "text/html": [
       "Waiting for W&B process to finish, PID 77108... <strong style=\"color:green\">(success).</strong>"
      ],
      "text/plain": [
       "<IPython.core.display.HTML object>"
      ]
     },
     "metadata": {},
     "output_type": "display_data"
    },
    {
     "data": {
      "application/vnd.jupyter.widget-view+json": {
       "model_id": "262666333b1f45329195f3abde5b31ce",
       "version_major": 2,
       "version_minor": 0
      },
      "text/plain": [
       "VBox(children=(Label(value=' 0.00MB of 0.00MB uploaded (0.00MB deduped)\\r'), FloatProgress(value=1.0, max=1.0)…"
      ]
     },
     "metadata": {},
     "output_type": "display_data"
    },
    {
     "data": {
      "text/html": [
       "Synced <strong style=\"color:#cdcd00\">cosmic-bee-59</strong>: <a href=\"https://wandb.ai/mismayil/ml4science-polymers/runs/3pby7dq8\" target=\"_blank\">https://wandb.ai/mismayil/ml4science-polymers/runs/3pby7dq8</a><br/>\n"
      ],
      "text/plain": [
       "<IPython.core.display.HTML object>"
      ]
     },
     "metadata": {},
     "output_type": "display_data"
    },
    {
     "name": "stderr",
     "output_type": "stream",
     "text": [
      "Processing ../data/AA66466AA.npy: 100%|██████████| 40576/40576 [03:34<00:00, 188.76it/s]\n",
      "Processing ../data/AA66566AA.npy: 100%|██████████| 39128/39128 [01:51<00:00, 352.07it/s]\n"
     ]
    },
    {
     "data": {
      "text/html": [
       "\n",
       "                    Syncing run <strong><a href=\"https://wandb.ai/mismayil/ml4science-polymers/runs/2dk1xj1f\" target=\"_blank\">dainty-pine-60</a></strong> to <a href=\"https://wandb.ai/mismayil/ml4science-polymers\" target=\"_blank\">Weights & Biases</a> (<a href=\"https://docs.wandb.com/integrations/jupyter.html\" target=\"_blank\">docs</a>).<br/>\n",
       "\n",
       "                "
      ],
      "text/plain": [
       "<IPython.core.display.HTML object>"
      ]
     },
     "metadata": {},
     "output_type": "display_data"
    },
    {
     "data": {
      "text/html": [
       "Waiting for W&B process to finish, PID 77143... <strong style=\"color:green\">(success).</strong>"
      ],
      "text/plain": [
       "<IPython.core.display.HTML object>"
      ]
     },
     "metadata": {},
     "output_type": "display_data"
    },
    {
     "data": {
      "application/vnd.jupyter.widget-view+json": {
       "model_id": "b534fa6008204068ab52c2e04ced4fd5",
       "version_major": 2,
       "version_minor": 0
      },
      "text/plain": [
       "VBox(children=(Label(value=' 0.00MB of 0.00MB uploaded (0.00MB deduped)\\r'), FloatProgress(value=1.0, max=1.0)…"
      ]
     },
     "metadata": {},
     "output_type": "display_data"
    },
    {
     "data": {
      "text/html": [
       "Synced <strong style=\"color:#cdcd00\">dainty-pine-60</strong>: <a href=\"https://wandb.ai/mismayil/ml4science-polymers/runs/2dk1xj1f\" target=\"_blank\">https://wandb.ai/mismayil/ml4science-polymers/runs/2dk1xj1f</a><br/>\n"
      ],
      "text/plain": [
       "<IPython.core.display.HTML object>"
      ]
     },
     "metadata": {},
     "output_type": "display_data"
    },
    {
     "name": "stderr",
     "output_type": "stream",
     "text": [
      "Processing ../data/AA66466AA.npy: 100%|██████████| 40576/40576 [03:35<00:00, 188.09it/s]\n",
      "Processing ../data/AA66566AA.npy: 100%|██████████| 39128/39128 [01:51<00:00, 351.33it/s]\n"
     ]
    },
    {
     "data": {
      "text/html": [
       "\n",
       "                    Syncing run <strong><a href=\"https://wandb.ai/mismayil/ml4science-polymers/runs/r5gd9vbr\" target=\"_blank\">expert-glade-61</a></strong> to <a href=\"https://wandb.ai/mismayil/ml4science-polymers\" target=\"_blank\">Weights & Biases</a> (<a href=\"https://docs.wandb.com/integrations/jupyter.html\" target=\"_blank\">docs</a>).<br/>\n",
       "\n",
       "                "
      ],
      "text/plain": [
       "<IPython.core.display.HTML object>"
      ]
     },
     "metadata": {},
     "output_type": "display_data"
    },
    {
     "data": {
      "text/html": [
       "Waiting for W&B process to finish, PID 77182... <strong style=\"color:green\">(success).</strong>"
      ],
      "text/plain": [
       "<IPython.core.display.HTML object>"
      ]
     },
     "metadata": {},
     "output_type": "display_data"
    },
    {
     "data": {
      "application/vnd.jupyter.widget-view+json": {
       "model_id": "ea9f987674b04cf28a5ce46cf4062e8f",
       "version_major": 2,
       "version_minor": 0
      },
      "text/plain": [
       "VBox(children=(Label(value=' 0.00MB of 0.00MB uploaded (0.00MB deduped)\\r'), FloatProgress(value=1.0, max=1.0)…"
      ]
     },
     "metadata": {},
     "output_type": "display_data"
    },
    {
     "data": {
      "text/html": [
       "Synced <strong style=\"color:#cdcd00\">expert-glade-61</strong>: <a href=\"https://wandb.ai/mismayil/ml4science-polymers/runs/r5gd9vbr\" target=\"_blank\">https://wandb.ai/mismayil/ml4science-polymers/runs/r5gd9vbr</a><br/>\n"
      ],
      "text/plain": [
       "<IPython.core.display.HTML object>"
      ]
     },
     "metadata": {},
     "output_type": "display_data"
    },
    {
     "name": "stderr",
     "output_type": "stream",
     "text": [
      "Processing ../data/AA66466AA.npy: 100%|██████████| 40576/40576 [03:36<00:00, 187.60it/s]\n",
      "Processing ../data/AA66566AA.npy: 100%|██████████| 39128/39128 [01:51<00:00, 350.16it/s]\n"
     ]
    },
    {
     "data": {
      "text/html": [
       "\n",
       "                    Syncing run <strong><a href=\"https://wandb.ai/mismayil/ml4science-polymers/runs/22w3gqj0\" target=\"_blank\">crimson-valley-62</a></strong> to <a href=\"https://wandb.ai/mismayil/ml4science-polymers\" target=\"_blank\">Weights & Biases</a> (<a href=\"https://docs.wandb.com/integrations/jupyter.html\" target=\"_blank\">docs</a>).<br/>\n",
       "\n",
       "                "
      ],
      "text/plain": [
       "<IPython.core.display.HTML object>"
      ]
     },
     "metadata": {},
     "output_type": "display_data"
    },
    {
     "data": {
      "text/html": [
       "Waiting for W&B process to finish, PID 77219... <strong style=\"color:green\">(success).</strong>"
      ],
      "text/plain": [
       "<IPython.core.display.HTML object>"
      ]
     },
     "metadata": {},
     "output_type": "display_data"
    },
    {
     "data": {
      "application/vnd.jupyter.widget-view+json": {
       "model_id": "abbf02d6c33044d694c5f104163119e8",
       "version_major": 2,
       "version_minor": 0
      },
      "text/plain": [
       "VBox(children=(Label(value=' 0.00MB of 0.00MB uploaded (0.00MB deduped)\\r'), FloatProgress(value=1.0, max=1.0)…"
      ]
     },
     "metadata": {},
     "output_type": "display_data"
    },
    {
     "data": {
      "text/html": [
       "Synced <strong style=\"color:#cdcd00\">crimson-valley-62</strong>: <a href=\"https://wandb.ai/mismayil/ml4science-polymers/runs/22w3gqj0\" target=\"_blank\">https://wandb.ai/mismayil/ml4science-polymers/runs/22w3gqj0</a><br/>\n"
      ],
      "text/plain": [
       "<IPython.core.display.HTML object>"
      ]
     },
     "metadata": {},
     "output_type": "display_data"
    },
    {
     "name": "stderr",
     "output_type": "stream",
     "text": [
      "Processing ../data/AA66466AA.npy: 100%|██████████| 40576/40576 [03:36<00:00, 187.77it/s]\n",
      "Processing ../data/AA66566AA.npy: 100%|██████████| 39128/39128 [01:51<00:00, 351.70it/s]\n"
     ]
    },
    {
     "data": {
      "text/html": [
       "\n",
       "                    Syncing run <strong><a href=\"https://wandb.ai/mismayil/ml4science-polymers/runs/1zme4cnm\" target=\"_blank\">glorious-brook-63</a></strong> to <a href=\"https://wandb.ai/mismayil/ml4science-polymers\" target=\"_blank\">Weights & Biases</a> (<a href=\"https://docs.wandb.com/integrations/jupyter.html\" target=\"_blank\">docs</a>).<br/>\n",
       "\n",
       "                "
      ],
      "text/plain": [
       "<IPython.core.display.HTML object>"
      ]
     },
     "metadata": {},
     "output_type": "display_data"
    },
    {
     "data": {
      "text/html": [
       "Waiting for W&B process to finish, PID 77245... <strong style=\"color:green\">(success).</strong>"
      ],
      "text/plain": [
       "<IPython.core.display.HTML object>"
      ]
     },
     "metadata": {},
     "output_type": "display_data"
    },
    {
     "data": {
      "application/vnd.jupyter.widget-view+json": {
       "model_id": "d1adb2f1b0a24a05978ddcce82f787e2",
       "version_major": 2,
       "version_minor": 0
      },
      "text/plain": [
       "VBox(children=(Label(value=' 0.00MB of 0.00MB uploaded (0.00MB deduped)\\r'), FloatProgress(value=1.0, max=1.0)…"
      ]
     },
     "metadata": {},
     "output_type": "display_data"
    },
    {
     "data": {
      "text/html": [
       "Synced <strong style=\"color:#cdcd00\">glorious-brook-63</strong>: <a href=\"https://wandb.ai/mismayil/ml4science-polymers/runs/1zme4cnm\" target=\"_blank\">https://wandb.ai/mismayil/ml4science-polymers/runs/1zme4cnm</a><br/>\n"
      ],
      "text/plain": [
       "<IPython.core.display.HTML object>"
      ]
     },
     "metadata": {},
     "output_type": "display_data"
    },
    {
     "name": "stderr",
     "output_type": "stream",
     "text": [
      "Processing ../data/AA66466AA.npy: 100%|██████████| 40576/40576 [04:33<00:00, 148.21it/s]\n",
      "Processing ../data/AA66566AA.npy: 100%|██████████| 39128/39128 [02:36<00:00, 250.13it/s]\n"
     ]
    },
    {
     "data": {
      "text/html": [
       "\n",
       "                    Syncing run <strong><a href=\"https://wandb.ai/mismayil/ml4science-polymers/runs/23n2irry\" target=\"_blank\">resilient-valley-64</a></strong> to <a href=\"https://wandb.ai/mismayil/ml4science-polymers\" target=\"_blank\">Weights & Biases</a> (<a href=\"https://docs.wandb.com/integrations/jupyter.html\" target=\"_blank\">docs</a>).<br/>\n",
       "\n",
       "                "
      ],
      "text/plain": [
       "<IPython.core.display.HTML object>"
      ]
     },
     "metadata": {},
     "output_type": "display_data"
    },
    {
     "data": {
      "text/html": [
       "Waiting for W&B process to finish, PID 77278... <strong style=\"color:green\">(success).</strong>"
      ],
      "text/plain": [
       "<IPython.core.display.HTML object>"
      ]
     },
     "metadata": {},
     "output_type": "display_data"
    },
    {
     "data": {
      "application/vnd.jupyter.widget-view+json": {
       "model_id": "ffac0ecd54ac49af81f0498e348b508c",
       "version_major": 2,
       "version_minor": 0
      },
      "text/plain": [
       "VBox(children=(Label(value=' 0.00MB of 0.00MB uploaded (0.00MB deduped)\\r'), FloatProgress(value=1.0, max=1.0)…"
      ]
     },
     "metadata": {},
     "output_type": "display_data"
    },
    {
     "data": {
      "text/html": [
       "Synced <strong style=\"color:#cdcd00\">resilient-valley-64</strong>: <a href=\"https://wandb.ai/mismayil/ml4science-polymers/runs/23n2irry\" target=\"_blank\">https://wandb.ai/mismayil/ml4science-polymers/runs/23n2irry</a><br/>\n"
      ],
      "text/plain": [
       "<IPython.core.display.HTML object>"
      ]
     },
     "metadata": {},
     "output_type": "display_data"
    },
    {
     "name": "stderr",
     "output_type": "stream",
     "text": [
      "Processing ../data/AA66466AA.npy: 100%|██████████| 40576/40576 [04:34<00:00, 147.79it/s]\n",
      "Processing ../data/AA66566AA.npy: 100%|██████████| 39128/39128 [02:36<00:00, 250.56it/s]\n"
     ]
    },
    {
     "data": {
      "text/html": [
       "\n",
       "                    Syncing run <strong><a href=\"https://wandb.ai/mismayil/ml4science-polymers/runs/2ybre5p2\" target=\"_blank\">pious-flower-65</a></strong> to <a href=\"https://wandb.ai/mismayil/ml4science-polymers\" target=\"_blank\">Weights & Biases</a> (<a href=\"https://docs.wandb.com/integrations/jupyter.html\" target=\"_blank\">docs</a>).<br/>\n",
       "\n",
       "                "
      ],
      "text/plain": [
       "<IPython.core.display.HTML object>"
      ]
     },
     "metadata": {},
     "output_type": "display_data"
    },
    {
     "data": {
      "text/html": [
       "Waiting for W&B process to finish, PID 77312... <strong style=\"color:green\">(success).</strong>"
      ],
      "text/plain": [
       "<IPython.core.display.HTML object>"
      ]
     },
     "metadata": {},
     "output_type": "display_data"
    },
    {
     "data": {
      "application/vnd.jupyter.widget-view+json": {
       "model_id": "360ae12fea884253ae4d22e09470a434",
       "version_major": 2,
       "version_minor": 0
      },
      "text/plain": [
       "VBox(children=(Label(value=' 0.00MB of 0.00MB uploaded (0.00MB deduped)\\r'), FloatProgress(value=1.0, max=1.0)…"
      ]
     },
     "metadata": {},
     "output_type": "display_data"
    },
    {
     "data": {
      "text/html": [
       "Synced <strong style=\"color:#cdcd00\">pious-flower-65</strong>: <a href=\"https://wandb.ai/mismayil/ml4science-polymers/runs/2ybre5p2\" target=\"_blank\">https://wandb.ai/mismayil/ml4science-polymers/runs/2ybre5p2</a><br/>\n"
      ],
      "text/plain": [
       "<IPython.core.display.HTML object>"
      ]
     },
     "metadata": {},
     "output_type": "display_data"
    },
    {
     "name": "stderr",
     "output_type": "stream",
     "text": [
      "Processing ../data/AA66466AA.npy: 100%|██████████| 40576/40576 [04:32<00:00, 148.87it/s]\n",
      "Processing ../data/AA66566AA.npy: 100%|██████████| 39128/39128 [02:35<00:00, 252.35it/s]\n"
     ]
    },
    {
     "data": {
      "text/html": [
       "\n",
       "                    Syncing run <strong><a href=\"https://wandb.ai/mismayil/ml4science-polymers/runs/hpv9hd8w\" target=\"_blank\">electric-energy-66</a></strong> to <a href=\"https://wandb.ai/mismayil/ml4science-polymers\" target=\"_blank\">Weights & Biases</a> (<a href=\"https://docs.wandb.com/integrations/jupyter.html\" target=\"_blank\">docs</a>).<br/>\n",
       "\n",
       "                "
      ],
      "text/plain": [
       "<IPython.core.display.HTML object>"
      ]
     },
     "metadata": {},
     "output_type": "display_data"
    },
    {
     "data": {
      "text/html": [
       "Waiting for W&B process to finish, PID 77348... <strong style=\"color:green\">(success).</strong>"
      ],
      "text/plain": [
       "<IPython.core.display.HTML object>"
      ]
     },
     "metadata": {},
     "output_type": "display_data"
    },
    {
     "data": {
      "application/vnd.jupyter.widget-view+json": {
       "model_id": "b8b40a2d3d644a6b9ef5913ce2531140",
       "version_major": 2,
       "version_minor": 0
      },
      "text/plain": [
       "VBox(children=(Label(value=' 0.00MB of 0.00MB uploaded (0.00MB deduped)\\r'), FloatProgress(value=1.0, max=1.0)…"
      ]
     },
     "metadata": {},
     "output_type": "display_data"
    },
    {
     "data": {
      "text/html": [
       "Synced <strong style=\"color:#cdcd00\">electric-energy-66</strong>: <a href=\"https://wandb.ai/mismayil/ml4science-polymers/runs/hpv9hd8w\" target=\"_blank\">https://wandb.ai/mismayil/ml4science-polymers/runs/hpv9hd8w</a><br/>\n"
      ],
      "text/plain": [
       "<IPython.core.display.HTML object>"
      ]
     },
     "metadata": {},
     "output_type": "display_data"
    },
    {
     "name": "stderr",
     "output_type": "stream",
     "text": [
      "Processing ../data/AA66466AA.npy: 100%|██████████| 40576/40576 [04:32<00:00, 148.75it/s]\n",
      "Processing ../data/AA66566AA.npy: 100%|██████████| 39128/39128 [02:34<00:00, 253.16it/s]\n"
     ]
    },
    {
     "data": {
      "text/html": [
       "\n",
       "                    Syncing run <strong><a href=\"https://wandb.ai/mismayil/ml4science-polymers/runs/2lg2xwcl\" target=\"_blank\">sunny-feather-67</a></strong> to <a href=\"https://wandb.ai/mismayil/ml4science-polymers\" target=\"_blank\">Weights & Biases</a> (<a href=\"https://docs.wandb.com/integrations/jupyter.html\" target=\"_blank\">docs</a>).<br/>\n",
       "\n",
       "                "
      ],
      "text/plain": [
       "<IPython.core.display.HTML object>"
      ]
     },
     "metadata": {},
     "output_type": "display_data"
    },
    {
     "data": {
      "text/html": [
       "Waiting for W&B process to finish, PID 77400... <strong style=\"color:green\">(success).</strong>"
      ],
      "text/plain": [
       "<IPython.core.display.HTML object>"
      ]
     },
     "metadata": {},
     "output_type": "display_data"
    },
    {
     "data": {
      "application/vnd.jupyter.widget-view+json": {
       "model_id": "0d90e3583c5440bdbce8535be17baacf",
       "version_major": 2,
       "version_minor": 0
      },
      "text/plain": [
       "VBox(children=(Label(value=' 0.00MB of 0.00MB uploaded (0.00MB deduped)\\r'), FloatProgress(value=1.0, max=1.0)…"
      ]
     },
     "metadata": {},
     "output_type": "display_data"
    },
    {
     "data": {
      "text/html": [
       "Synced <strong style=\"color:#cdcd00\">sunny-feather-67</strong>: <a href=\"https://wandb.ai/mismayil/ml4science-polymers/runs/2lg2xwcl\" target=\"_blank\">https://wandb.ai/mismayil/ml4science-polymers/runs/2lg2xwcl</a><br/>\n"
      ],
      "text/plain": [
       "<IPython.core.display.HTML object>"
      ]
     },
     "metadata": {},
     "output_type": "display_data"
    },
    {
     "name": "stderr",
     "output_type": "stream",
     "text": [
      "Processing ../data/AA66466AA.npy: 100%|██████████| 40576/40576 [06:09<00:00, 109.83it/s]\n",
      "Processing ../data/AA66566AA.npy: 100%|██████████| 39128/39128 [03:51<00:00, 168.77it/s]\n"
     ]
    },
    {
     "data": {
      "text/html": [
       "\n",
       "                    Syncing run <strong><a href=\"https://wandb.ai/mismayil/ml4science-polymers/runs/1teesu8q\" target=\"_blank\">fine-fire-68</a></strong> to <a href=\"https://wandb.ai/mismayil/ml4science-polymers\" target=\"_blank\">Weights & Biases</a> (<a href=\"https://docs.wandb.com/integrations/jupyter.html\" target=\"_blank\">docs</a>).<br/>\n",
       "\n",
       "                "
      ],
      "text/plain": [
       "<IPython.core.display.HTML object>"
      ]
     },
     "metadata": {},
     "output_type": "display_data"
    },
    {
     "data": {
      "text/html": [
       "Waiting for W&B process to finish, PID 77485... <strong style=\"color:green\">(success).</strong>"
      ],
      "text/plain": [
       "<IPython.core.display.HTML object>"
      ]
     },
     "metadata": {},
     "output_type": "display_data"
    },
    {
     "data": {
      "application/vnd.jupyter.widget-view+json": {
       "model_id": "b248bdab153445eda11d361245da02be",
       "version_major": 2,
       "version_minor": 0
      },
      "text/plain": [
       "VBox(children=(Label(value=' 0.00MB of 0.00MB uploaded (0.00MB deduped)\\r'), FloatProgress(value=1.0, max=1.0)…"
      ]
     },
     "metadata": {},
     "output_type": "display_data"
    },
    {
     "data": {
      "text/html": [
       "Synced <strong style=\"color:#cdcd00\">fine-fire-68</strong>: <a href=\"https://wandb.ai/mismayil/ml4science-polymers/runs/1teesu8q\" target=\"_blank\">https://wandb.ai/mismayil/ml4science-polymers/runs/1teesu8q</a><br/>\n"
      ],
      "text/plain": [
       "<IPython.core.display.HTML object>"
      ]
     },
     "metadata": {},
     "output_type": "display_data"
    },
    {
     "name": "stderr",
     "output_type": "stream",
     "text": [
      "Processing ../data/AA66466AA.npy: 100%|██████████| 40576/40576 [06:10<00:00, 109.47it/s]\n",
      "Processing ../data/AA66566AA.npy: 100%|██████████| 39128/39128 [03:52<00:00, 168.19it/s]\n"
     ]
    },
    {
     "data": {
      "text/html": [
       "\n",
       "                    Syncing run <strong><a href=\"https://wandb.ai/mismayil/ml4science-polymers/runs/1d73j5z8\" target=\"_blank\">rare-snowflake-69</a></strong> to <a href=\"https://wandb.ai/mismayil/ml4science-polymers\" target=\"_blank\">Weights & Biases</a> (<a href=\"https://docs.wandb.com/integrations/jupyter.html\" target=\"_blank\">docs</a>).<br/>\n",
       "\n",
       "                "
      ],
      "text/plain": [
       "<IPython.core.display.HTML object>"
      ]
     },
     "metadata": {},
     "output_type": "display_data"
    },
    {
     "data": {
      "text/html": [
       "Waiting for W&B process to finish, PID 77527... <strong style=\"color:green\">(success).</strong>"
      ],
      "text/plain": [
       "<IPython.core.display.HTML object>"
      ]
     },
     "metadata": {},
     "output_type": "display_data"
    },
    {
     "data": {
      "application/vnd.jupyter.widget-view+json": {
       "model_id": "afe0ba83984f4446a7e23860d71ef4b1",
       "version_major": 2,
       "version_minor": 0
      },
      "text/plain": [
       "VBox(children=(Label(value=' 0.00MB of 0.00MB uploaded (0.00MB deduped)\\r'), FloatProgress(value=1.0, max=1.0)…"
      ]
     },
     "metadata": {},
     "output_type": "display_data"
    },
    {
     "data": {
      "text/html": [
       "Synced <strong style=\"color:#cdcd00\">rare-snowflake-69</strong>: <a href=\"https://wandb.ai/mismayil/ml4science-polymers/runs/1d73j5z8\" target=\"_blank\">https://wandb.ai/mismayil/ml4science-polymers/runs/1d73j5z8</a><br/>\n"
      ],
      "text/plain": [
       "<IPython.core.display.HTML object>"
      ]
     },
     "metadata": {},
     "output_type": "display_data"
    },
    {
     "name": "stderr",
     "output_type": "stream",
     "text": [
      "Processing ../data/AA66466AA.npy: 100%|██████████| 40576/40576 [06:08<00:00, 110.17it/s]\n",
      "Processing ../data/AA66566AA.npy: 100%|██████████| 39128/39128 [03:50<00:00, 169.45it/s]\n"
     ]
    },
    {
     "data": {
      "text/html": [
       "\n",
       "                    Syncing run <strong><a href=\"https://wandb.ai/mismayil/ml4science-polymers/runs/eljsr7uy\" target=\"_blank\">pretty-oath-70</a></strong> to <a href=\"https://wandb.ai/mismayil/ml4science-polymers\" target=\"_blank\">Weights & Biases</a> (<a href=\"https://docs.wandb.com/integrations/jupyter.html\" target=\"_blank\">docs</a>).<br/>\n",
       "\n",
       "                "
      ],
      "text/plain": [
       "<IPython.core.display.HTML object>"
      ]
     },
     "metadata": {},
     "output_type": "display_data"
    },
    {
     "data": {
      "text/html": [
       "Waiting for W&B process to finish, PID 77575... <strong style=\"color:green\">(success).</strong>"
      ],
      "text/plain": [
       "<IPython.core.display.HTML object>"
      ]
     },
     "metadata": {},
     "output_type": "display_data"
    },
    {
     "data": {
      "application/vnd.jupyter.widget-view+json": {
       "model_id": "1d6f720f3d6a4816825d1dd3354696bb",
       "version_major": 2,
       "version_minor": 0
      },
      "text/plain": [
       "VBox(children=(Label(value=' 0.00MB of 0.00MB uploaded (0.00MB deduped)\\r'), FloatProgress(value=1.0, max=1.0)…"
      ]
     },
     "metadata": {},
     "output_type": "display_data"
    },
    {
     "data": {
      "text/html": [
       "Synced <strong style=\"color:#cdcd00\">pretty-oath-70</strong>: <a href=\"https://wandb.ai/mismayil/ml4science-polymers/runs/eljsr7uy\" target=\"_blank\">https://wandb.ai/mismayil/ml4science-polymers/runs/eljsr7uy</a><br/>\n"
      ],
      "text/plain": [
       "<IPython.core.display.HTML object>"
      ]
     },
     "metadata": {},
     "output_type": "display_data"
    },
    {
     "name": "stderr",
     "output_type": "stream",
     "text": [
      "Processing ../data/AA66466AA.npy: 100%|██████████| 40576/40576 [06:09<00:00, 109.74it/s]\n",
      "Processing ../data/AA66566AA.npy: 100%|██████████| 39128/39128 [03:52<00:00, 168.46it/s]\n"
     ]
    },
    {
     "data": {
      "text/html": [
       "\n",
       "                    Syncing run <strong><a href=\"https://wandb.ai/mismayil/ml4science-polymers/runs/1j13scnr\" target=\"_blank\">pretty-sky-71</a></strong> to <a href=\"https://wandb.ai/mismayil/ml4science-polymers\" target=\"_blank\">Weights & Biases</a> (<a href=\"https://docs.wandb.com/integrations/jupyter.html\" target=\"_blank\">docs</a>).<br/>\n",
       "\n",
       "                "
      ],
      "text/plain": [
       "<IPython.core.display.HTML object>"
      ]
     },
     "metadata": {},
     "output_type": "display_data"
    },
    {
     "data": {
      "text/html": [
       "Waiting for W&B process to finish, PID 77630... <strong style=\"color:green\">(success).</strong>"
      ],
      "text/plain": [
       "<IPython.core.display.HTML object>"
      ]
     },
     "metadata": {},
     "output_type": "display_data"
    },
    {
     "data": {
      "application/vnd.jupyter.widget-view+json": {
       "model_id": "a62cdfbdb67b484b9772943a6a01a06f",
       "version_major": 2,
       "version_minor": 0
      },
      "text/plain": [
       "VBox(children=(Label(value=' 0.00MB of 0.00MB uploaded (0.00MB deduped)\\r'), FloatProgress(value=1.0, max=1.0)…"
      ]
     },
     "metadata": {},
     "output_type": "display_data"
    },
    {
     "data": {
      "text/html": [
       "Synced <strong style=\"color:#cdcd00\">pretty-sky-71</strong>: <a href=\"https://wandb.ai/mismayil/ml4science-polymers/runs/1j13scnr\" target=\"_blank\">https://wandb.ai/mismayil/ml4science-polymers/runs/1j13scnr</a><br/>\n"
      ],
      "text/plain": [
       "<IPython.core.display.HTML object>"
      ]
     },
     "metadata": {},
     "output_type": "display_data"
    },
    {
     "name": "stderr",
     "output_type": "stream",
     "text": [
      "Processing ../data/AA66466AA.npy: 100%|██████████| 40576/40576 [08:53<00:00, 76.03it/s]\n",
      "Processing ../data/AA66566AA.npy: 100%|██████████| 39128/39128 [06:09<00:00, 105.96it/s]\n"
     ]
    },
    {
     "data": {
      "text/html": [
       "\n",
       "                    Syncing run <strong><a href=\"https://wandb.ai/mismayil/ml4science-polymers/runs/2272r5p8\" target=\"_blank\">neat-water-72</a></strong> to <a href=\"https://wandb.ai/mismayil/ml4science-polymers\" target=\"_blank\">Weights & Biases</a> (<a href=\"https://docs.wandb.com/integrations/jupyter.html\" target=\"_blank\">docs</a>).<br/>\n",
       "\n",
       "                "
      ],
      "text/plain": [
       "<IPython.core.display.HTML object>"
      ]
     },
     "metadata": {},
     "output_type": "display_data"
    },
    {
     "data": {
      "text/html": [
       "Waiting for W&B process to finish, PID 77688... <strong style=\"color:green\">(success).</strong>"
      ],
      "text/plain": [
       "<IPython.core.display.HTML object>"
      ]
     },
     "metadata": {},
     "output_type": "display_data"
    },
    {
     "data": {
      "application/vnd.jupyter.widget-view+json": {
       "model_id": "c10df05a5bc34f2cbe314f6206deebc2",
       "version_major": 2,
       "version_minor": 0
      },
      "text/plain": [
       "VBox(children=(Label(value=' 0.00MB of 0.00MB uploaded (0.00MB deduped)\\r'), FloatProgress(value=1.0, max=1.0)…"
      ]
     },
     "metadata": {},
     "output_type": "display_data"
    },
    {
     "data": {
      "text/html": [
       "Synced <strong style=\"color:#cdcd00\">neat-water-72</strong>: <a href=\"https://wandb.ai/mismayil/ml4science-polymers/runs/2272r5p8\" target=\"_blank\">https://wandb.ai/mismayil/ml4science-polymers/runs/2272r5p8</a><br/>\n"
      ],
      "text/plain": [
       "<IPython.core.display.HTML object>"
      ]
     },
     "metadata": {},
     "output_type": "display_data"
    },
    {
     "name": "stderr",
     "output_type": "stream",
     "text": [
      "Processing ../data/AA66466AA.npy: 100%|██████████| 40576/40576 [08:54<00:00, 75.89it/s]\n",
      "Processing ../data/AA66566AA.npy: 100%|██████████| 39128/39128 [06:10<00:00, 105.69it/s]\n"
     ]
    },
    {
     "data": {
      "text/html": [
       "\n",
       "                    Syncing run <strong><a href=\"https://wandb.ai/mismayil/ml4science-polymers/runs/22v4hdbg\" target=\"_blank\">robust-serenity-73</a></strong> to <a href=\"https://wandb.ai/mismayil/ml4science-polymers\" target=\"_blank\">Weights & Biases</a> (<a href=\"https://docs.wandb.com/integrations/jupyter.html\" target=\"_blank\">docs</a>).<br/>\n",
       "\n",
       "                "
      ],
      "text/plain": [
       "<IPython.core.display.HTML object>"
      ]
     },
     "metadata": {},
     "output_type": "display_data"
    },
    {
     "data": {
      "text/html": [
       "Waiting for W&B process to finish, PID 77747... <strong style=\"color:green\">(success).</strong>"
      ],
      "text/plain": [
       "<IPython.core.display.HTML object>"
      ]
     },
     "metadata": {},
     "output_type": "display_data"
    },
    {
     "data": {
      "application/vnd.jupyter.widget-view+json": {
       "model_id": "0db7f51357234422ad42b553310dcb37",
       "version_major": 2,
       "version_minor": 0
      },
      "text/plain": [
       "VBox(children=(Label(value=' 0.00MB of 0.00MB uploaded (0.00MB deduped)\\r'), FloatProgress(value=1.0, max=1.0)…"
      ]
     },
     "metadata": {},
     "output_type": "display_data"
    },
    {
     "data": {
      "text/html": [
       "Synced <strong style=\"color:#cdcd00\">robust-serenity-73</strong>: <a href=\"https://wandb.ai/mismayil/ml4science-polymers/runs/22v4hdbg\" target=\"_blank\">https://wandb.ai/mismayil/ml4science-polymers/runs/22v4hdbg</a><br/>\n"
      ],
      "text/plain": [
       "<IPython.core.display.HTML object>"
      ]
     },
     "metadata": {},
     "output_type": "display_data"
    },
    {
     "name": "stderr",
     "output_type": "stream",
     "text": [
      "Processing ../data/AA66466AA.npy: 100%|██████████| 40576/40576 [08:52<00:00, 76.15it/s]\n",
      "Processing ../data/AA66566AA.npy: 100%|██████████| 39128/39128 [06:09<00:00, 106.03it/s]\n"
     ]
    },
    {
     "data": {
      "text/html": [
       "\n",
       "                    Syncing run <strong><a href=\"https://wandb.ai/mismayil/ml4science-polymers/runs/2hql0f40\" target=\"_blank\">noble-oath-74</a></strong> to <a href=\"https://wandb.ai/mismayil/ml4science-polymers\" target=\"_blank\">Weights & Biases</a> (<a href=\"https://docs.wandb.com/integrations/jupyter.html\" target=\"_blank\">docs</a>).<br/>\n",
       "\n",
       "                "
      ],
      "text/plain": [
       "<IPython.core.display.HTML object>"
      ]
     },
     "metadata": {},
     "output_type": "display_data"
    },
    {
     "data": {
      "text/html": [
       "Waiting for W&B process to finish, PID 77829... <strong style=\"color:green\">(success).</strong>"
      ],
      "text/plain": [
       "<IPython.core.display.HTML object>"
      ]
     },
     "metadata": {},
     "output_type": "display_data"
    },
    {
     "data": {
      "application/vnd.jupyter.widget-view+json": {
       "model_id": "95db5532c3374a3689d1e579abbe1e70",
       "version_major": 2,
       "version_minor": 0
      },
      "text/plain": [
       "VBox(children=(Label(value=' 0.00MB of 0.00MB uploaded (0.00MB deduped)\\r'), FloatProgress(value=1.0, max=1.0)…"
      ]
     },
     "metadata": {},
     "output_type": "display_data"
    },
    {
     "data": {
      "text/html": [
       "Synced <strong style=\"color:#cdcd00\">noble-oath-74</strong>: <a href=\"https://wandb.ai/mismayil/ml4science-polymers/runs/2hql0f40\" target=\"_blank\">https://wandb.ai/mismayil/ml4science-polymers/runs/2hql0f40</a><br/>\n"
      ],
      "text/plain": [
       "<IPython.core.display.HTML object>"
      ]
     },
     "metadata": {},
     "output_type": "display_data"
    },
    {
     "name": "stderr",
     "output_type": "stream",
     "text": [
      "Processing ../data/AA66466AA.npy: 100%|██████████| 40576/40576 [08:50<00:00, 76.43it/s]\n",
      "Processing ../data/AA66566AA.npy: 100%|██████████| 39128/39128 [06:07<00:00, 106.33it/s]\n"
     ]
    },
    {
     "data": {
      "text/html": [
       "\n",
       "                    Syncing run <strong><a href=\"https://wandb.ai/mismayil/ml4science-polymers/runs/1jww4j5h\" target=\"_blank\">helpful-armadillo-75</a></strong> to <a href=\"https://wandb.ai/mismayil/ml4science-polymers\" target=\"_blank\">Weights & Biases</a> (<a href=\"https://docs.wandb.com/integrations/jupyter.html\" target=\"_blank\">docs</a>).<br/>\n",
       "\n",
       "                "
      ],
      "text/plain": [
       "<IPython.core.display.HTML object>"
      ]
     },
     "metadata": {},
     "output_type": "display_data"
    },
    {
     "data": {
      "text/html": [
       "Waiting for W&B process to finish, PID 77881... <strong style=\"color:green\">(success).</strong>"
      ],
      "text/plain": [
       "<IPython.core.display.HTML object>"
      ]
     },
     "metadata": {},
     "output_type": "display_data"
    },
    {
     "data": {
      "application/vnd.jupyter.widget-view+json": {
       "model_id": "ad14fe2a15724659b7205d5646124f1d",
       "version_major": 2,
       "version_minor": 0
      },
      "text/plain": [
       "VBox(children=(Label(value=' 0.00MB of 0.00MB uploaded (0.00MB deduped)\\r'), FloatProgress(value=1.0, max=1.0)…"
      ]
     },
     "metadata": {},
     "output_type": "display_data"
    },
    {
     "data": {
      "text/html": [
       "Synced <strong style=\"color:#cdcd00\">helpful-armadillo-75</strong>: <a href=\"https://wandb.ai/mismayil/ml4science-polymers/runs/1jww4j5h\" target=\"_blank\">https://wandb.ai/mismayil/ml4science-polymers/runs/1jww4j5h</a><br/>\n"
      ],
      "text/plain": [
       "<IPython.core.display.HTML object>"
      ]
     },
     "metadata": {},
     "output_type": "display_data"
    },
    {
     "name": "stderr",
     "output_type": "stream",
     "text": [
      "Processing ../data/AA66466AA.npy: 100%|██████████| 40576/40576 [13:41<00:00, 49.41it/s]\n",
      "Processing ../data/AA66566AA.npy: 100%|██████████| 39128/39128 [10:11<00:00, 64.01it/s]\n"
     ]
    },
    {
     "data": {
      "text/html": [
       "\n",
       "                    Syncing run <strong><a href=\"https://wandb.ai/mismayil/ml4science-polymers/runs/29jyh10b\" target=\"_blank\">summer-cloud-76</a></strong> to <a href=\"https://wandb.ai/mismayil/ml4science-polymers\" target=\"_blank\">Weights & Biases</a> (<a href=\"https://docs.wandb.com/integrations/jupyter.html\" target=\"_blank\">docs</a>).<br/>\n",
       "\n",
       "                "
      ],
      "text/plain": [
       "<IPython.core.display.HTML object>"
      ]
     },
     "metadata": {},
     "output_type": "display_data"
    },
    {
     "data": {
      "text/html": [
       "Waiting for W&B process to finish, PID 77970... <strong style=\"color:green\">(success).</strong>"
      ],
      "text/plain": [
       "<IPython.core.display.HTML object>"
      ]
     },
     "metadata": {},
     "output_type": "display_data"
    },
    {
     "data": {
      "application/vnd.jupyter.widget-view+json": {
       "model_id": "e842542b6b6342e1a600b06560a88231",
       "version_major": 2,
       "version_minor": 0
      },
      "text/plain": [
       "VBox(children=(Label(value=' 0.00MB of 0.00MB uploaded (0.00MB deduped)\\r'), FloatProgress(value=1.0, max=1.0)…"
      ]
     },
     "metadata": {},
     "output_type": "display_data"
    },
    {
     "data": {
      "text/html": [
       "Synced <strong style=\"color:#cdcd00\">summer-cloud-76</strong>: <a href=\"https://wandb.ai/mismayil/ml4science-polymers/runs/29jyh10b\" target=\"_blank\">https://wandb.ai/mismayil/ml4science-polymers/runs/29jyh10b</a><br/>\n"
      ],
      "text/plain": [
       "<IPython.core.display.HTML object>"
      ]
     },
     "metadata": {},
     "output_type": "display_data"
    },
    {
     "name": "stderr",
     "output_type": "stream",
     "text": [
      "Processing ../data/AA66466AA.npy: 100%|██████████| 40576/40576 [13:36<00:00, 49.68it/s]\n",
      "Processing ../data/AA66566AA.npy: 100%|██████████| 39128/39128 [10:09<00:00, 64.16it/s]\n"
     ]
    },
    {
     "data": {
      "text/html": [
       "\n",
       "                    Syncing run <strong><a href=\"https://wandb.ai/mismayil/ml4science-polymers/runs/3r1gnssv\" target=\"_blank\">major-snow-77</a></strong> to <a href=\"https://wandb.ai/mismayil/ml4science-polymers\" target=\"_blank\">Weights & Biases</a> (<a href=\"https://docs.wandb.com/integrations/jupyter.html\" target=\"_blank\">docs</a>).<br/>\n",
       "\n",
       "                "
      ],
      "text/plain": [
       "<IPython.core.display.HTML object>"
      ]
     },
     "metadata": {},
     "output_type": "display_data"
    },
    {
     "data": {
      "text/html": [
       "Waiting for W&B process to finish, PID 78059... <strong style=\"color:green\">(success).</strong>"
      ],
      "text/plain": [
       "<IPython.core.display.HTML object>"
      ]
     },
     "metadata": {},
     "output_type": "display_data"
    },
    {
     "data": {
      "application/vnd.jupyter.widget-view+json": {
       "model_id": "6a594e31b344484f93d11f7a0edd04f8",
       "version_major": 2,
       "version_minor": 0
      },
      "text/plain": [
       "VBox(children=(Label(value=' 0.00MB of 0.00MB uploaded (0.00MB deduped)\\r'), FloatProgress(value=1.0, max=1.0)…"
      ]
     },
     "metadata": {},
     "output_type": "display_data"
    },
    {
     "data": {
      "text/html": [
       "Synced <strong style=\"color:#cdcd00\">major-snow-77</strong>: <a href=\"https://wandb.ai/mismayil/ml4science-polymers/runs/3r1gnssv\" target=\"_blank\">https://wandb.ai/mismayil/ml4science-polymers/runs/3r1gnssv</a><br/>\n"
      ],
      "text/plain": [
       "<IPython.core.display.HTML object>"
      ]
     },
     "metadata": {},
     "output_type": "display_data"
    },
    {
     "name": "stderr",
     "output_type": "stream",
     "text": [
      "Processing ../data/AA66466AA.npy: 100%|██████████| 40576/40576 [13:37<00:00, 49.65it/s]\n",
      "Processing ../data/AA66566AA.npy: 100%|██████████| 39128/39128 [10:09<00:00, 64.20it/s]\n"
     ]
    },
    {
     "data": {
      "text/html": [
       "\n",
       "                    Syncing run <strong><a href=\"https://wandb.ai/mismayil/ml4science-polymers/runs/6kkng0cw\" target=\"_blank\">vocal-haze-78</a></strong> to <a href=\"https://wandb.ai/mismayil/ml4science-polymers\" target=\"_blank\">Weights & Biases</a> (<a href=\"https://docs.wandb.com/integrations/jupyter.html\" target=\"_blank\">docs</a>).<br/>\n",
       "\n",
       "                "
      ],
      "text/plain": [
       "<IPython.core.display.HTML object>"
      ]
     },
     "metadata": {},
     "output_type": "display_data"
    },
    {
     "data": {
      "text/html": [
       "Waiting for W&B process to finish, PID 78174... <strong style=\"color:green\">(success).</strong>"
      ],
      "text/plain": [
       "<IPython.core.display.HTML object>"
      ]
     },
     "metadata": {},
     "output_type": "display_data"
    },
    {
     "data": {
      "application/vnd.jupyter.widget-view+json": {
       "model_id": "1fd6229d1a214583b35c66939b5345cf",
       "version_major": 2,
       "version_minor": 0
      },
      "text/plain": [
       "VBox(children=(Label(value=' 0.00MB of 0.00MB uploaded (0.00MB deduped)\\r'), FloatProgress(value=1.0, max=1.0)…"
      ]
     },
     "metadata": {},
     "output_type": "display_data"
    },
    {
     "data": {
      "text/html": [
       "Synced <strong style=\"color:#cdcd00\">vocal-haze-78</strong>: <a href=\"https://wandb.ai/mismayil/ml4science-polymers/runs/6kkng0cw\" target=\"_blank\">https://wandb.ai/mismayil/ml4science-polymers/runs/6kkng0cw</a><br/>\n"
      ],
      "text/plain": [
       "<IPython.core.display.HTML object>"
      ]
     },
     "metadata": {},
     "output_type": "display_data"
    },
    {
     "name": "stderr",
     "output_type": "stream",
     "text": [
      "Processing ../data/AA66466AA.npy: 100%|██████████| 40576/40576 [13:40<00:00, 49.45it/s]\n",
      "Processing ../data/AA66566AA.npy: 100%|██████████| 39128/39128 [10:11<00:00, 63.98it/s]\n"
     ]
    },
    {
     "data": {
      "text/html": [
       "\n",
       "                    Syncing run <strong><a href=\"https://wandb.ai/mismayil/ml4science-polymers/runs/3i5r3ung\" target=\"_blank\">still-star-79</a></strong> to <a href=\"https://wandb.ai/mismayil/ml4science-polymers\" target=\"_blank\">Weights & Biases</a> (<a href=\"https://docs.wandb.com/integrations/jupyter.html\" target=\"_blank\">docs</a>).<br/>\n",
       "\n",
       "                "
      ],
      "text/plain": [
       "<IPython.core.display.HTML object>"
      ]
     },
     "metadata": {},
     "output_type": "display_data"
    },
    {
     "data": {
      "text/html": [
       "Waiting for W&B process to finish, PID 78287... <strong style=\"color:green\">(success).</strong>"
      ],
      "text/plain": [
       "<IPython.core.display.HTML object>"
      ]
     },
     "metadata": {},
     "output_type": "display_data"
    },
    {
     "data": {
      "application/vnd.jupyter.widget-view+json": {
       "model_id": "79e5f890860549b3994554ac7cf06fdf",
       "version_major": 2,
       "version_minor": 0
      },
      "text/plain": [
       "VBox(children=(Label(value=' 0.00MB of 0.00MB uploaded (0.00MB deduped)\\r'), FloatProgress(value=1.0, max=1.0)…"
      ]
     },
     "metadata": {},
     "output_type": "display_data"
    },
    {
     "data": {
      "text/html": [
       "Synced <strong style=\"color:#cdcd00\">still-star-79</strong>: <a href=\"https://wandb.ai/mismayil/ml4science-polymers/runs/3i5r3ung\" target=\"_blank\">https://wandb.ai/mismayil/ml4science-polymers/runs/3i5r3ung</a><br/>\n"
      ],
      "text/plain": [
       "<IPython.core.display.HTML object>"
      ]
     },
     "metadata": {},
     "output_type": "display_data"
    },
    {
     "name": "stderr",
     "output_type": "stream",
     "text": [
      "Processing ../data/AA66266AA.npy: 100%|██████████| 20085/20085 [00:53<00:00, 377.41it/s]\n",
      "Processing ../data/AA66466AA.npy: 100%|██████████| 20752/20752 [01:32<00:00, 223.62it/s]\n",
      "Processing ../data/AA66566AA.npy: 100%|██████████| 20045/20045 [00:44<00:00, 454.42it/s]\n"
     ]
    },
    {
     "data": {
      "text/html": [
       "\n",
       "                    Syncing run <strong><a href=\"https://wandb.ai/mismayil/ml4science-polymers/runs/10fsxiqp\" target=\"_blank\">radiant-shadow-80</a></strong> to <a href=\"https://wandb.ai/mismayil/ml4science-polymers\" target=\"_blank\">Weights & Biases</a> (<a href=\"https://docs.wandb.com/integrations/jupyter.html\" target=\"_blank\">docs</a>).<br/>\n",
       "\n",
       "                "
      ],
      "text/plain": [
       "<IPython.core.display.HTML object>"
      ]
     },
     "metadata": {},
     "output_type": "display_data"
    },
    {
     "data": {
      "text/html": [
       "Waiting for W&B process to finish, PID 78377... <strong style=\"color:green\">(success).</strong>"
      ],
      "text/plain": [
       "<IPython.core.display.HTML object>"
      ]
     },
     "metadata": {},
     "output_type": "display_data"
    },
    {
     "data": {
      "application/vnd.jupyter.widget-view+json": {
       "model_id": "bf42ba8321e34ab8bf0ea42515fd0a0c",
       "version_major": 2,
       "version_minor": 0
      },
      "text/plain": [
       "VBox(children=(Label(value=' 0.00MB of 0.00MB uploaded (0.00MB deduped)\\r'), FloatProgress(value=1.0, max=1.0)…"
      ]
     },
     "metadata": {},
     "output_type": "display_data"
    },
    {
     "data": {
      "text/html": [
       "Synced <strong style=\"color:#cdcd00\">radiant-shadow-80</strong>: <a href=\"https://wandb.ai/mismayil/ml4science-polymers/runs/10fsxiqp\" target=\"_blank\">https://wandb.ai/mismayil/ml4science-polymers/runs/10fsxiqp</a><br/>\n"
      ],
      "text/plain": [
       "<IPython.core.display.HTML object>"
      ]
     },
     "metadata": {},
     "output_type": "display_data"
    },
    {
     "name": "stderr",
     "output_type": "stream",
     "text": [
      "Processing ../data/AA66266AA.npy: 100%|██████████| 20085/20085 [00:53<00:00, 375.46it/s]\n",
      "Processing ../data/AA66466AA.npy: 100%|██████████| 20752/20752 [01:32<00:00, 223.20it/s]\n",
      "Processing ../data/AA66566AA.npy: 100%|██████████| 20045/20045 [00:43<00:00, 458.46it/s]\n"
     ]
    },
    {
     "data": {
      "text/html": [
       "\n",
       "                    Syncing run <strong><a href=\"https://wandb.ai/mismayil/ml4science-polymers/runs/13t77m3m\" target=\"_blank\">zany-resonance-81</a></strong> to <a href=\"https://wandb.ai/mismayil/ml4science-polymers\" target=\"_blank\">Weights & Biases</a> (<a href=\"https://docs.wandb.com/integrations/jupyter.html\" target=\"_blank\">docs</a>).<br/>\n",
       "\n",
       "                "
      ],
      "text/plain": [
       "<IPython.core.display.HTML object>"
      ]
     },
     "metadata": {},
     "output_type": "display_data"
    },
    {
     "data": {
      "text/html": [
       "Waiting for W&B process to finish, PID 78441... <strong style=\"color:green\">(success).</strong>"
      ],
      "text/plain": [
       "<IPython.core.display.HTML object>"
      ]
     },
     "metadata": {},
     "output_type": "display_data"
    },
    {
     "data": {
      "application/vnd.jupyter.widget-view+json": {
       "model_id": "3eed61a37e804ebdabfbcbc10798aa02",
       "version_major": 2,
       "version_minor": 0
      },
      "text/plain": [
       "VBox(children=(Label(value=' 0.00MB of 0.00MB uploaded (0.00MB deduped)\\r'), FloatProgress(value=1.0, max=1.0)…"
      ]
     },
     "metadata": {},
     "output_type": "display_data"
    },
    {
     "data": {
      "text/html": [
       "Synced <strong style=\"color:#cdcd00\">zany-resonance-81</strong>: <a href=\"https://wandb.ai/mismayil/ml4science-polymers/runs/13t77m3m\" target=\"_blank\">https://wandb.ai/mismayil/ml4science-polymers/runs/13t77m3m</a><br/>\n"
      ],
      "text/plain": [
       "<IPython.core.display.HTML object>"
      ]
     },
     "metadata": {},
     "output_type": "display_data"
    },
    {
     "name": "stderr",
     "output_type": "stream",
     "text": [
      "Processing ../data/AA66266AA.npy: 100%|██████████| 20085/20085 [00:53<00:00, 375.95it/s]\n",
      "Processing ../data/AA66466AA.npy: 100%|██████████| 20752/20752 [01:32<00:00, 223.44it/s]\n",
      "Processing ../data/AA66566AA.npy: 100%|██████████| 20045/20045 [00:43<00:00, 459.21it/s]\n"
     ]
    },
    {
     "data": {
      "text/html": [
       "\n",
       "                    Syncing run <strong><a href=\"https://wandb.ai/mismayil/ml4science-polymers/runs/1loi9csf\" target=\"_blank\">feasible-glade-82</a></strong> to <a href=\"https://wandb.ai/mismayil/ml4science-polymers\" target=\"_blank\">Weights & Biases</a> (<a href=\"https://docs.wandb.com/integrations/jupyter.html\" target=\"_blank\">docs</a>).<br/>\n",
       "\n",
       "                "
      ],
      "text/plain": [
       "<IPython.core.display.HTML object>"
      ]
     },
     "metadata": {},
     "output_type": "display_data"
    },
    {
     "data": {
      "text/html": [
       "Waiting for W&B process to finish, PID 78468... <strong style=\"color:green\">(success).</strong>"
      ],
      "text/plain": [
       "<IPython.core.display.HTML object>"
      ]
     },
     "metadata": {},
     "output_type": "display_data"
    },
    {
     "data": {
      "application/vnd.jupyter.widget-view+json": {
       "model_id": "76e18b1b0ebe4c939a7ea3152cdd4b7c",
       "version_major": 2,
       "version_minor": 0
      },
      "text/plain": [
       "VBox(children=(Label(value=' 0.00MB of 0.00MB uploaded (0.00MB deduped)\\r'), FloatProgress(value=1.0, max=1.0)…"
      ]
     },
     "metadata": {},
     "output_type": "display_data"
    },
    {
     "data": {
      "text/html": [
       "Synced <strong style=\"color:#cdcd00\">feasible-glade-82</strong>: <a href=\"https://wandb.ai/mismayil/ml4science-polymers/runs/1loi9csf\" target=\"_blank\">https://wandb.ai/mismayil/ml4science-polymers/runs/1loi9csf</a><br/>\n"
      ],
      "text/plain": [
       "<IPython.core.display.HTML object>"
      ]
     },
     "metadata": {},
     "output_type": "display_data"
    },
    {
     "name": "stderr",
     "output_type": "stream",
     "text": [
      "Processing ../data/AA66266AA.npy: 100%|██████████| 20085/20085 [00:53<00:00, 378.51it/s]\n",
      "Processing ../data/AA66466AA.npy: 100%|██████████| 20752/20752 [01:32<00:00, 224.51it/s]\n",
      "Processing ../data/AA66566AA.npy: 100%|██████████| 20045/20045 [00:43<00:00, 461.47it/s]\n"
     ]
    },
    {
     "data": {
      "text/html": [
       "\n",
       "                    Syncing run <strong><a href=\"https://wandb.ai/mismayil/ml4science-polymers/runs/22ra13l7\" target=\"_blank\">eager-plasma-83</a></strong> to <a href=\"https://wandb.ai/mismayil/ml4science-polymers\" target=\"_blank\">Weights & Biases</a> (<a href=\"https://docs.wandb.com/integrations/jupyter.html\" target=\"_blank\">docs</a>).<br/>\n",
       "\n",
       "                "
      ],
      "text/plain": [
       "<IPython.core.display.HTML object>"
      ]
     },
     "metadata": {},
     "output_type": "display_data"
    },
    {
     "data": {
      "text/html": [
       "Waiting for W&B process to finish, PID 78490... <strong style=\"color:green\">(success).</strong>"
      ],
      "text/plain": [
       "<IPython.core.display.HTML object>"
      ]
     },
     "metadata": {},
     "output_type": "display_data"
    },
    {
     "data": {
      "application/vnd.jupyter.widget-view+json": {
       "model_id": "3b784927920a46219ad3db26faeb5ecb",
       "version_major": 2,
       "version_minor": 0
      },
      "text/plain": [
       "VBox(children=(Label(value=' 0.00MB of 0.00MB uploaded (0.00MB deduped)\\r'), FloatProgress(value=1.0, max=1.0)…"
      ]
     },
     "metadata": {},
     "output_type": "display_data"
    },
    {
     "data": {
      "text/html": [
       "Synced <strong style=\"color:#cdcd00\">eager-plasma-83</strong>: <a href=\"https://wandb.ai/mismayil/ml4science-polymers/runs/22ra13l7\" target=\"_blank\">https://wandb.ai/mismayil/ml4science-polymers/runs/22ra13l7</a><br/>\n"
      ],
      "text/plain": [
       "<IPython.core.display.HTML object>"
      ]
     },
     "metadata": {},
     "output_type": "display_data"
    },
    {
     "name": "stderr",
     "output_type": "stream",
     "text": [
      "Processing ../data/AA66266AA.npy: 100%|██████████| 20085/20085 [01:08<00:00, 295.08it/s]\n",
      "Processing ../data/AA66466AA.npy: 100%|██████████| 20752/20752 [01:50<00:00, 188.59it/s]\n",
      "Processing ../data/AA66566AA.npy: 100%|██████████| 20045/20045 [00:56<00:00, 351.95it/s]\n"
     ]
    },
    {
     "data": {
      "text/html": [
       "\n",
       "                    Syncing run <strong><a href=\"https://wandb.ai/mismayil/ml4science-polymers/runs/efbaoz54\" target=\"_blank\">super-dream-84</a></strong> to <a href=\"https://wandb.ai/mismayil/ml4science-polymers\" target=\"_blank\">Weights & Biases</a> (<a href=\"https://docs.wandb.com/integrations/jupyter.html\" target=\"_blank\">docs</a>).<br/>\n",
       "\n",
       "                "
      ],
      "text/plain": [
       "<IPython.core.display.HTML object>"
      ]
     },
     "metadata": {},
     "output_type": "display_data"
    },
    {
     "data": {
      "text/html": [
       "Waiting for W&B process to finish, PID 78518... <strong style=\"color:green\">(success).</strong>"
      ],
      "text/plain": [
       "<IPython.core.display.HTML object>"
      ]
     },
     "metadata": {},
     "output_type": "display_data"
    },
    {
     "data": {
      "application/vnd.jupyter.widget-view+json": {
       "model_id": "acc1f7348ccd41fbb50247bd2792b27b",
       "version_major": 2,
       "version_minor": 0
      },
      "text/plain": [
       "VBox(children=(Label(value=' 0.00MB of 0.00MB uploaded (0.00MB deduped)\\r'), FloatProgress(value=1.0, max=1.0)…"
      ]
     },
     "metadata": {},
     "output_type": "display_data"
    },
    {
     "data": {
      "text/html": [
       "Synced <strong style=\"color:#cdcd00\">super-dream-84</strong>: <a href=\"https://wandb.ai/mismayil/ml4science-polymers/runs/efbaoz54\" target=\"_blank\">https://wandb.ai/mismayil/ml4science-polymers/runs/efbaoz54</a><br/>\n"
      ],
      "text/plain": [
       "<IPython.core.display.HTML object>"
      ]
     },
     "metadata": {},
     "output_type": "display_data"
    },
    {
     "name": "stderr",
     "output_type": "stream",
     "text": [
      "Processing ../data/AA66266AA.npy: 100%|██████████| 20085/20085 [01:08<00:00, 294.44it/s]\n",
      "Processing ../data/AA66466AA.npy: 100%|██████████| 20752/20752 [01:50<00:00, 188.41it/s]\n",
      "Processing ../data/AA66566AA.npy: 100%|██████████| 20045/20045 [00:57<00:00, 350.62it/s]\n"
     ]
    },
    {
     "data": {
      "text/html": [
       "\n",
       "                    Syncing run <strong><a href=\"https://wandb.ai/mismayil/ml4science-polymers/runs/3tnspqcg\" target=\"_blank\">youthful-bird-85</a></strong> to <a href=\"https://wandb.ai/mismayil/ml4science-polymers\" target=\"_blank\">Weights & Biases</a> (<a href=\"https://docs.wandb.com/integrations/jupyter.html\" target=\"_blank\">docs</a>).<br/>\n",
       "\n",
       "                "
      ],
      "text/plain": [
       "<IPython.core.display.HTML object>"
      ]
     },
     "metadata": {},
     "output_type": "display_data"
    },
    {
     "data": {
      "text/html": [
       "Waiting for W&B process to finish, PID 78545... <strong style=\"color:green\">(success).</strong>"
      ],
      "text/plain": [
       "<IPython.core.display.HTML object>"
      ]
     },
     "metadata": {},
     "output_type": "display_data"
    },
    {
     "data": {
      "application/vnd.jupyter.widget-view+json": {
       "model_id": "047f2ba5ae5c4819b6da8e953caa6bf8",
       "version_major": 2,
       "version_minor": 0
      },
      "text/plain": [
       "VBox(children=(Label(value=' 0.00MB of 0.00MB uploaded (0.00MB deduped)\\r'), FloatProgress(value=1.0, max=1.0)…"
      ]
     },
     "metadata": {},
     "output_type": "display_data"
    },
    {
     "data": {
      "text/html": [
       "Synced <strong style=\"color:#cdcd00\">youthful-bird-85</strong>: <a href=\"https://wandb.ai/mismayil/ml4science-polymers/runs/3tnspqcg\" target=\"_blank\">https://wandb.ai/mismayil/ml4science-polymers/runs/3tnspqcg</a><br/>\n"
      ],
      "text/plain": [
       "<IPython.core.display.HTML object>"
      ]
     },
     "metadata": {},
     "output_type": "display_data"
    },
    {
     "name": "stderr",
     "output_type": "stream",
     "text": [
      "Processing ../data/AA66266AA.npy: 100%|██████████| 20085/20085 [01:08<00:00, 295.12it/s]\n",
      "Processing ../data/AA66466AA.npy: 100%|██████████| 20752/20752 [01:49<00:00, 189.06it/s]\n",
      "Processing ../data/AA66566AA.npy: 100%|██████████| 20045/20045 [00:56<00:00, 352.35it/s]\n"
     ]
    },
    {
     "data": {
      "text/html": [
       "\n",
       "                    Syncing run <strong><a href=\"https://wandb.ai/mismayil/ml4science-polymers/runs/1by5v2b3\" target=\"_blank\">solar-snowflake-86</a></strong> to <a href=\"https://wandb.ai/mismayil/ml4science-polymers\" target=\"_blank\">Weights & Biases</a> (<a href=\"https://docs.wandb.com/integrations/jupyter.html\" target=\"_blank\">docs</a>).<br/>\n",
       "\n",
       "                "
      ],
      "text/plain": [
       "<IPython.core.display.HTML object>"
      ]
     },
     "metadata": {},
     "output_type": "display_data"
    },
    {
     "data": {
      "text/html": [
       "Waiting for W&B process to finish, PID 78578... <strong style=\"color:green\">(success).</strong>"
      ],
      "text/plain": [
       "<IPython.core.display.HTML object>"
      ]
     },
     "metadata": {},
     "output_type": "display_data"
    },
    {
     "data": {
      "application/vnd.jupyter.widget-view+json": {
       "model_id": "aebd538b2dc24b629b4ceafa2070fb41",
       "version_major": 2,
       "version_minor": 0
      },
      "text/plain": [
       "VBox(children=(Label(value=' 0.00MB of 0.00MB uploaded (0.00MB deduped)\\r'), FloatProgress(value=1.0, max=1.0)…"
      ]
     },
     "metadata": {},
     "output_type": "display_data"
    },
    {
     "data": {
      "text/html": [
       "Synced <strong style=\"color:#cdcd00\">solar-snowflake-86</strong>: <a href=\"https://wandb.ai/mismayil/ml4science-polymers/runs/1by5v2b3\" target=\"_blank\">https://wandb.ai/mismayil/ml4science-polymers/runs/1by5v2b3</a><br/>\n"
      ],
      "text/plain": [
       "<IPython.core.display.HTML object>"
      ]
     },
     "metadata": {},
     "output_type": "display_data"
    },
    {
     "name": "stderr",
     "output_type": "stream",
     "text": [
      "Processing ../data/AA66266AA.npy: 100%|██████████| 20085/20085 [01:08<00:00, 294.89it/s]\n",
      "Processing ../data/AA66466AA.npy: 100%|██████████| 20752/20752 [01:50<00:00, 188.65it/s]\n",
      "Processing ../data/AA66566AA.npy: 100%|██████████| 20045/20045 [00:57<00:00, 350.55it/s]\n"
     ]
    },
    {
     "data": {
      "text/html": [
       "\n",
       "                    Syncing run <strong><a href=\"https://wandb.ai/mismayil/ml4science-polymers/runs/1lfluof0\" target=\"_blank\">generous-deluge-87</a></strong> to <a href=\"https://wandb.ai/mismayil/ml4science-polymers\" target=\"_blank\">Weights & Biases</a> (<a href=\"https://docs.wandb.com/integrations/jupyter.html\" target=\"_blank\">docs</a>).<br/>\n",
       "\n",
       "                "
      ],
      "text/plain": [
       "<IPython.core.display.HTML object>"
      ]
     },
     "metadata": {},
     "output_type": "display_data"
    },
    {
     "data": {
      "text/html": [
       "Waiting for W&B process to finish, PID 78604... <strong style=\"color:green\">(success).</strong>"
      ],
      "text/plain": [
       "<IPython.core.display.HTML object>"
      ]
     },
     "metadata": {},
     "output_type": "display_data"
    },
    {
     "data": {
      "application/vnd.jupyter.widget-view+json": {
       "model_id": "b3d4f22e1656438a889f80cf9ffa9f6d",
       "version_major": 2,
       "version_minor": 0
      },
      "text/plain": [
       "VBox(children=(Label(value=' 0.00MB of 0.00MB uploaded (0.00MB deduped)\\r'), FloatProgress(value=1.0, max=1.0)…"
      ]
     },
     "metadata": {},
     "output_type": "display_data"
    },
    {
     "data": {
      "text/html": [
       "Synced <strong style=\"color:#cdcd00\">generous-deluge-87</strong>: <a href=\"https://wandb.ai/mismayil/ml4science-polymers/runs/1lfluof0\" target=\"_blank\">https://wandb.ai/mismayil/ml4science-polymers/runs/1lfluof0</a><br/>\n"
      ],
      "text/plain": [
       "<IPython.core.display.HTML object>"
      ]
     },
     "metadata": {},
     "output_type": "display_data"
    },
    {
     "name": "stderr",
     "output_type": "stream",
     "text": [
      "Processing ../data/AA66266AA.npy: 100%|██████████| 20085/20085 [01:32<00:00, 216.89it/s]\n",
      "Processing ../data/AA66466AA.npy: 100%|██████████| 20752/20752 [02:19<00:00, 148.26it/s]\n",
      "Processing ../data/AA66566AA.npy: 100%|██████████| 20045/20045 [01:19<00:00, 252.52it/s]\n"
     ]
    },
    {
     "data": {
      "text/html": [
       "\n",
       "                    Syncing run <strong><a href=\"https://wandb.ai/mismayil/ml4science-polymers/runs/342fjzna\" target=\"_blank\">serene-waterfall-88</a></strong> to <a href=\"https://wandb.ai/mismayil/ml4science-polymers\" target=\"_blank\">Weights & Biases</a> (<a href=\"https://docs.wandb.com/integrations/jupyter.html\" target=\"_blank\">docs</a>).<br/>\n",
       "\n",
       "                "
      ],
      "text/plain": [
       "<IPython.core.display.HTML object>"
      ]
     },
     "metadata": {},
     "output_type": "display_data"
    },
    {
     "data": {
      "text/html": [
       "Waiting for W&B process to finish, PID 78650... <strong style=\"color:green\">(success).</strong>"
      ],
      "text/plain": [
       "<IPython.core.display.HTML object>"
      ]
     },
     "metadata": {},
     "output_type": "display_data"
    },
    {
     "data": {
      "application/vnd.jupyter.widget-view+json": {
       "model_id": "1489701c3a3a4a668b782da0a7b4c7e4",
       "version_major": 2,
       "version_minor": 0
      },
      "text/plain": [
       "VBox(children=(Label(value=' 0.00MB of 0.00MB uploaded (0.00MB deduped)\\r'), FloatProgress(value=1.0, max=1.0)…"
      ]
     },
     "metadata": {},
     "output_type": "display_data"
    },
    {
     "data": {
      "text/html": [
       "Synced <strong style=\"color:#cdcd00\">serene-waterfall-88</strong>: <a href=\"https://wandb.ai/mismayil/ml4science-polymers/runs/342fjzna\" target=\"_blank\">https://wandb.ai/mismayil/ml4science-polymers/runs/342fjzna</a><br/>\n"
      ],
      "text/plain": [
       "<IPython.core.display.HTML object>"
      ]
     },
     "metadata": {},
     "output_type": "display_data"
    },
    {
     "name": "stderr",
     "output_type": "stream",
     "text": [
      "Processing ../data/AA66266AA.npy: 100%|██████████| 20085/20085 [01:32<00:00, 216.33it/s]\n",
      "Processing ../data/AA66466AA.npy: 100%|██████████| 20752/20752 [02:19<00:00, 148.48it/s]\n",
      "Processing ../data/AA66566AA.npy: 100%|██████████| 20045/20045 [01:20<00:00, 249.26it/s]\n"
     ]
    },
    {
     "data": {
      "text/html": [
       "\n",
       "                    Syncing run <strong><a href=\"https://wandb.ai/mismayil/ml4science-polymers/runs/1yh3osre\" target=\"_blank\">still-wildflower-89</a></strong> to <a href=\"https://wandb.ai/mismayil/ml4science-polymers\" target=\"_blank\">Weights & Biases</a> (<a href=\"https://docs.wandb.com/integrations/jupyter.html\" target=\"_blank\">docs</a>).<br/>\n",
       "\n",
       "                "
      ],
      "text/plain": [
       "<IPython.core.display.HTML object>"
      ]
     },
     "metadata": {},
     "output_type": "display_data"
    },
    {
     "data": {
      "text/html": [
       "Waiting for W&B process to finish, PID 78677... <strong style=\"color:green\">(success).</strong>"
      ],
      "text/plain": [
       "<IPython.core.display.HTML object>"
      ]
     },
     "metadata": {},
     "output_type": "display_data"
    },
    {
     "data": {
      "application/vnd.jupyter.widget-view+json": {
       "model_id": "09689b958a4c47ec90eb263055c7aadf",
       "version_major": 2,
       "version_minor": 0
      },
      "text/plain": [
       "VBox(children=(Label(value=' 0.00MB of 0.00MB uploaded (0.00MB deduped)\\r'), FloatProgress(value=1.0, max=1.0)…"
      ]
     },
     "metadata": {},
     "output_type": "display_data"
    },
    {
     "data": {
      "text/html": [
       "Synced <strong style=\"color:#cdcd00\">still-wildflower-89</strong>: <a href=\"https://wandb.ai/mismayil/ml4science-polymers/runs/1yh3osre\" target=\"_blank\">https://wandb.ai/mismayil/ml4science-polymers/runs/1yh3osre</a><br/>\n"
      ],
      "text/plain": [
       "<IPython.core.display.HTML object>"
      ]
     },
     "metadata": {},
     "output_type": "display_data"
    },
    {
     "name": "stderr",
     "output_type": "stream",
     "text": [
      "Processing ../data/AA66266AA.npy: 100%|██████████| 20085/20085 [01:32<00:00, 216.61it/s]\n",
      "Processing ../data/AA66466AA.npy: 100%|██████████| 20752/20752 [02:19<00:00, 148.81it/s]\n",
      "Processing ../data/AA66566AA.npy: 100%|██████████| 20045/20045 [01:19<00:00, 252.21it/s]\n"
     ]
    },
    {
     "data": {
      "text/html": [
       "\n",
       "                    Syncing run <strong><a href=\"https://wandb.ai/mismayil/ml4science-polymers/runs/9q5k3mit\" target=\"_blank\">revived-morning-90</a></strong> to <a href=\"https://wandb.ai/mismayil/ml4science-polymers\" target=\"_blank\">Weights & Biases</a> (<a href=\"https://docs.wandb.com/integrations/jupyter.html\" target=\"_blank\">docs</a>).<br/>\n",
       "\n",
       "                "
      ],
      "text/plain": [
       "<IPython.core.display.HTML object>"
      ]
     },
     "metadata": {},
     "output_type": "display_data"
    },
    {
     "data": {
      "text/html": [
       "Waiting for W&B process to finish, PID 78710... <strong style=\"color:green\">(success).</strong>"
      ],
      "text/plain": [
       "<IPython.core.display.HTML object>"
      ]
     },
     "metadata": {},
     "output_type": "display_data"
    },
    {
     "data": {
      "application/vnd.jupyter.widget-view+json": {
       "model_id": "09b218028212459cb11641f4157305f7",
       "version_major": 2,
       "version_minor": 0
      },
      "text/plain": [
       "VBox(children=(Label(value=' 0.00MB of 0.00MB uploaded (0.00MB deduped)\\r'), FloatProgress(value=1.0, max=1.0)…"
      ]
     },
     "metadata": {},
     "output_type": "display_data"
    },
    {
     "data": {
      "text/html": [
       "Synced <strong style=\"color:#cdcd00\">revived-morning-90</strong>: <a href=\"https://wandb.ai/mismayil/ml4science-polymers/runs/9q5k3mit\" target=\"_blank\">https://wandb.ai/mismayil/ml4science-polymers/runs/9q5k3mit</a><br/>\n"
      ],
      "text/plain": [
       "<IPython.core.display.HTML object>"
      ]
     },
     "metadata": {},
     "output_type": "display_data"
    },
    {
     "name": "stderr",
     "output_type": "stream",
     "text": [
      "Processing ../data/AA66266AA.npy: 100%|██████████| 20085/20085 [01:47<00:00, 187.13it/s]\n",
      "Processing ../data/AA66466AA.npy: 100%|██████████| 20752/20752 [02:49<00:00, 122.54it/s]\n",
      "Processing ../data/AA66566AA.npy: 100%|██████████| 20045/20045 [01:31<00:00, 219.86it/s]\n"
     ]
    },
    {
     "data": {
      "text/html": [
       "\n",
       "                    Syncing run <strong><a href=\"https://wandb.ai/mismayil/ml4science-polymers/runs/twvl4sq7\" target=\"_blank\">leafy-firefly-91</a></strong> to <a href=\"https://wandb.ai/mismayil/ml4science-polymers\" target=\"_blank\">Weights & Biases</a> (<a href=\"https://docs.wandb.com/integrations/jupyter.html\" target=\"_blank\">docs</a>).<br/>\n",
       "\n",
       "                "
      ],
      "text/plain": [
       "<IPython.core.display.HTML object>"
      ]
     },
     "metadata": {},
     "output_type": "display_data"
    },
    {
     "data": {
      "text/html": [
       "Waiting for W&B process to finish, PID 78789... <strong style=\"color:green\">(success).</strong>"
      ],
      "text/plain": [
       "<IPython.core.display.HTML object>"
      ]
     },
     "metadata": {},
     "output_type": "display_data"
    },
    {
     "data": {
      "application/vnd.jupyter.widget-view+json": {
       "model_id": "0e6ac4f9ef194532986e1c47f82e55e7",
       "version_major": 2,
       "version_minor": 0
      },
      "text/plain": [
       "VBox(children=(Label(value=' 0.00MB of 0.00MB uploaded (0.00MB deduped)\\r'), FloatProgress(value=1.0, max=1.0)…"
      ]
     },
     "metadata": {},
     "output_type": "display_data"
    },
    {
     "data": {
      "text/html": [
       "Synced <strong style=\"color:#cdcd00\">leafy-firefly-91</strong>: <a href=\"https://wandb.ai/mismayil/ml4science-polymers/runs/twvl4sq7\" target=\"_blank\">https://wandb.ai/mismayil/ml4science-polymers/runs/twvl4sq7</a><br/>\n"
      ],
      "text/plain": [
       "<IPython.core.display.HTML object>"
      ]
     },
     "metadata": {},
     "output_type": "display_data"
    },
    {
     "name": "stderr",
     "output_type": "stream",
     "text": [
      "Processing ../data/AA66266AA.npy: 100%|██████████| 20085/20085 [03:01<00:00, 110.53it/s]\n",
      "Processing ../data/AA66466AA.npy: 100%|██████████| 20752/20752 [04:18<00:00, 80.22it/s] \n",
      "Processing ../data/AA66566AA.npy: 100%|██████████| 20045/20045 [02:45<00:00, 121.21it/s]\n"
     ]
    },
    {
     "data": {
      "text/html": [
       "\n",
       "                    Syncing run <strong><a href=\"https://wandb.ai/mismayil/ml4science-polymers/runs/1r8hxnkh\" target=\"_blank\">lively-wind-92</a></strong> to <a href=\"https://wandb.ai/mismayil/ml4science-polymers\" target=\"_blank\">Weights & Biases</a> (<a href=\"https://docs.wandb.com/integrations/jupyter.html\" target=\"_blank\">docs</a>).<br/>\n",
       "\n",
       "                "
      ],
      "text/plain": [
       "<IPython.core.display.HTML object>"
      ]
     },
     "metadata": {},
     "output_type": "display_data"
    },
    {
     "data": {
      "text/html": [
       "Waiting for W&B process to finish, PID 78885... <strong style=\"color:green\">(success).</strong>"
      ],
      "text/plain": [
       "<IPython.core.display.HTML object>"
      ]
     },
     "metadata": {},
     "output_type": "display_data"
    },
    {
     "data": {
      "application/vnd.jupyter.widget-view+json": {
       "model_id": "24e26d1cad8e4887a63359a5d7ca0938",
       "version_major": 2,
       "version_minor": 0
      },
      "text/plain": [
       "VBox(children=(Label(value=' 0.00MB of 0.00MB uploaded (0.00MB deduped)\\r'), FloatProgress(value=1.0, max=1.0)…"
      ]
     },
     "metadata": {},
     "output_type": "display_data"
    },
    {
     "data": {
      "text/html": [
       "Synced <strong style=\"color:#cdcd00\">lively-wind-92</strong>: <a href=\"https://wandb.ai/mismayil/ml4science-polymers/runs/1r8hxnkh\" target=\"_blank\">https://wandb.ai/mismayil/ml4science-polymers/runs/1r8hxnkh</a><br/>\n"
      ],
      "text/plain": [
       "<IPython.core.display.HTML object>"
      ]
     },
     "metadata": {},
     "output_type": "display_data"
    },
    {
     "name": "stderr",
     "output_type": "stream",
     "text": [
      "Processing ../data/AA66266AA.npy: 100%|██████████| 20085/20085 [03:06<00:00, 107.79it/s]\n",
      "Processing ../data/AA66466AA.npy: 100%|██████████| 20752/20752 [03:58<00:00, 87.19it/s] \n",
      "Processing ../data/AA66566AA.npy: 100%|██████████| 20045/20045 [02:18<00:00, 144.41it/s]\n"
     ]
    },
    {
     "data": {
      "text/html": [
       "\n",
       "                    Syncing run <strong><a href=\"https://wandb.ai/mismayil/ml4science-polymers/runs/1mdqcgad\" target=\"_blank\">hearty-river-93</a></strong> to <a href=\"https://wandb.ai/mismayil/ml4science-polymers\" target=\"_blank\">Weights & Biases</a> (<a href=\"https://docs.wandb.com/integrations/jupyter.html\" target=\"_blank\">docs</a>).<br/>\n",
       "\n",
       "                "
      ],
      "text/plain": [
       "<IPython.core.display.HTML object>"
      ]
     },
     "metadata": {},
     "output_type": "display_data"
    },
    {
     "data": {
      "text/html": [
       "Waiting for W&B process to finish, PID 78950... <strong style=\"color:green\">(success).</strong>"
      ],
      "text/plain": [
       "<IPython.core.display.HTML object>"
      ]
     },
     "metadata": {},
     "output_type": "display_data"
    },
    {
     "data": {
      "application/vnd.jupyter.widget-view+json": {
       "model_id": "efa34c32670547f2a15ed7029fcaf4f0",
       "version_major": 2,
       "version_minor": 0
      },
      "text/plain": [
       "VBox(children=(Label(value=' 0.00MB of 0.00MB uploaded (0.00MB deduped)\\r'), FloatProgress(value=1.0, max=1.0)…"
      ]
     },
     "metadata": {},
     "output_type": "display_data"
    },
    {
     "data": {
      "text/html": [
       "Synced <strong style=\"color:#cdcd00\">hearty-river-93</strong>: <a href=\"https://wandb.ai/mismayil/ml4science-polymers/runs/1mdqcgad\" target=\"_blank\">https://wandb.ai/mismayil/ml4science-polymers/runs/1mdqcgad</a><br/>\n"
      ],
      "text/plain": [
       "<IPython.core.display.HTML object>"
      ]
     },
     "metadata": {},
     "output_type": "display_data"
    },
    {
     "name": "stderr",
     "output_type": "stream",
     "text": [
      "Processing ../data/AA66266AA.npy: 100%|██████████| 20085/20085 [02:51<00:00, 116.96it/s]\n",
      "Processing ../data/AA66466AA.npy: 100%|██████████| 20752/20752 [04:02<00:00, 85.69it/s] \n",
      "Processing ../data/AA66566AA.npy: 100%|██████████| 20045/20045 [02:41<00:00, 124.25it/s]\n"
     ]
    },
    {
     "data": {
      "text/html": [
       "\n",
       "                    Syncing run <strong><a href=\"https://wandb.ai/mismayil/ml4science-polymers/runs/z23bxhcd\" target=\"_blank\">royal-durian-94</a></strong> to <a href=\"https://wandb.ai/mismayil/ml4science-polymers\" target=\"_blank\">Weights & Biases</a> (<a href=\"https://docs.wandb.com/integrations/jupyter.html\" target=\"_blank\">docs</a>).<br/>\n",
       "\n",
       "                "
      ],
      "text/plain": [
       "<IPython.core.display.HTML object>"
      ]
     },
     "metadata": {},
     "output_type": "display_data"
    },
    {
     "data": {
      "text/html": [
       "Waiting for W&B process to finish, PID 79009... <strong style=\"color:green\">(success).</strong>"
      ],
      "text/plain": [
       "<IPython.core.display.HTML object>"
      ]
     },
     "metadata": {},
     "output_type": "display_data"
    },
    {
     "data": {
      "application/vnd.jupyter.widget-view+json": {
       "model_id": "a347a624aa9f41e9905a330171c04122",
       "version_major": 2,
       "version_minor": 0
      },
      "text/plain": [
       "VBox(children=(Label(value=' 0.00MB of 0.00MB uploaded (0.00MB deduped)\\r'), FloatProgress(value=1.0, max=1.0)…"
      ]
     },
     "metadata": {},
     "output_type": "display_data"
    },
    {
     "data": {
      "text/html": [
       "Synced <strong style=\"color:#cdcd00\">royal-durian-94</strong>: <a href=\"https://wandb.ai/mismayil/ml4science-polymers/runs/z23bxhcd\" target=\"_blank\">https://wandb.ai/mismayil/ml4science-polymers/runs/z23bxhcd</a><br/>\n"
      ],
      "text/plain": [
       "<IPython.core.display.HTML object>"
      ]
     },
     "metadata": {},
     "output_type": "display_data"
    },
    {
     "name": "stderr",
     "output_type": "stream",
     "text": [
      "Processing ../data/AA66266AA.npy: 100%|██████████| 20085/20085 [02:35<00:00, 129.00it/s]\n",
      "Processing ../data/AA66466AA.npy: 100%|██████████| 20752/20752 [03:54<00:00, 88.57it/s] \n",
      "Processing ../data/AA66566AA.npy: 100%|██████████| 20045/20045 [02:45<00:00, 121.00it/s]\n"
     ]
    },
    {
     "data": {
      "text/html": [
       "\n",
       "                    Syncing run <strong><a href=\"https://wandb.ai/mismayil/ml4science-polymers/runs/212rn6v5\" target=\"_blank\">misunderstood-energy-95</a></strong> to <a href=\"https://wandb.ai/mismayil/ml4science-polymers\" target=\"_blank\">Weights & Biases</a> (<a href=\"https://docs.wandb.com/integrations/jupyter.html\" target=\"_blank\">docs</a>).<br/>\n",
       "\n",
       "                "
      ],
      "text/plain": [
       "<IPython.core.display.HTML object>"
      ]
     },
     "metadata": {},
     "output_type": "display_data"
    },
    {
     "data": {
      "text/html": [
       "Waiting for W&B process to finish, PID 79052... <strong style=\"color:green\">(success).</strong>"
      ],
      "text/plain": [
       "<IPython.core.display.HTML object>"
      ]
     },
     "metadata": {},
     "output_type": "display_data"
    },
    {
     "data": {
      "application/vnd.jupyter.widget-view+json": {
       "model_id": "11be8e296900461d892b2536a51a194d",
       "version_major": 2,
       "version_minor": 0
      },
      "text/plain": [
       "VBox(children=(Label(value=' 0.00MB of 0.00MB uploaded (0.00MB deduped)\\r'), FloatProgress(value=1.0, max=1.0)…"
      ]
     },
     "metadata": {},
     "output_type": "display_data"
    },
    {
     "data": {
      "text/html": [
       "Synced <strong style=\"color:#cdcd00\">misunderstood-energy-95</strong>: <a href=\"https://wandb.ai/mismayil/ml4science-polymers/runs/212rn6v5\" target=\"_blank\">https://wandb.ai/mismayil/ml4science-polymers/runs/212rn6v5</a><br/>\n"
      ],
      "text/plain": [
       "<IPython.core.display.HTML object>"
      ]
     },
     "metadata": {},
     "output_type": "display_data"
    },
    {
     "name": "stderr",
     "output_type": "stream",
     "text": [
      "Processing ../data/AA66266AA.npy: 100%|██████████| 20085/20085 [03:40<00:00, 90.92it/s] \n",
      "Processing ../data/AA66466AA.npy: 100%|██████████| 20752/20752 [04:51<00:00, 71.20it/s]\n",
      "Processing ../data/AA66566AA.npy: 100%|██████████| 20045/20045 [08:56<00:00, 37.33it/s]  \n"
     ]
    },
    {
     "data": {
      "text/html": [
       "\n",
       "                    Syncing run <strong><a href=\"https://wandb.ai/mismayil/ml4science-polymers/runs/h7sbms5u\" target=\"_blank\">visionary-feather-96</a></strong> to <a href=\"https://wandb.ai/mismayil/ml4science-polymers\" target=\"_blank\">Weights & Biases</a> (<a href=\"https://docs.wandb.com/integrations/jupyter.html\" target=\"_blank\">docs</a>).<br/>\n",
       "\n",
       "                "
      ],
      "text/plain": [
       "<IPython.core.display.HTML object>"
      ]
     },
     "metadata": {},
     "output_type": "display_data"
    },
    {
     "data": {
      "text/html": [
       "Waiting for W&B process to finish, PID 79237... <strong style=\"color:green\">(success).</strong>"
      ],
      "text/plain": [
       "<IPython.core.display.HTML object>"
      ]
     },
     "metadata": {},
     "output_type": "display_data"
    },
    {
     "data": {
      "application/vnd.jupyter.widget-view+json": {
       "model_id": "f96797d3545c446e8f385f06087e84ad",
       "version_major": 2,
       "version_minor": 0
      },
      "text/plain": [
       "VBox(children=(Label(value=' 0.00MB of 0.00MB uploaded (0.00MB deduped)\\r'), FloatProgress(value=1.0, max=1.0)…"
      ]
     },
     "metadata": {},
     "output_type": "display_data"
    },
    {
     "data": {
      "text/html": [
       "Synced <strong style=\"color:#cdcd00\">visionary-feather-96</strong>: <a href=\"https://wandb.ai/mismayil/ml4science-polymers/runs/h7sbms5u\" target=\"_blank\">https://wandb.ai/mismayil/ml4science-polymers/runs/h7sbms5u</a><br/>\n"
      ],
      "text/plain": [
       "<IPython.core.display.HTML object>"
      ]
     },
     "metadata": {},
     "output_type": "display_data"
    },
    {
     "name": "stderr",
     "output_type": "stream",
     "text": [
      "Processing ../data/AA66266AA.npy: 100%|██████████| 20085/20085 [03:30<00:00, 95.23it/s] \n",
      "Processing ../data/AA66466AA.npy: 100%|██████████| 20752/20752 [04:34<00:00, 75.54it/s]\n",
      "Processing ../data/AA66566AA.npy: 100%|██████████| 20045/20045 [03:15<00:00, 102.74it/s]\n"
     ]
    },
    {
     "data": {
      "text/html": [
       "\n",
       "                    Syncing run <strong><a href=\"https://wandb.ai/mismayil/ml4science-polymers/runs/an0rmhyy\" target=\"_blank\">olive-leaf-97</a></strong> to <a href=\"https://wandb.ai/mismayil/ml4science-polymers\" target=\"_blank\">Weights & Biases</a> (<a href=\"https://docs.wandb.com/integrations/jupyter.html\" target=\"_blank\">docs</a>).<br/>\n",
       "\n",
       "                "
      ],
      "text/plain": [
       "<IPython.core.display.HTML object>"
      ]
     },
     "metadata": {},
     "output_type": "display_data"
    },
    {
     "data": {
      "text/html": [
       "Waiting for W&B process to finish, PID 79569... <strong style=\"color:green\">(success).</strong>"
      ],
      "text/plain": [
       "<IPython.core.display.HTML object>"
      ]
     },
     "metadata": {},
     "output_type": "display_data"
    },
    {
     "data": {
      "application/vnd.jupyter.widget-view+json": {
       "model_id": "6a83ebbf3ed548b9916dba5f71ba4ef7",
       "version_major": 2,
       "version_minor": 0
      },
      "text/plain": [
       "VBox(children=(Label(value=' 0.00MB of 0.00MB uploaded (0.00MB deduped)\\r'), FloatProgress(value=1.0, max=1.0)…"
      ]
     },
     "metadata": {},
     "output_type": "display_data"
    },
    {
     "data": {
      "text/html": [
       "Synced <strong style=\"color:#cdcd00\">olive-leaf-97</strong>: <a href=\"https://wandb.ai/mismayil/ml4science-polymers/runs/an0rmhyy\" target=\"_blank\">https://wandb.ai/mismayil/ml4science-polymers/runs/an0rmhyy</a><br/>\n"
      ],
      "text/plain": [
       "<IPython.core.display.HTML object>"
      ]
     },
     "metadata": {},
     "output_type": "display_data"
    },
    {
     "name": "stderr",
     "output_type": "stream",
     "text": [
      "Processing ../data/AA66266AA.npy: 100%|██████████| 20085/20085 [03:48<00:00, 87.87it/s] \n",
      "Processing ../data/AA66466AA.npy: 100%|██████████| 20752/20752 [04:35<00:00, 75.29it/s]\n",
      "Processing ../data/AA66566AA.npy: 100%|██████████| 20045/20045 [03:13<00:00, 103.34it/s]\n"
     ]
    },
    {
     "data": {
      "text/html": [
       "\n",
       "                    Syncing run <strong><a href=\"https://wandb.ai/mismayil/ml4science-polymers/runs/29f9tu8j\" target=\"_blank\">worthy-meadow-98</a></strong> to <a href=\"https://wandb.ai/mismayil/ml4science-polymers\" target=\"_blank\">Weights & Biases</a> (<a href=\"https://docs.wandb.com/integrations/jupyter.html\" target=\"_blank\">docs</a>).<br/>\n",
       "\n",
       "                "
      ],
      "text/plain": [
       "<IPython.core.display.HTML object>"
      ]
     },
     "metadata": {},
     "output_type": "display_data"
    },
    {
     "data": {
      "text/html": [
       "Waiting for W&B process to finish, PID 79704... <strong style=\"color:green\">(success).</strong>"
      ],
      "text/plain": [
       "<IPython.core.display.HTML object>"
      ]
     },
     "metadata": {},
     "output_type": "display_data"
    },
    {
     "data": {
      "application/vnd.jupyter.widget-view+json": {
       "model_id": "7f7ea28122b44a7699fb3ac3b5fd1649",
       "version_major": 2,
       "version_minor": 0
      },
      "text/plain": [
       "VBox(children=(Label(value=' 0.00MB of 0.00MB uploaded (0.00MB deduped)\\r'), FloatProgress(value=1.0, max=1.0)…"
      ]
     },
     "metadata": {},
     "output_type": "display_data"
    },
    {
     "data": {
      "text/html": [
       "Synced <strong style=\"color:#cdcd00\">worthy-meadow-98</strong>: <a href=\"https://wandb.ai/mismayil/ml4science-polymers/runs/29f9tu8j\" target=\"_blank\">https://wandb.ai/mismayil/ml4science-polymers/runs/29f9tu8j</a><br/>\n"
      ],
      "text/plain": [
       "<IPython.core.display.HTML object>"
      ]
     },
     "metadata": {},
     "output_type": "display_data"
    },
    {
     "name": "stderr",
     "output_type": "stream",
     "text": [
      "Processing ../data/AA66266AA.npy: 100%|██████████| 20085/20085 [03:40<00:00, 91.09it/s] \n",
      "Processing ../data/AA66466AA.npy: 100%|██████████| 20752/20752 [04:51<00:00, 71.26it/s]\n",
      "Processing ../data/AA66566AA.npy: 100%|██████████| 20045/20045 [03:20<00:00, 100.21it/s]\n"
     ]
    },
    {
     "data": {
      "text/html": [
       "\n",
       "                    Syncing run <strong><a href=\"https://wandb.ai/mismayil/ml4science-polymers/runs/1jqb7qo2\" target=\"_blank\">usual-dawn-99</a></strong> to <a href=\"https://wandb.ai/mismayil/ml4science-polymers\" target=\"_blank\">Weights & Biases</a> (<a href=\"https://docs.wandb.com/integrations/jupyter.html\" target=\"_blank\">docs</a>).<br/>\n",
       "\n",
       "                "
      ],
      "text/plain": [
       "<IPython.core.display.HTML object>"
      ]
     },
     "metadata": {},
     "output_type": "display_data"
    },
    {
     "data": {
      "text/html": [
       "Waiting for W&B process to finish, PID 79843... <strong style=\"color:green\">(success).</strong>"
      ],
      "text/plain": [
       "<IPython.core.display.HTML object>"
      ]
     },
     "metadata": {},
     "output_type": "display_data"
    },
    {
     "data": {
      "application/vnd.jupyter.widget-view+json": {
       "model_id": "38dbb04831cf476aa2de85f529188082",
       "version_major": 2,
       "version_minor": 0
      },
      "text/plain": [
       "VBox(children=(Label(value=' 0.00MB of 0.00MB uploaded (0.00MB deduped)\\r'), FloatProgress(value=1.0, max=1.0)…"
      ]
     },
     "metadata": {},
     "output_type": "display_data"
    },
    {
     "data": {
      "text/html": [
       "Synced <strong style=\"color:#cdcd00\">usual-dawn-99</strong>: <a href=\"https://wandb.ai/mismayil/ml4science-polymers/runs/1jqb7qo2\" target=\"_blank\">https://wandb.ai/mismayil/ml4science-polymers/runs/1jqb7qo2</a><br/>\n"
      ],
      "text/plain": [
       "<IPython.core.display.HTML object>"
      ]
     },
     "metadata": {},
     "output_type": "display_data"
    },
    {
     "name": "stderr",
     "output_type": "stream",
     "text": [
      "Processing ../data/AA66266AA.npy: 100%|██████████| 20085/20085 [06:00<00:00, 55.76it/s]\n",
      "Processing ../data/AA66466AA.npy: 100%|██████████| 20752/20752 [07:31<00:00, 45.93it/s]\n",
      "Processing ../data/AA66566AA.npy: 100%|██████████| 20045/20045 [05:40<00:00, 58.93it/s]\n"
     ]
    },
    {
     "data": {
      "text/html": [
       "\n",
       "                    Syncing run <strong><a href=\"https://wandb.ai/mismayil/ml4science-polymers/runs/9ph8bvxl\" target=\"_blank\">brisk-armadillo-100</a></strong> to <a href=\"https://wandb.ai/mismayil/ml4science-polymers\" target=\"_blank\">Weights & Biases</a> (<a href=\"https://docs.wandb.com/integrations/jupyter.html\" target=\"_blank\">docs</a>).<br/>\n",
       "\n",
       "                "
      ],
      "text/plain": [
       "<IPython.core.display.HTML object>"
      ]
     },
     "metadata": {},
     "output_type": "display_data"
    },
    {
     "data": {
      "text/html": [
       "Waiting for W&B process to finish, PID 79924... <strong style=\"color:green\">(success).</strong>"
      ],
      "text/plain": [
       "<IPython.core.display.HTML object>"
      ]
     },
     "metadata": {},
     "output_type": "display_data"
    },
    {
     "data": {
      "application/vnd.jupyter.widget-view+json": {
       "model_id": "f34e804926144453a4d9e7a8b781f916",
       "version_major": 2,
       "version_minor": 0
      },
      "text/plain": [
       "VBox(children=(Label(value=' 0.00MB of 0.00MB uploaded (0.00MB deduped)\\r'), FloatProgress(value=1.0, max=1.0)…"
      ]
     },
     "metadata": {},
     "output_type": "display_data"
    },
    {
     "data": {
      "text/html": [
       "Synced <strong style=\"color:#cdcd00\">brisk-armadillo-100</strong>: <a href=\"https://wandb.ai/mismayil/ml4science-polymers/runs/9ph8bvxl\" target=\"_blank\">https://wandb.ai/mismayil/ml4science-polymers/runs/9ph8bvxl</a><br/>\n"
      ],
      "text/plain": [
       "<IPython.core.display.HTML object>"
      ]
     },
     "metadata": {},
     "output_type": "display_data"
    },
    {
     "name": "stderr",
     "output_type": "stream",
     "text": [
      "Processing ../data/AA66266AA.npy: 100%|██████████| 20085/20085 [06:02<00:00, 55.41it/s]\n",
      "Processing ../data/AA66466AA.npy: 100%|██████████| 20752/20752 [07:34<00:00, 45.70it/s]\n",
      "Processing ../data/AA66566AA.npy: 100%|██████████| 20045/20045 [05:39<00:00, 59.03it/s]\n"
     ]
    },
    {
     "data": {
      "text/html": [
       "\n",
       "                    Syncing run <strong><a href=\"https://wandb.ai/mismayil/ml4science-polymers/runs/1ul5bgxk\" target=\"_blank\">blooming-frost-101</a></strong> to <a href=\"https://wandb.ai/mismayil/ml4science-polymers\" target=\"_blank\">Weights & Biases</a> (<a href=\"https://docs.wandb.com/integrations/jupyter.html\" target=\"_blank\">docs</a>).<br/>\n",
       "\n",
       "                "
      ],
      "text/plain": [
       "<IPython.core.display.HTML object>"
      ]
     },
     "metadata": {},
     "output_type": "display_data"
    },
    {
     "data": {
      "text/html": [
       "Waiting for W&B process to finish, PID 80006... <strong style=\"color:green\">(success).</strong>"
      ],
      "text/plain": [
       "<IPython.core.display.HTML object>"
      ]
     },
     "metadata": {},
     "output_type": "display_data"
    },
    {
     "data": {
      "application/vnd.jupyter.widget-view+json": {
       "model_id": "434a7dafdcbe45fc95d741f400f3893d",
       "version_major": 2,
       "version_minor": 0
      },
      "text/plain": [
       "VBox(children=(Label(value=' 0.00MB of 0.00MB uploaded (0.00MB deduped)\\r'), FloatProgress(value=1.0, max=1.0)…"
      ]
     },
     "metadata": {},
     "output_type": "display_data"
    },
    {
     "data": {
      "text/html": [
       "Synced <strong style=\"color:#cdcd00\">blooming-frost-101</strong>: <a href=\"https://wandb.ai/mismayil/ml4science-polymers/runs/1ul5bgxk\" target=\"_blank\">https://wandb.ai/mismayil/ml4science-polymers/runs/1ul5bgxk</a><br/>\n"
      ],
      "text/plain": [
       "<IPython.core.display.HTML object>"
      ]
     },
     "metadata": {},
     "output_type": "display_data"
    },
    {
     "name": "stderr",
     "output_type": "stream",
     "text": [
      "Processing ../data/AA66266AA.npy: 100%|██████████| 20085/20085 [06:09<00:00, 54.38it/s]\n",
      "Processing ../data/AA66466AA.npy: 100%|██████████| 20752/20752 [07:36<00:00, 45.50it/s]\n",
      "Processing ../data/AA66566AA.npy: 100%|██████████| 20045/20045 [05:45<00:00, 57.97it/s]\n"
     ]
    },
    {
     "data": {
      "text/html": [
       "\n",
       "                    Syncing run <strong><a href=\"https://wandb.ai/mismayil/ml4science-polymers/runs/1lyjj1yx\" target=\"_blank\">feasible-terrain-102</a></strong> to <a href=\"https://wandb.ai/mismayil/ml4science-polymers\" target=\"_blank\">Weights & Biases</a> (<a href=\"https://docs.wandb.com/integrations/jupyter.html\" target=\"_blank\">docs</a>).<br/>\n",
       "\n",
       "                "
      ],
      "text/plain": [
       "<IPython.core.display.HTML object>"
      ]
     },
     "metadata": {},
     "output_type": "display_data"
    },
    {
     "data": {
      "text/html": [
       "Waiting for W&B process to finish, PID 80133... <strong style=\"color:green\">(success).</strong>"
      ],
      "text/plain": [
       "<IPython.core.display.HTML object>"
      ]
     },
     "metadata": {},
     "output_type": "display_data"
    },
    {
     "data": {
      "application/vnd.jupyter.widget-view+json": {
       "model_id": "d41b7f4a53384303a47dd72bef67c751",
       "version_major": 2,
       "version_minor": 0
      },
      "text/plain": [
       "VBox(children=(Label(value=' 0.00MB of 0.00MB uploaded (0.00MB deduped)\\r'), FloatProgress(value=1.0, max=1.0)…"
      ]
     },
     "metadata": {},
     "output_type": "display_data"
    },
    {
     "data": {
      "text/html": [
       "Synced <strong style=\"color:#cdcd00\">feasible-terrain-102</strong>: <a href=\"https://wandb.ai/mismayil/ml4science-polymers/runs/1lyjj1yx\" target=\"_blank\">https://wandb.ai/mismayil/ml4science-polymers/runs/1lyjj1yx</a><br/>\n"
      ],
      "text/plain": [
       "<IPython.core.display.HTML object>"
      ]
     },
     "metadata": {},
     "output_type": "display_data"
    },
    {
     "name": "stderr",
     "output_type": "stream",
     "text": [
      "Processing ../data/AA66266AA.npy: 100%|██████████| 20085/20085 [06:09<00:00, 54.29it/s]\n",
      "Processing ../data/AA66466AA.npy: 100%|██████████| 20752/20752 [07:37<00:00, 45.36it/s]\n",
      "Processing ../data/AA66566AA.npy: 100%|██████████| 20045/20045 [05:33<00:00, 60.08it/s]\n"
     ]
    },
    {
     "data": {
      "text/html": [
       "\n",
       "                    Syncing run <strong><a href=\"https://wandb.ai/mismayil/ml4science-polymers/runs/2ksdtin9\" target=\"_blank\">lyric-glitter-103</a></strong> to <a href=\"https://wandb.ai/mismayil/ml4science-polymers\" target=\"_blank\">Weights & Biases</a> (<a href=\"https://docs.wandb.com/integrations/jupyter.html\" target=\"_blank\">docs</a>).<br/>\n",
       "\n",
       "                "
      ],
      "text/plain": [
       "<IPython.core.display.HTML object>"
      ]
     },
     "metadata": {},
     "output_type": "display_data"
    },
    {
     "data": {
      "text/html": [
       "Waiting for W&B process to finish, PID 80253... <strong style=\"color:green\">(success).</strong>"
      ],
      "text/plain": [
       "<IPython.core.display.HTML object>"
      ]
     },
     "metadata": {},
     "output_type": "display_data"
    },
    {
     "data": {
      "application/vnd.jupyter.widget-view+json": {
       "model_id": "f1033384b8c646069e63f95ce6e0f744",
       "version_major": 2,
       "version_minor": 0
      },
      "text/plain": [
       "VBox(children=(Label(value=' 0.00MB of 0.00MB uploaded (0.00MB deduped)\\r'), FloatProgress(value=1.0, max=1.0)…"
      ]
     },
     "metadata": {},
     "output_type": "display_data"
    },
    {
     "data": {
      "text/html": [
       "Synced <strong style=\"color:#cdcd00\">lyric-glitter-103</strong>: <a href=\"https://wandb.ai/mismayil/ml4science-polymers/runs/2ksdtin9\" target=\"_blank\">https://wandb.ai/mismayil/ml4science-polymers/runs/2ksdtin9</a><br/>\n"
      ],
      "text/plain": [
       "<IPython.core.display.HTML object>"
      ]
     },
     "metadata": {},
     "output_type": "display_data"
    }
   ],
   "source": [
    "param_grid = {\n",
    "    'data_paths': [['../data/AA66466AA.npy', '../data/AA66566AA.npy'],\n",
    "                   ['../data/AA66266AA.npy', '../data/AA66466AA.npy', '../data/AA66566AA.npy']],\n",
    "    'num_blocks': [4, 8, 16, 32, 64, 128],\n",
    "    'lr_rate': [0.001, 0.01],\n",
    "    'num_epochs': [100, 200]\n",
    "}\n",
    "\n",
    "run_245(param_grid)"
   ]
  }
 ],
 "metadata": {
  "interpreter": {
   "hash": "34e9dc8c9cd4c2e3341692c7f5472da17e27c062a0f2ac63648b60e63867ef4a"
  },
  "kernelspec": {
   "display_name": "Python 3.9.7 64-bit ('ml': conda)",
   "language": "python",
   "name": "python3"
  },
  "language_info": {
   "codemirror_mode": {
    "name": "ipython",
    "version": 3
   },
   "file_extension": ".py",
   "mimetype": "text/x-python",
   "name": "python",
   "nbconvert_exporter": "python",
   "pygments_lexer": "ipython3",
   "version": "3.9.7"
  },
  "orig_nbformat": 4
 },
 "nbformat": 4,
 "nbformat_minor": 2
}
