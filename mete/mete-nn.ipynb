{
 "cells": [
  {
   "cell_type": "code",
   "execution_count": 17,
   "metadata": {},
   "outputs": [
    {
     "name": "stdout",
     "output_type": "stream",
     "text": [
      "The autoreload extension is already loaded. To reload it, use:\n",
      "  %reload_ext autoreload\n"
     ]
    }
   ],
   "source": [
    "%load_ext autoreload\n",
    "%autoreload 2\n",
    "import numpy as np\n",
    "import sys\n",
    "sys.path.append('..')\n",
    "from pipeline import *\n",
    "from models import *"
   ]
  },
  {
   "cell_type": "code",
   "execution_count": 5,
   "metadata": {},
   "outputs": [
    {
     "name": "stdout",
     "output_type": "stream",
     "text": [
      "env: \"WANDB_NOTEBOOK_NAME\"=\"mete-nn.ipynb\"\n"
     ]
    }
   ],
   "source": [
    "%env \"WANDB_NOTEBOOK_NAME\" \"mete-nn.ipynb\""
   ]
  },
  {
   "cell_type": "code",
   "execution_count": 6,
   "metadata": {},
   "outputs": [
    {
     "name": "stderr",
     "output_type": "stream",
     "text": [
      "Processing ../data/AA66266AA.npy: 100%|██████████| 20085/20085 [01:14<00:00, 271.27it/s]\n",
      "Processing ../data/AA66466AA.npy: 100%|██████████| 20752/20752 [01:59<00:00, 173.55it/s]\n"
     ]
    }
   ],
   "source": [
    "pipeline = AABB245_Pipeline(num_blocks=8, extrema_th=8)\n",
    "dataset_24 = PolymerDataset(['../data/AA66266AA.npy', '../data/AA66466AA.npy'], pipeline)"
   ]
  },
  {
   "cell_type": "code",
   "execution_count": 7,
   "metadata": {},
   "outputs": [
    {
     "data": {
      "text/plain": [
       "(torch.Size([40837, 8, 19]), torch.Size([40837]))"
      ]
     },
     "execution_count": 7,
     "metadata": {},
     "output_type": "execute_result"
    }
   ],
   "source": [
    "dataset_24.data.shape, dataset_24.labels.shape"
   ]
  },
  {
   "cell_type": "code",
   "execution_count": 8,
   "metadata": {},
   "outputs": [],
   "source": [
    "train_data_24, test_data_24 = train_test_split(dataset_24)"
   ]
  },
  {
   "cell_type": "code",
   "execution_count": 9,
   "metadata": {},
   "outputs": [],
   "source": [
    "model_24 = MultiOutputLSTM(input_dim=dataset_24.num_features, output_dim=dataset_24.num_classes, num_blocks=dataset_24.num_blocks)"
   ]
  },
  {
   "cell_type": "code",
   "execution_count": 16,
   "metadata": {},
   "outputs": [
    {
     "data": {
      "text/html": [
       "\n",
       "                    Syncing run <strong><a href=\"https://wandb.ai/mismayil/ml4science-polymers/runs/2nyn6q8b\" target=\"_blank\">visionary-elevator-4</a></strong> to <a href=\"https://wandb.ai/mismayil/ml4science-polymers\" target=\"_blank\">Weights & Biases</a> (<a href=\"https://docs.wandb.com/integrations/jupyter.html\" target=\"_blank\">docs</a>).<br/>\n",
       "\n",
       "                "
      ],
      "text/plain": [
       "<IPython.core.display.HTML object>"
      ]
     },
     "metadata": {},
     "output_type": "display_data"
    },
    {
     "name": "stdout",
     "output_type": "stream",
     "text": [
      "epoch=0/10, loss=0.37271414464339614, accuracy=82.67217254638672\n",
      "epoch=1/10, loss=0.372731851413846, accuracy=82.62932586669922\n",
      "epoch=2/10, loss=0.37188954511657357, accuracy=82.6201400756836\n",
      "epoch=3/10, loss=0.37178146466612816, accuracy=82.69054412841797\n",
      "epoch=4/10, loss=0.3715766570530832, accuracy=82.67829895019531\n",
      "epoch=5/10, loss=0.37162007624283433, accuracy=82.75482177734375\n",
      "epoch=6/10, loss=0.3719693277962506, accuracy=82.62932586669922\n",
      "epoch=7/10, loss=0.37035882798954844, accuracy=82.86195373535156\n",
      "epoch=8/10, loss=0.3711086120456457, accuracy=82.72421264648438\n",
      "epoch=9/10, loss=0.370423570740968, accuracy=82.74869537353516\n"
     ]
    },
    {
     "data": {
      "text/html": [
       "Waiting for W&B process to finish, PID 71921... <strong style=\"color:green\">(success).</strong>"
      ],
      "text/plain": [
       "<IPython.core.display.HTML object>"
      ]
     },
     "metadata": {},
     "output_type": "display_data"
    },
    {
     "data": {
      "application/vnd.jupyter.widget-view+json": {
       "model_id": "7396a1d62d674eb4a7deba1ff43b5e61",
       "version_major": 2,
       "version_minor": 0
      },
      "text/plain": [
       "VBox(children=(Label(value=' 0.00MB of 0.00MB uploaded (0.00MB deduped)\\r'), FloatProgress(value=1.0, max=1.0)…"
      ]
     },
     "metadata": {},
     "output_type": "display_data"
    },
    {
     "data": {
      "text/html": [
       "Synced <strong style=\"color:#cdcd00\">visionary-elevator-4</strong>: <a href=\"https://wandb.ai/mismayil/ml4science-polymers/runs/2nyn6q8b\" target=\"_blank\">https://wandb.ai/mismayil/ml4science-polymers/runs/2nyn6q8b</a><br/>\n"
      ],
      "text/plain": [
       "<IPython.core.display.HTML object>"
      ]
     },
     "metadata": {},
     "output_type": "display_data"
    },
    {
     "data": {
      "text/plain": [
       "(MultiOutputLSTM(\n",
       "   (lstm): LSTM(19, 1, batch_first=True)\n",
       "   (linear1): Linear(in_features=8, out_features=64, bias=True)\n",
       "   (linear2): Linear(in_features=64, out_features=64, bias=True)\n",
       "   (linear3): Linear(in_features=64, out_features=2, bias=True)\n",
       " ),\n",
       " {'accuracy': 0.8202522346026693,\n",
       "  'f1_score': 0.8169576059850373,\n",
       "  'precision': 0.8391393442622951,\n",
       "  'recall': 0.7959183673469388,\n",
       "  'confusion_matrix': array([[0.845, 0.155],\n",
       "         [0.204, 0.796]])})"
      ]
     },
     "execution_count": 16,
     "metadata": {},
     "output_type": "execute_result"
    }
   ],
   "source": [
    "train(train_dataset=train_data_24, test_dataset=test_data_24, model=model_24, batch_size=512, num_epochs=10, lr_rate=0.001)"
   ]
  },
  {
   "cell_type": "code",
   "execution_count": 19,
   "metadata": {},
   "outputs": [
    {
     "name": "stderr",
     "output_type": "stream",
     "text": [
      "Processing ../data/AA66266AA.npy: 100%|██████████| 20085/20085 [00:57<00:00, 351.31it/s]\n",
      "Processing ../data/AA66466AA.npy: 100%|██████████| 20752/20752 [01:39<00:00, 207.66it/s]\n",
      "Processing ../data/AA66566AA.npy: 100%|██████████| 20045/20045 [00:46<00:00, 428.78it/s]\n"
     ]
    },
    {
     "data": {
      "text/html": [
       "\n",
       "                    Syncing run <strong><a href=\"https://wandb.ai/mismayil/ml4science-polymers/runs/3it0vdvi\" target=\"_blank\">desert-planet-5</a></strong> to <a href=\"https://wandb.ai/mismayil/ml4science-polymers\" target=\"_blank\">Weights & Biases</a> (<a href=\"https://docs.wandb.com/integrations/jupyter.html\" target=\"_blank\">docs</a>).<br/>\n",
       "\n",
       "                "
      ],
      "text/plain": [
       "<IPython.core.display.HTML object>"
      ]
     },
     "metadata": {},
     "output_type": "display_data"
    },
    {
     "name": "stdout",
     "output_type": "stream",
     "text": [
      "epoch=9/10, loss=0.8971244705220064, accuracy=56.660369873046875\n"
     ]
    },
    {
     "data": {
      "text/html": [
       "Waiting for W&B process to finish, PID 72244... <strong style=\"color:green\">(success).</strong>"
      ],
      "text/plain": [
       "<IPython.core.display.HTML object>"
      ]
     },
     "metadata": {},
     "output_type": "display_data"
    },
    {
     "data": {
      "application/vnd.jupyter.widget-view+json": {
       "model_id": "149a08d0b65445fdbf1ab9411ac5ab71",
       "version_major": 2,
       "version_minor": 0
      },
      "text/plain": [
       "VBox(children=(Label(value=' 0.00MB of 0.00MB uploaded (0.00MB deduped)\\r'), FloatProgress(value=1.0, max=1.0)…"
      ]
     },
     "metadata": {},
     "output_type": "display_data"
    },
    {
     "data": {
      "text/html": [
       "Synced <strong style=\"color:#cdcd00\">desert-planet-5</strong>: <a href=\"https://wandb.ai/mismayil/ml4science-polymers/runs/3it0vdvi\" target=\"_blank\">https://wandb.ai/mismayil/ml4science-polymers/runs/3it0vdvi</a><br/>\n"
      ],
      "text/plain": [
       "<IPython.core.display.HTML object>"
      ]
     },
     "metadata": {},
     "output_type": "display_data"
    }
   ],
   "source": [
    "param_grid = {\n",
    "    'data_paths': [['../data/AA66266AA.npy', '../data/AA66466AA.npy'],\n",
    "                   ['../data/AA66266AA.npy', '../data/AA66566AA.npy'],\n",
    "                   ['../data/AA66466AA.npy', '../data/AA66566AA.npy'],\n",
    "                   ['../data/AA66266AA.npy', '../data/AA66466AA.npy', '../data/AA66566AA.npy']],\n",
    "    'num_blocks': [4, 8, 16, 32, 64, 128],\n",
    "    'lr_rate': [0.001, 0.01]\n",
    "}\n",
    "\n",
    "run_245(param_grid)\n",
    "\n"
   ]
  }
 ],
 "metadata": {
  "interpreter": {
   "hash": "34e9dc8c9cd4c2e3341692c7f5472da17e27c062a0f2ac63648b60e63867ef4a"
  },
  "kernelspec": {
   "display_name": "Python 3.9.7 64-bit ('ml': conda)",
   "language": "python",
   "name": "python3"
  },
  "language_info": {
   "codemirror_mode": {
    "name": "ipython",
    "version": 3
   },
   "file_extension": ".py",
   "mimetype": "text/x-python",
   "name": "python",
   "nbconvert_exporter": "python",
   "pygments_lexer": "ipython3",
   "version": "3.9.7"
  },
  "orig_nbformat": 4
 },
 "nbformat": 4,
 "nbformat_minor": 2
}
