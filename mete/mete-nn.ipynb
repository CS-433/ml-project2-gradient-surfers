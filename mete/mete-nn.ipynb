{
 "cells": [
  {
   "cell_type": "code",
   "execution_count": 1,
   "metadata": {},
   "outputs": [],
   "source": [
    "%load_ext autoreload\n",
    "%autoreload 2\n",
    "import numpy as np\n",
    "import sys\n",
    "sys.path.append('..')\n",
    "from pipeline import *\n",
    "from models import *"
   ]
  },
  {
   "cell_type": "code",
   "execution_count": 7,
   "metadata": {},
   "outputs": [
    {
     "name": "stderr",
     "output_type": "stream",
     "text": [
      "Processing ../data/AA66266AA.npy: 100%|██████████| 20085/20085 [01:05<00:00, 308.80it/s]\n",
      "Processing ../data/AA66466AA.npy: 100%|██████████| 20752/20752 [01:52<00:00, 184.37it/s]\n"
     ]
    }
   ],
   "source": [
    "pipeline = AABB245_Pipeline(num_blocks=5, extrema_th=1)\n",
    "dataset = PolymerDataset(['../data/AA66266AA.npy', '../data/AA66466AA.npy'], pipeline)"
   ]
  },
  {
   "cell_type": "code",
   "execution_count": 8,
   "metadata": {},
   "outputs": [
    {
     "data": {
      "text/plain": [
       "(torch.Size([40837, 5, 19]), torch.Size([40837]))"
      ]
     },
     "execution_count": 8,
     "metadata": {},
     "output_type": "execute_result"
    }
   ],
   "source": [
    "dataset.data.shape, dataset.labels.shape"
   ]
  },
  {
   "cell_type": "code",
   "execution_count": 9,
   "metadata": {},
   "outputs": [],
   "source": [
    "train_data, test_data = train_test_split(dataset)"
   ]
  },
  {
   "cell_type": "code",
   "execution_count": 10,
   "metadata": {},
   "outputs": [],
   "source": [
    "model = VanillaLSTM(input_dim=dataset.num_features, output_dim=dataset.num_classes)"
   ]
  },
  {
   "cell_type": "code",
   "execution_count": 11,
   "metadata": {},
   "outputs": [
    {
     "name": "stdout",
     "output_type": "stream",
     "text": [
      "epoch=0/200, loss=0.4219734715297818, accuracy=79.18579864501953\n",
      "epoch=1/200, loss=0.33192903781309724, accuracy=84.50260162353516\n",
      "epoch=2/200, loss=0.31340299313887954, accuracy=85.49739837646484\n",
      "epoch=3/200, loss=0.3044575727544725, accuracy=85.97183990478516\n",
      "epoch=4/200, loss=0.30318702617660165, accuracy=85.94429016113281\n",
      "epoch=5/200, loss=0.30155950831249356, accuracy=86.2381362915039\n",
      "epoch=6/200, loss=0.30554674845188856, accuracy=86.04530334472656\n",
      "epoch=7/200, loss=0.3005656749010086, accuracy=86.2105941772461\n",
      "epoch=8/200, loss=0.29558743815869093, accuracy=86.26568603515625\n",
      "epoch=9/200, loss=0.29784374218434095, accuracy=86.35751342773438\n",
      "epoch=10/200, loss=0.297371915075928, accuracy=86.35445404052734\n",
      "epoch=11/200, loss=0.2964331042021513, accuracy=86.37894439697266\n",
      "epoch=12/200, loss=0.2945554235484451, accuracy=86.60238647460938\n",
      "epoch=13/200, loss=0.2900005951523781, accuracy=86.79216766357422\n",
      "epoch=14/200, loss=0.29059783602133393, accuracy=86.75237274169922\n",
      "epoch=15/200, loss=0.2900538803078234, accuracy=86.72482299804688\n"
     ]
    }
   ],
   "source": [
    "model = train(train_data, model, batch_size=512, num_epochs=200, lr_rate=0.01)"
   ]
  },
  {
   "cell_type": "code",
   "execution_count": null,
   "metadata": {},
   "outputs": [],
   "source": [
    "len(test_data)"
   ]
  },
  {
   "cell_type": "code",
   "execution_count": null,
   "metadata": {},
   "outputs": [],
   "source": [
    "test_loader = DataLoader(test_data)\n",
    "test_X, test_y = next(iter(test_loader))"
   ]
  },
  {
   "cell_type": "code",
   "execution_count": null,
   "metadata": {},
   "outputs": [],
   "source": [
    "test_X.shape"
   ]
  },
  {
   "cell_type": "code",
   "execution_count": null,
   "metadata": {},
   "outputs": [],
   "source": [
    "pipeline = AA0066_Pipeline(num_blocks=3)\n",
    "dataset = PolymerDataset([\"../data/AA00400AA.npy\", \"../data/AA66466AA.npy\"], pipeline)"
   ]
  },
  {
   "cell_type": "code",
   "execution_count": null,
   "metadata": {},
   "outputs": [],
   "source": [
    "dataset.data.shape, dataset.labels.shape"
   ]
  },
  {
   "cell_type": "code",
   "execution_count": null,
   "metadata": {},
   "outputs": [],
   "source": [
    "train_data, test_data = train_test_split(dataset)"
   ]
  },
  {
   "cell_type": "code",
   "execution_count": null,
   "metadata": {},
   "outputs": [],
   "source": [
    "model = VanillaLSTM(input_dim=dataset.num_features, output_dim=dataset.num_classes)"
   ]
  },
  {
   "cell_type": "code",
   "execution_count": null,
   "metadata": {},
   "outputs": [],
   "source": [
    "model = train(train_data, model, batch_size=512, num_epochs=100)"
   ]
  }
 ],
 "metadata": {
  "interpreter": {
   "hash": "34e9dc8c9cd4c2e3341692c7f5472da17e27c062a0f2ac63648b60e63867ef4a"
  },
  "kernelspec": {
   "display_name": "Python 3.9.7 64-bit ('ml': conda)",
   "language": "python",
   "name": "python3"
  },
  "language_info": {
   "codemirror_mode": {
    "name": "ipython",
    "version": 3
   },
   "file_extension": ".py",
   "mimetype": "text/x-python",
   "name": "python",
   "nbconvert_exporter": "python",
   "pygments_lexer": "ipython3",
   "version": "3.9.7"
  },
  "orig_nbformat": 4
 },
 "nbformat": 4,
 "nbformat_minor": 2
}
