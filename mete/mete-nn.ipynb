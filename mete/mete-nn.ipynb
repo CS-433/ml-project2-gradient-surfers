{
 "cells": [
  {
   "cell_type": "code",
   "execution_count": 2,
   "metadata": {},
   "outputs": [
    {
     "name": "stdout",
     "output_type": "stream",
     "text": [
      "The autoreload extension is already loaded. To reload it, use:\n",
      "  %reload_ext autoreload\n"
     ]
    }
   ],
   "source": [
    "%load_ext autoreload\n",
    "%autoreload 2\n",
    "import numpy as np\n",
    "import sys\n",
    "sys.path.append('..')\n",
    "from pipeline import *\n",
    "from models import *"
   ]
  },
  {
   "cell_type": "code",
   "execution_count": 4,
   "metadata": {},
   "outputs": [
    {
     "name": "stderr",
     "output_type": "stream",
     "text": [
      "Processing ../data/AA66266AA.npy: 100%|██████████| 20085/20085 [00:10<00:00, 1886.20it/s]\n",
      "Processing ../data/AA66466AA.npy: 100%|██████████| 20752/20752 [00:11<00:00, 1820.36it/s]\n"
     ]
    }
   ],
   "source": [
    "def transform_data(data_paths, num_blocks=8, *args, **kwargs):\n",
    "    pipeline = AABB245_Pipeline(num_blocks=num_blocks)\n",
    "    dataset = PolymerDataset(data_paths, pipeline)\n",
    "    return dataset\n",
    "\n",
    "def build_model(dataset, *args, **kwargs):\n",
    "    return VanillaLSTM(input_dim=dataset.num_features, output_dim=dataset.num_classes)\n",
    "\n",
    "data_paths = ['../data/AA66266AA.npy', '../data/AA66466AA.npy']\n",
    "param_grid = {\n",
    "    'num_blocks': [4],\n",
    "    'lr_rate': [0.01],\n",
    "    'num_epochs': 10,\n",
    "    'verbose': False,\n",
    "    'log': False\n",
    "}\n",
    "params, metrics = grid_search_cv(data_paths=data_paths, param_grid=param_grid,\n",
    "                                 model_fn=build_model, train_fn=train, test_fn=test, transform_fn=transform_data, k_fold=2)"
   ]
  },
  {
   "cell_type": "code",
   "execution_count": 5,
   "metadata": {},
   "outputs": [
    {
     "data": {
      "text/plain": [
       "({'num_blocks': 4,\n",
       "  'lr_rate': 0.01,\n",
       "  'num_epochs': 10,\n",
       "  'verbose': False,\n",
       "  'log': False},\n",
       " {'accuracy': 0.858066411989421,\n",
       "  'f1_score': 0.8591339005486156,\n",
       "  'precision': 0.8668879843946347,\n",
       "  'recall': 0.8516069884377873,\n",
       "  'confusion_matrix': array([[0.865 , 0.135 ],\n",
       "         [0.1485, 0.8515]])})"
      ]
     },
     "execution_count": 5,
     "metadata": {},
     "output_type": "execute_result"
    }
   ],
   "source": [
    "params, metrics"
   ]
  },
  {
   "cell_type": "code",
   "execution_count": null,
   "metadata": {},
   "outputs": [],
   "source": [
    "pipeline = AABB245_Pipeline(num_blocks=32)\n",
    "dataset = PolymerDataset(['../data/AA66266AA.npy', '../data/AA66566AA.npy'], pipeline)"
   ]
  },
  {
   "cell_type": "code",
   "execution_count": null,
   "metadata": {},
   "outputs": [],
   "source": [
    "dataset.data.shape, dataset.labels.shape"
   ]
  },
  {
   "cell_type": "code",
   "execution_count": null,
   "metadata": {},
   "outputs": [],
   "source": [
    "train_data, test_data = train_test_split(dataset)"
   ]
  },
  {
   "cell_type": "code",
   "execution_count": null,
   "metadata": {},
   "outputs": [],
   "source": [
    "model = VanillaLSTM(input_dim=dataset.num_features, output_dim=dataset.num_classes)"
   ]
  },
  {
   "cell_type": "code",
   "execution_count": null,
   "metadata": {},
   "outputs": [],
   "source": [
    "model, metrics = train(train_dataset=train_data, test_dataset=test_data, model=model, batch_size=512, num_epochs=100, lr_rate=0.01)"
   ]
  },
  {
   "cell_type": "code",
   "execution_count": null,
   "metadata": {},
   "outputs": [],
   "source": [
    "param_grid = {\n",
    "    'data_paths': [['../data/AA66266AA.npy', '../data/AA66466AA.npy'],\n",
    "                   ['../data/AA66266AA.npy', '../data/AA66566AA.npy'],\n",
    "                   ['../data/AA66466AA.npy', '../data/AA66566AA.npy'],\n",
    "                   ['../data/AA66266AA.npy', '../data/AA66466AA.npy', '../data/AA66566AA.npy']],\n",
    "    'num_blocks': [4, 8, 16, 32, 64, 128],\n",
    "    'lr_rate': [0.001, 0.01],\n",
    "    'num_epochs': [100, 200]\n",
    "}\n",
    "\n",
    "run_245(param_grid)\n",
    "\n"
   ]
  },
  {
   "cell_type": "code",
   "execution_count": null,
   "metadata": {},
   "outputs": [],
   "source": [
    "param_grid = {\n",
    "    'data_paths': [['../data/AA66266AA.npy', '../data/AA66566AA.npy']],\n",
    "    'num_blocks': [16, 32, 64, 128],\n",
    "    'lr_rate': [0.001, 0.01],\n",
    "    'num_epochs': [100, 200]\n",
    "}\n",
    "\n",
    "run_245(param_grid)"
   ]
  },
  {
   "cell_type": "code",
   "execution_count": null,
   "metadata": {},
   "outputs": [],
   "source": [
    "param_grid = {\n",
    "    'data_paths': [['../data/AA66466AA.npy', '../data/AA66566AA.npy'],\n",
    "                   ['../data/AA66266AA.npy', '../data/AA66466AA.npy', '../data/AA66566AA.npy']],\n",
    "    'num_blocks': [4, 8, 16, 32, 64, 128],\n",
    "    'lr_rate': [0.001, 0.01],\n",
    "    'num_epochs': [100, 200]\n",
    "}\n",
    "\n",
    "run_245(param_grid)"
   ]
  }
 ],
 "metadata": {
  "interpreter": {
   "hash": "34e9dc8c9cd4c2e3341692c7f5472da17e27c062a0f2ac63648b60e63867ef4a"
  },
  "kernelspec": {
   "display_name": "Python 3.9.7 64-bit ('ml': conda)",
   "language": "python",
   "name": "python3"
  },
  "language_info": {
   "codemirror_mode": {
    "name": "ipython",
    "version": 3
   },
   "file_extension": ".py",
   "mimetype": "text/x-python",
   "name": "python",
   "nbconvert_exporter": "python",
   "pygments_lexer": "ipython3",
   "version": "3.9.7"
  },
  "orig_nbformat": 4
 },
 "nbformat": 4,
 "nbformat_minor": 2
}
