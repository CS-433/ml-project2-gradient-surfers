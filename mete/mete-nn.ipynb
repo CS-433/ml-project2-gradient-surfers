{
 "cells": [
  {
   "cell_type": "code",
   "execution_count": 2,
   "metadata": {},
   "outputs": [
    {
     "name": "stdout",
     "output_type": "stream",
     "text": [
      "The autoreload extension is already loaded. To reload it, use:\n",
      "  %reload_ext autoreload\n"
     ]
    }
   ],
   "source": [
    "%load_ext autoreload\n",
    "%autoreload 2\n",
    "import numpy as np\n",
    "import sys\n",
    "sys.path.append('..')\n",
    "from pipeline import *\n",
    "from models import *"
   ]
  },
  {
   "cell_type": "code",
   "execution_count": 3,
   "metadata": {},
   "outputs": [
    {
     "name": "stderr",
     "output_type": "stream",
     "text": [
      "Processing ../data/AA66266AA.npy: 100%|██████████| 20085/20085 [00:12<00:00, 1602.00it/s]\n",
      "Processing ../data/AA66466AA.npy: 100%|██████████| 20752/20752 [00:11<00:00, 1742.63it/s]\n"
     ]
    },
    {
     "ename": "AttributeError",
     "evalue": "'functools.partial' object has no attribute 'info'",
     "output_type": "error",
     "traceback": [
      "\u001b[0;31m---------------------------------------------------------------------------\u001b[0m",
      "\u001b[0;31mAttributeError\u001b[0m                            Traceback (most recent call last)",
      "\u001b[0;32m/var/folders/rs/c9bqjyq95q59ngc5v1t0gz_00000gn/T/ipykernel_1189/3916072406.py\u001b[0m in \u001b[0;36m<module>\u001b[0;34m\u001b[0m\n\u001b[1;32m     15\u001b[0m     \u001b[0;34m'log'\u001b[0m\u001b[0;34m:\u001b[0m \u001b[0;32mFalse\u001b[0m\u001b[0;34m\u001b[0m\u001b[0;34m\u001b[0m\u001b[0m\n\u001b[1;32m     16\u001b[0m }\n\u001b[0;32m---> 17\u001b[0;31m params, metrics = grid_search_cv(data_paths=data_paths, param_grid=param_grid,\n\u001b[0m\u001b[1;32m     18\u001b[0m                                  model_fn=build_model, train_fn=train, test_fn=test, transform_fn=transform_data, k_fold=2)\n",
      "\u001b[0;32m~/Desktop/EPFL/github/ml4science-polymers/mete/../models.py\u001b[0m in \u001b[0;36mgrid_search_cv\u001b[0;34m(data_paths, param_grid, model_fn, train_fn, test_fn, transform_fn, scoring, k_fold, seed)\u001b[0m\n\u001b[1;32m    302\u001b[0m         \u001b[0mtest_fn_partial\u001b[0m \u001b[0;34m=\u001b[0m \u001b[0mpartial\u001b[0m\u001b[0;34m(\u001b[0m\u001b[0mtest_fn\u001b[0m\u001b[0;34m,\u001b[0m \u001b[0;34m**\u001b[0m\u001b[0mparams_dict\u001b[0m\u001b[0;34m)\u001b[0m\u001b[0;34m\u001b[0m\u001b[0;34m\u001b[0m\u001b[0m\n\u001b[1;32m    303\u001b[0m \u001b[0;34m\u001b[0m\u001b[0m\n\u001b[0;32m--> 304\u001b[0;31m         metrics = cross_validate(dataset=dataset, model=model, train_fn=train_fn_partial, test_fn=test_fn_partial,\n\u001b[0m\u001b[1;32m    305\u001b[0m                                  k_fold=k_fold, seed=seed)\n\u001b[1;32m    306\u001b[0m \u001b[0;34m\u001b[0m\u001b[0m\n",
      "\u001b[0;32m~/Desktop/EPFL/github/ml4science-polymers/mete/../models.py\u001b[0m in \u001b[0;36mcross_validate\u001b[0;34m(dataset, model, train_fn, test_fn, k_fold, seed)\u001b[0m\n\u001b[1;32m    257\u001b[0m \u001b[0;34m\u001b[0m\u001b[0m\n\u001b[1;32m    258\u001b[0m     \u001b[0;32mfor\u001b[0m \u001b[0mtrain_dataset\u001b[0m\u001b[0;34m,\u001b[0m \u001b[0mtest_dataset\u001b[0m \u001b[0;32min\u001b[0m \u001b[0mkfold_cv_iter\u001b[0m\u001b[0;34m(\u001b[0m\u001b[0mdataset\u001b[0m\u001b[0;34m,\u001b[0m \u001b[0mk\u001b[0m\u001b[0;34m=\u001b[0m\u001b[0mk_fold\u001b[0m\u001b[0;34m,\u001b[0m \u001b[0mseed\u001b[0m\u001b[0;34m=\u001b[0m\u001b[0mseed\u001b[0m\u001b[0;34m)\u001b[0m\u001b[0;34m:\u001b[0m\u001b[0;34m\u001b[0m\u001b[0;34m\u001b[0m\u001b[0m\n\u001b[0;32m--> 259\u001b[0;31m         \u001b[0m_\u001b[0m \u001b[0;34m=\u001b[0m \u001b[0mtrain_fn\u001b[0m\u001b[0;34m(\u001b[0m\u001b[0mtrain_dataset\u001b[0m\u001b[0;34m,\u001b[0m \u001b[0mmodel\u001b[0m\u001b[0;34m=\u001b[0m\u001b[0mmodel\u001b[0m\u001b[0;34m)\u001b[0m\u001b[0;34m\u001b[0m\u001b[0;34m\u001b[0m\u001b[0m\n\u001b[0m\u001b[1;32m    260\u001b[0m         \u001b[0mmetrics\u001b[0m \u001b[0;34m=\u001b[0m \u001b[0mtest_fn\u001b[0m\u001b[0;34m(\u001b[0m\u001b[0mtest_dataset\u001b[0m\u001b[0;34m,\u001b[0m \u001b[0mmodel\u001b[0m\u001b[0;34m=\u001b[0m\u001b[0mmodel\u001b[0m\u001b[0;34m)\u001b[0m\u001b[0;34m\u001b[0m\u001b[0;34m\u001b[0m\u001b[0m\n\u001b[1;32m    261\u001b[0m         \u001b[0;32mfor\u001b[0m \u001b[0mmetric_key\u001b[0m\u001b[0;34m,\u001b[0m \u001b[0mmetric_value\u001b[0m \u001b[0;32min\u001b[0m \u001b[0mmetrics\u001b[0m\u001b[0;34m.\u001b[0m\u001b[0mitems\u001b[0m\u001b[0;34m(\u001b[0m\u001b[0;34m)\u001b[0m\u001b[0;34m:\u001b[0m\u001b[0;34m\u001b[0m\u001b[0;34m\u001b[0m\u001b[0m\n",
      "\u001b[0;32m~/Desktop/EPFL/github/ml4science-polymers/mete/../models.py\u001b[0m in \u001b[0;36mtrain\u001b[0;34m(train_dataset, model, test_dataset, num_epochs, batch_size, weight_decay, lr_rate, verbose, log, *args, **kwargs)\u001b[0m\n\u001b[1;32m    160\u001b[0m     config = dict(\n\u001b[1;32m    161\u001b[0m         \u001b[0;34m**\u001b[0m\u001b[0mfull_dataset\u001b[0m\u001b[0;34m.\u001b[0m\u001b[0minfo\u001b[0m\u001b[0;34m(\u001b[0m\u001b[0;34m)\u001b[0m\u001b[0;34m,\u001b[0m\u001b[0;34m\u001b[0m\u001b[0;34m\u001b[0m\u001b[0m\n\u001b[0;32m--> 162\u001b[0;31m         \u001b[0;34m**\u001b[0m\u001b[0mmodel\u001b[0m\u001b[0;34m.\u001b[0m\u001b[0minfo\u001b[0m\u001b[0;34m(\u001b[0m\u001b[0;34m)\u001b[0m\u001b[0;34m,\u001b[0m\u001b[0;34m\u001b[0m\u001b[0;34m\u001b[0m\u001b[0m\n\u001b[0m\u001b[1;32m    163\u001b[0m         \u001b[0mnum_epochs\u001b[0m\u001b[0;34m=\u001b[0m\u001b[0mnum_epochs\u001b[0m\u001b[0;34m,\u001b[0m\u001b[0;34m\u001b[0m\u001b[0;34m\u001b[0m\u001b[0m\n\u001b[1;32m    164\u001b[0m         \u001b[0mbatch_size\u001b[0m\u001b[0;34m=\u001b[0m\u001b[0mbatch_size\u001b[0m\u001b[0;34m,\u001b[0m\u001b[0;34m\u001b[0m\u001b[0;34m\u001b[0m\u001b[0m\n",
      "\u001b[0;31mAttributeError\u001b[0m: 'functools.partial' object has no attribute 'info'"
     ]
    }
   ],
   "source": [
    "def transform_data(data_paths, num_blocks=8, *args, **kwargs):\n",
    "    pipeline = AABB245_Pipeline(num_blocks=num_blocks)\n",
    "    dataset = PolymerDataset(data_paths, pipeline)\n",
    "    return dataset\n",
    "\n",
    "def build_model(dataset, *args, **kwargs):\n",
    "    return VanillaLSTM(input_dim=dataset.num_features, output_dim=dataset.num_classes)\n",
    "\n",
    "data_paths = ['../data/AA66266AA.npy', '../data/AA66466AA.npy']\n",
    "param_grid = {\n",
    "    'num_blocks': [4],\n",
    "    'lr_rate': [0.01],\n",
    "    'num_epochs': 10,\n",
    "    'verbose': False,\n",
    "    'log': False\n",
    "}\n",
    "params, metrics = grid_search_cv(data_paths=data_paths, param_grid=param_grid,\n",
    "                                 model_fn=build_model, train_fn=train, test_fn=test, transform_fn=transform_data, k_fold=2)"
   ]
  },
  {
   "cell_type": "code",
   "execution_count": null,
   "metadata": {},
   "outputs": [],
   "source": [
    "pipeline = AABB245_Pipeline(num_blocks=32)\n",
    "dataset = PolymerDataset(['../data/AA66266AA.npy', '../data/AA66566AA.npy'], pipeline)"
   ]
  },
  {
   "cell_type": "code",
   "execution_count": null,
   "metadata": {},
   "outputs": [],
   "source": [
    "dataset.data.shape, dataset.labels.shape"
   ]
  },
  {
   "cell_type": "code",
   "execution_count": null,
   "metadata": {},
   "outputs": [],
   "source": [
    "train_data, test_data = train_test_split(dataset)"
   ]
  },
  {
   "cell_type": "code",
   "execution_count": null,
   "metadata": {},
   "outputs": [],
   "source": [
    "model = VanillaLSTM(input_dim=dataset.num_features, output_dim=dataset.num_classes)"
   ]
  },
  {
   "cell_type": "code",
   "execution_count": null,
   "metadata": {},
   "outputs": [],
   "source": [
    "model, metrics = train(train_dataset=train_data, test_dataset=test_data, model=model, batch_size=512, num_epochs=100, lr_rate=0.01)"
   ]
  },
  {
   "cell_type": "code",
   "execution_count": null,
   "metadata": {},
   "outputs": [],
   "source": [
    "param_grid = {\n",
    "    'data_paths': [['../data/AA66266AA.npy', '../data/AA66466AA.npy'],\n",
    "                   ['../data/AA66266AA.npy', '../data/AA66566AA.npy'],\n",
    "                   ['../data/AA66466AA.npy', '../data/AA66566AA.npy'],\n",
    "                   ['../data/AA66266AA.npy', '../data/AA66466AA.npy', '../data/AA66566AA.npy']],\n",
    "    'num_blocks': [4, 8, 16, 32, 64, 128],\n",
    "    'lr_rate': [0.001, 0.01],\n",
    "    'num_epochs': [100, 200]\n",
    "}\n",
    "\n",
    "run_245(param_grid)\n",
    "\n"
   ]
  },
  {
   "cell_type": "code",
   "execution_count": null,
   "metadata": {},
   "outputs": [],
   "source": [
    "param_grid = {\n",
    "    'data_paths': [['../data/AA66266AA.npy', '../data/AA66566AA.npy']],\n",
    "    'num_blocks': [16, 32, 64, 128],\n",
    "    'lr_rate': [0.001, 0.01],\n",
    "    'num_epochs': [100, 200]\n",
    "}\n",
    "\n",
    "run_245(param_grid)"
   ]
  },
  {
   "cell_type": "code",
   "execution_count": null,
   "metadata": {},
   "outputs": [],
   "source": [
    "param_grid = {\n",
    "    'data_paths': [['../data/AA66466AA.npy', '../data/AA66566AA.npy'],\n",
    "                   ['../data/AA66266AA.npy', '../data/AA66466AA.npy', '../data/AA66566AA.npy']],\n",
    "    'num_blocks': [4, 8, 16, 32, 64, 128],\n",
    "    'lr_rate': [0.001, 0.01],\n",
    "    'num_epochs': [100, 200]\n",
    "}\n",
    "\n",
    "run_245(param_grid)"
   ]
  }
 ],
 "metadata": {
  "interpreter": {
   "hash": "34e9dc8c9cd4c2e3341692c7f5472da17e27c062a0f2ac63648b60e63867ef4a"
  },
  "kernelspec": {
   "display_name": "Python 3.9.7 64-bit ('ml': conda)",
   "language": "python",
   "name": "python3"
  },
  "language_info": {
   "codemirror_mode": {
    "name": "ipython",
    "version": 3
   },
   "file_extension": ".py",
   "mimetype": "text/x-python",
   "name": "python",
   "nbconvert_exporter": "python",
   "pygments_lexer": "ipython3",
   "version": "3.9.7"
  },
  "orig_nbformat": 4
 },
 "nbformat": 4,
 "nbformat_minor": 2
}
