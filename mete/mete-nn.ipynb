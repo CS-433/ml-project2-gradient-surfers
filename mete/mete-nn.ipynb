{
 "cells": [
  {
   "cell_type": "code",
   "execution_count": 4,
   "metadata": {},
   "outputs": [
    {
     "name": "stdout",
     "output_type": "stream",
     "text": [
      "The autoreload extension is already loaded. To reload it, use:\n",
      "  %reload_ext autoreload\n"
     ]
    }
   ],
   "source": [
    "%load_ext autoreload\n",
    "%autoreload 2\n",
    "import numpy as np\n",
    "import sys\n",
    "sys.path.append('..')\n",
    "from pipeline import *\n",
    "from models import *"
   ]
  },
  {
   "cell_type": "code",
   "execution_count": 5,
   "metadata": {},
   "outputs": [
    {
     "name": "stdout",
     "output_type": "stream",
     "text": [
      "env: \"WANDB_NOTEBOOK_NAME\"=\"mete-nn.ipynb\"\n"
     ]
    }
   ],
   "source": [
    "%env \"WANDB_NOTEBOOK_NAME\" \"mete-nn.ipynb\""
   ]
  },
  {
   "cell_type": "code",
   "execution_count": 6,
   "metadata": {},
   "outputs": [
    {
     "name": "stderr",
     "output_type": "stream",
     "text": [
      "Processing ../data/AA66266AA.npy: 100%|██████████| 20085/20085 [01:14<00:00, 271.27it/s]\n",
      "Processing ../data/AA66466AA.npy: 100%|██████████| 20752/20752 [01:59<00:00, 173.55it/s]\n"
     ]
    }
   ],
   "source": [
    "pipeline = AABB245_Pipeline(num_blocks=8, extrema_th=8)\n",
    "dataset_24 = PolymerDataset(['../data/AA66266AA.npy', '../data/AA66466AA.npy'], pipeline)"
   ]
  },
  {
   "cell_type": "code",
   "execution_count": 7,
   "metadata": {},
   "outputs": [
    {
     "data": {
      "text/plain": [
       "(torch.Size([40837, 8, 19]), torch.Size([40837]))"
      ]
     },
     "execution_count": 7,
     "metadata": {},
     "output_type": "execute_result"
    }
   ],
   "source": [
    "dataset_24.data.shape, dataset_24.labels.shape"
   ]
  },
  {
   "cell_type": "code",
   "execution_count": 8,
   "metadata": {},
   "outputs": [],
   "source": [
    "train_data_24, test_data_24 = train_test_split(dataset_24)"
   ]
  },
  {
   "cell_type": "code",
   "execution_count": 9,
   "metadata": {},
   "outputs": [],
   "source": [
    "model_24 = MultiOutputLSTM(input_dim=dataset_24.num_features, output_dim=dataset_24.num_classes, num_blocks=dataset_24.num_blocks)"
   ]
  },
  {
   "cell_type": "code",
   "execution_count": 10,
   "metadata": {},
   "outputs": [
    {
     "name": "stderr",
     "output_type": "stream",
     "text": [
      "Failed to detect the name of this notebook, you can set it manually with the WANDB_NOTEBOOK_NAME environment variable to enable code saving.\n",
      "\u001b[34m\u001b[1mwandb\u001b[0m: Currently logged in as: \u001b[33mmismayil\u001b[0m (use `wandb login --relogin` to force relogin)\n"
     ]
    },
    {
     "data": {
      "text/html": [
       "\n",
       "                    Syncing run <strong><a href=\"https://wandb.ai/mismayil/ml4science-polymers/runs/yznovutb\" target=\"_blank\">cool-aardvark-2</a></strong> to <a href=\"https://wandb.ai/mismayil/ml4science-polymers\" target=\"_blank\">Weights & Biases</a> (<a href=\"https://docs.wandb.com/integrations/jupyter.html\" target=\"_blank\">docs</a>).<br/>\n",
       "\n",
       "                "
      ],
      "text/plain": [
       "<IPython.core.display.HTML object>"
      ]
     },
     "metadata": {},
     "output_type": "display_data"
    },
    {
     "name": "stdout",
     "output_type": "stream",
     "text": [
      "epoch=0/100, loss=0.6764074340462685, accuracy=59.62350845336914\n",
      "epoch=1/100, loss=0.6192255327478051, accuracy=66.80440521240234\n",
      "epoch=2/100, loss=0.5654871677979827, accuracy=72.36302185058594\n",
      "epoch=3/100, loss=0.532415000256151, accuracy=75.2586441040039\n",
      "epoch=4/100, loss=0.5085938037373126, accuracy=76.88399505615234\n",
      "epoch=5/100, loss=0.49382772156968713, accuracy=77.65228271484375\n",
      "epoch=6/100, loss=0.48406263208016753, accuracy=78.05632019042969\n",
      "epoch=7/100, loss=0.47706004884094, accuracy=78.35016632080078\n",
      "epoch=8/100, loss=0.4715539109893143, accuracy=78.60728454589844\n",
      "epoch=9/100, loss=0.46649290062487125, accuracy=78.8980712890625\n",
      "epoch=10/100, loss=0.46206985227763653, accuracy=79.03887176513672\n",
      "epoch=11/100, loss=0.45810271240770817, accuracy=79.25926208496094\n",
      "epoch=12/100, loss=0.45477125933393836, accuracy=79.37251281738281\n",
      "epoch=13/100, loss=0.4504957995377481, accuracy=79.60820007324219\n",
      "epoch=14/100, loss=0.4461863008327782, accuracy=79.66329956054688\n",
      "epoch=15/100, loss=0.4391837506555021, accuracy=79.85614013671875\n",
      "epoch=16/100, loss=0.43164387019351125, accuracy=79.84083557128906\n",
      "epoch=17/100, loss=0.4253784902393818, accuracy=80.1958999633789\n",
      "epoch=18/100, loss=0.4203576138243079, accuracy=80.43464660644531\n",
      "epoch=19/100, loss=0.41743125999346375, accuracy=80.50505065917969\n",
      "epoch=20/100, loss=0.414488026406616, accuracy=80.60606384277344\n",
      "epoch=21/100, loss=0.41349799325689673, accuracy=80.55096435546875\n",
      "epoch=22/100, loss=0.4112503193318844, accuracy=80.75604248046875\n",
      "epoch=23/100, loss=0.4100633980706334, accuracy=80.75298309326172\n",
      "epoch=24/100, loss=0.40848916582763195, accuracy=80.75298309326172\n",
      "epoch=25/100, loss=0.40781210642307997, accuracy=80.76216888427734\n",
      "epoch=26/100, loss=0.4064206280745566, accuracy=80.8233871459961\n",
      "epoch=27/100, loss=0.4051329349167645, accuracy=80.8570556640625\n",
      "epoch=28/100, loss=0.404688720125705, accuracy=81.00704193115234\n",
      "epoch=29/100, loss=0.4034807626157999, accuracy=80.93663787841797\n",
      "epoch=30/100, loss=0.40258330292999744, accuracy=81.00398254394531\n",
      "epoch=31/100, loss=0.4015699466690421, accuracy=81.12641906738281\n",
      "epoch=32/100, loss=0.4003732828423381, accuracy=81.23355102539062\n",
      "epoch=33/100, loss=0.4006080334074795, accuracy=81.09580993652344\n",
      "epoch=34/100, loss=0.3995332783088088, accuracy=81.23661041259766\n",
      "epoch=35/100, loss=0.39890058152377605, accuracy=81.34068298339844\n",
      "epoch=36/100, loss=0.39821904012933373, accuracy=81.29170227050781\n",
      "epoch=37/100, loss=0.39733520429581404, accuracy=81.46617889404297\n",
      "epoch=38/100, loss=0.39615732710808516, accuracy=81.39883422851562\n",
      "epoch=39/100, loss=0.39581031212583184, accuracy=81.43251037597656\n",
      "epoch=40/100, loss=0.39462438924238086, accuracy=81.5518798828125\n",
      "epoch=41/100, loss=0.39420196088030934, accuracy=81.57331085205078\n",
      "epoch=42/100, loss=0.3938303622417152, accuracy=81.5580062866211\n",
      "epoch=43/100, loss=0.39342448115348816, accuracy=81.60391998291016\n",
      "epoch=44/100, loss=0.39223017916083336, accuracy=81.6253433227539\n",
      "epoch=45/100, loss=0.39197233272716403, accuracy=81.71105194091797\n",
      "epoch=46/100, loss=0.39138188771903515, accuracy=81.71717071533203\n",
      "epoch=47/100, loss=0.3921081959269941, accuracy=81.714111328125\n",
      "epoch=48/100, loss=0.3908181060105562, accuracy=81.8028793334961\n",
      "epoch=49/100, loss=0.3901123432442546, accuracy=81.76614379882812\n",
      "epoch=50/100, loss=0.3902452071197331, accuracy=81.85797119140625\n",
      "epoch=51/100, loss=0.38964568823575974, accuracy=81.84879302978516\n",
      "epoch=52/100, loss=0.38858400331810117, accuracy=81.94062042236328\n",
      "epoch=53/100, loss=0.3885752819478512, accuracy=81.9100112915039\n",
      "epoch=54/100, loss=0.38791839592158794, accuracy=81.82124328613281\n",
      "epoch=55/100, loss=0.38713305350393057, accuracy=81.93143463134766\n",
      "epoch=56/100, loss=0.38804030744358897, accuracy=82.01408386230469\n",
      "epoch=57/100, loss=0.387317824177444, accuracy=82.0324478149414\n",
      "epoch=58/100, loss=0.3877670904621482, accuracy=81.90695190429688\n",
      "epoch=59/100, loss=0.38639953453093767, accuracy=82.0079574584961\n",
      "epoch=60/100, loss=0.38562822388485074, accuracy=81.98959350585938\n",
      "epoch=61/100, loss=0.38522423384711146, accuracy=82.08448028564453\n",
      "epoch=62/100, loss=0.3847451750189066, accuracy=82.0814208984375\n",
      "epoch=63/100, loss=0.38478851318359375, accuracy=81.998779296875\n",
      "epoch=64/100, loss=0.3844136125408113, accuracy=82.12427520751953\n",
      "epoch=65/100, loss=0.3836098457686603, accuracy=82.03550720214844\n",
      "epoch=66/100, loss=0.38451845198869705, accuracy=81.93756103515625\n",
      "epoch=67/100, loss=0.3840142721310258, accuracy=82.00489807128906\n",
      "epoch=68/100, loss=0.38306161668151617, accuracy=82.24365234375\n",
      "epoch=69/100, loss=0.3825930440798402, accuracy=82.21304321289062\n",
      "epoch=70/100, loss=0.3828477575443685, accuracy=82.21304321289062\n",
      "epoch=71/100, loss=0.3817773461341858, accuracy=82.26813507080078\n",
      "epoch=72/100, loss=0.3818968269042671, accuracy=82.10284423828125\n",
      "epoch=73/100, loss=0.38145916210487485, accuracy=82.22222137451172\n",
      "epoch=74/100, loss=0.3817579550668597, accuracy=82.13957977294922\n",
      "epoch=75/100, loss=0.38090299163013697, accuracy=82.20079803466797\n",
      "epoch=76/100, loss=0.38055061968043447, accuracy=82.32323455810547\n",
      "epoch=77/100, loss=0.3805312500335276, accuracy=82.34159851074219\n",
      "epoch=78/100, loss=0.38276190822944045, accuracy=82.05999755859375\n",
      "epoch=79/100, loss=0.3801913536153734, accuracy=82.33853912353516\n",
      "epoch=80/100, loss=0.3804463897831738, accuracy=82.32017517089844\n",
      "epoch=81/100, loss=0.3798519354313612, accuracy=82.1640625\n",
      "epoch=82/100, loss=0.3796937484294176, accuracy=82.32323455810547\n",
      "epoch=83/100, loss=0.38046754337847233, accuracy=82.17324829101562\n",
      "epoch=84/100, loss=0.3789607221260667, accuracy=82.25895690917969\n",
      "epoch=85/100, loss=0.3783877529203892, accuracy=82.43648529052734\n",
      "epoch=86/100, loss=0.37807787861675024, accuracy=82.2864990234375\n",
      "epoch=87/100, loss=0.37813868885859847, accuracy=82.2864990234375\n",
      "epoch=88/100, loss=0.3775711301714182, accuracy=82.44261169433594\n",
      "epoch=89/100, loss=0.3787504769861698, accuracy=82.1150894165039\n",
      "epoch=90/100, loss=0.37675117840990424, accuracy=82.43648529052734\n",
      "epoch=91/100, loss=0.3773909918963909, accuracy=82.46097564697266\n",
      "epoch=92/100, loss=0.3771280534565449, accuracy=82.34159851074219\n",
      "epoch=93/100, loss=0.377317420206964, accuracy=82.34771728515625\n",
      "epoch=94/100, loss=0.3763261130079627, accuracy=82.43342590332031\n",
      "epoch=95/100, loss=0.37587165739387274, accuracy=82.5650405883789\n",
      "epoch=96/100, loss=0.3770270901732147, accuracy=82.35384368896484\n",
      "epoch=97/100, loss=0.3753879894502461, accuracy=82.46097564697266\n",
      "epoch=98/100, loss=0.3755976501852274, accuracy=82.6201400756836\n",
      "epoch=99/100, loss=0.3748300322331488, accuracy=82.50076293945312\n",
      "test scores={'Accuracy': 0.8225786702583568, 'F1 Score': 0.8213096559378468, 'Precision': 0.8339594290007513, 'Recall': 0.8090379008746356}\n"
     ]
    },
    {
     "data": {
      "text/html": [
       "<br/>Waiting for W&B process to finish, PID 70604... <strong style=\"color:green\">(success).</strong>"
      ],
      "text/plain": [
       "<IPython.core.display.HTML object>"
      ]
     },
     "metadata": {},
     "output_type": "display_data"
    },
    {
     "data": {
      "application/vnd.jupyter.widget-view+json": {
       "model_id": "658afa2a2ac74b65bd37bde268c52620",
       "version_major": 2,
       "version_minor": 0
      },
      "text/plain": [
       "VBox(children=(Label(value=' 0.00MB of 0.00MB uploaded (0.00MB deduped)\\r'), FloatProgress(value=1.0, max=1.0)…"
      ]
     },
     "metadata": {},
     "output_type": "display_data"
    },
    {
     "data": {
      "text/html": [
       "<style>\n",
       "    table.wandb td:nth-child(1) { padding: 0 10px; text-align: right }\n",
       "    .wandb-row { display: flex; flex-direction: row; flex-wrap: wrap; width: 100% }\n",
       "    .wandb-col { display: flex; flex-direction: column; flex-basis: 100%; flex: 1; padding: 10px; }\n",
       "    </style>\n",
       "<div class=\"wandb-row\"><div class=\"wandb-col\">\n",
       "<h3>Run history:</h3><br/><table class=\"wandb\"><tr><td>test_accuracy</td><td>▁</td></tr><tr><td>test_f1 score</td><td>▁</td></tr><tr><td>test_precision</td><td>▁</td></tr><tr><td>test_recall</td><td>▁</td></tr><tr><td>train_accuracy</td><td>▁▅▇▇▇▇▇▇▇▇▇▇████████████████████████████</td></tr><tr><td>train_loss</td><td>█▅▄▃▃▃▂▂▂▂▂▂▂▂▂▁▁▁▁▁▁▁▁▁▁▁▁▁▁▁▁▁▁▁▁▁▁▁▁▁</td></tr></table><br/></div><div class=\"wandb-col\">\n",
       "<h3>Run summary:</h3><br/><table class=\"wandb\"><tr><td>test_accuracy</td><td>0.82258</td></tr><tr><td>test_f1 score</td><td>0.82131</td></tr><tr><td>test_precision</td><td>0.83396</td></tr><tr><td>test_recall</td><td>0.80904</td></tr><tr><td>train_accuracy</td><td>82.50076</td></tr><tr><td>train_loss</td><td>0.37483</td></tr></table>\n",
       "</div></div>\n",
       "Synced 6 W&B file(s), 0 media file(s), 0 artifact file(s) and 0 other file(s)\n",
       "<br/>Synced <strong style=\"color:#cdcd00\">cool-aardvark-2</strong>: <a href=\"https://wandb.ai/mismayil/ml4science-polymers/runs/yznovutb\" target=\"_blank\">https://wandb.ai/mismayil/ml4science-polymers/runs/yznovutb</a><br/>\n",
       "Find logs at: <code>./wandb/run-20211219_004655-yznovutb/logs</code><br/>\n"
      ],
      "text/plain": [
       "<IPython.core.display.HTML object>"
      ]
     },
     "metadata": {},
     "output_type": "display_data"
    },
    {
     "data": {
      "text/plain": [
       "MultiOutputLSTM(\n",
       "  (lstm): LSTM(19, 1, batch_first=True)\n",
       "  (linear1): Linear(in_features=8, out_features=64, bias=True)\n",
       "  (linear2): Linear(in_features=64, out_features=64, bias=True)\n",
       "  (linear3): Linear(in_features=64, out_features=2, bias=True)\n",
       ")"
      ]
     },
     "execution_count": 10,
     "metadata": {},
     "output_type": "execute_result"
    }
   ],
   "source": [
    "train(train_dataset=train_data_24, test_dataset=test_data_24, model=model_24, batch_size=512, num_epochs=100, lr_rate=0.001)"
   ]
  },
  {
   "cell_type": "code",
   "execution_count": null,
   "metadata": {},
   "outputs": [],
   "source": []
  }
 ],
 "metadata": {
  "interpreter": {
   "hash": "34e9dc8c9cd4c2e3341692c7f5472da17e27c062a0f2ac63648b60e63867ef4a"
  },
  "kernelspec": {
   "display_name": "Python 3.9.7 64-bit ('ml': conda)",
   "language": "python",
   "name": "python3"
  },
  "language_info": {
   "codemirror_mode": {
    "name": "ipython",
    "version": 3
   },
   "file_extension": ".py",
   "mimetype": "text/x-python",
   "name": "python",
   "nbconvert_exporter": "python",
   "pygments_lexer": "ipython3",
   "version": "3.9.7"
  },
  "orig_nbformat": 4
 },
 "nbformat": 4,
 "nbformat_minor": 2
}
