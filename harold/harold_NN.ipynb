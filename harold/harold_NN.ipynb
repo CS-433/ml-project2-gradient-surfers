{
 "cells": [
  {
   "cell_type": "code",
   "execution_count": 29,
   "metadata": {},
   "outputs": [
    {
     "name": "stdout",
     "output_type": "stream",
     "text": [
      "The autoreload extension is already loaded. To reload it, use:\n",
      "  %reload_ext autoreload\n"
     ]
    }
   ],
   "source": [
    "%load_ext autoreload\n",
    "%autoreload 2\n",
    "\n",
    "\n",
    "## classic pydata stack\n",
    "import os \n",
    "import numpy as np\n",
    "from tqdm import tqdm\n",
    "import pandas as pd\n",
    "import matplotlib.pyplot as plt\n",
    "import seaborn as sns\n",
    "import statsmodels.api as sm\n",
    "import statsmodels.formula.api as smf\n",
    "\n",
    "%matplotlib inline \n",
    "\n",
    "plt.style.use('ggplot')\n",
    "plt.rcParams['figure.figsize'] = (15,7)\n",
    "\n",
    "\n",
    "\n",
    "## torch\n",
    "import torch\n",
    "from torch.utils.data import Dataset\n",
    "import torch.nn as nn\n",
    "import torch.nn.functional as F\n",
    "import torch.optim as optim\n",
    "\n",
    "## SEEDING\n",
    "\n",
    "\n",
    "\n",
    "REBUILD_DATA = True"
   ]
  },
  {
   "cell_type": "code",
   "execution_count": 30,
   "metadata": {},
   "outputs": [],
   "source": [
    "import sys\n",
    "import vanilla_NN as NN"
   ]
  },
  {
   "cell_type": "markdown",
   "metadata": {},
   "source": [
    "## Report notes\n",
    "\n",
    "- need to filter out signals that are too long because the length distribution between the two datasets is very important\n",
    "- need to balance datasets because one dataset is much bigger than the other\n",
    "- process the data such that an RNN or any NN can process it\n",
    "- "
   ]
  },
  {
   "cell_type": "code",
   "execution_count": 32,
   "metadata": {},
   "outputs": [],
   "source": [
    "num_blocks=3\n",
    "dataset = NN.PolymerDataset(data_paths=[\"AA00400AA.npy\",\"AA66466AA.npy\"],num_blocks=num_blocks,lstm=True)\n",
    "num_features = dataset.data[0].shape[1]\n",
    "\n"
   ]
  },
  {
   "cell_type": "code",
   "execution_count": 33,
   "metadata": {},
   "outputs": [],
   "source": [
    "torch.manual_seed(12)\n",
    "from torch.utils.data import random_split\n",
    "\n",
    "train_size = int(0.8 * len(dataset))\n",
    "test_size = len(dataset) - train_size\n",
    "train_data, test_data = random_split(dataset, [train_size, test_size])\n"
   ]
  },
  {
   "cell_type": "code",
   "execution_count": 34,
   "metadata": {},
   "outputs": [
    {
     "name": "stdout",
     "output_type": "stream",
     "text": [
      "epoch=0/49, loss=0.478305846452713, accuracy=81.67174530029297\n",
      "epoch=1/49, loss=0.019303172826766968, accuracy=89.6200180053711\n",
      "epoch=2/49, loss=0.07077828794717789, accuracy=90.55562591552734\n",
      "epoch=3/49, loss=0.06077583506703377, accuracy=91.00578308105469\n",
      "epoch=4/49, loss=0.015926342457532883, accuracy=91.2838134765625\n",
      "epoch=5/49, loss=0.5224441885948181, accuracy=91.54861450195312\n",
      "epoch=6/49, loss=0.001695299637503922, accuracy=91.80458068847656\n",
      "epoch=7/49, loss=0.4605109393596649, accuracy=92.04290008544922\n",
      "epoch=8/49, loss=0.0007409860263578594, accuracy=92.15763854980469\n",
      "epoch=9/49, loss=0.3232841491699219, accuracy=92.27238464355469\n",
      "epoch=10/49, loss=0.16323672235012054, accuracy=92.47098541259766\n",
      "epoch=11/49, loss=0.16561339795589447, accuracy=92.59014129638672\n",
      "epoch=12/49, loss=0.3311363160610199, accuracy=92.6695785522461\n",
      "epoch=13/49, loss=0.3978916108608246, accuracy=92.79315185546875\n",
      "epoch=14/49, loss=0.013608536683022976, accuracy=92.8019790649414\n",
      "epoch=15/49, loss=0.08564098924398422, accuracy=92.84610748291016\n",
      "epoch=16/49, loss=0.040983304381370544, accuracy=92.90348052978516\n",
      "epoch=17/49, loss=0.0007289157365448773, accuracy=93.0138168334961\n",
      "epoch=18/49, loss=0.046891193836927414, accuracy=92.96968078613281\n",
      "epoch=19/49, loss=0.395874947309494, accuracy=92.94761657714844\n",
      "epoch=20/49, loss=0.027013331651687622, accuracy=93.08000946044922\n",
      "epoch=21/49, loss=0.0005104763549752533, accuracy=93.11090850830078\n",
      "epoch=22/49, loss=0.026398086920380592, accuracy=93.02705383300781\n",
      "epoch=23/49, loss=0.00553083373233676, accuracy=93.15062713623047\n",
      "epoch=24/49, loss=0.010618768632411957, accuracy=93.11531829833984\n",
      "epoch=25/49, loss=0.008919327519834042, accuracy=93.04911804199219\n",
      "epoch=26/49, loss=0.6239073276519775, accuracy=93.25212860107422\n",
      "epoch=27/49, loss=0.5339115858078003, accuracy=93.07559967041016\n",
      "epoch=28/49, loss=0.043203841894865036, accuracy=93.2741928100586\n",
      "epoch=29/49, loss=0.0198740866035223, accuracy=93.24330139160156\n",
      "epoch=30/49, loss=0.12732365727424622, accuracy=93.39335632324219\n",
      "epoch=31/49, loss=0.03469614312052727, accuracy=93.19475555419922\n",
      "epoch=32/49, loss=0.0027360108215361834, accuracy=93.2741928100586\n",
      "epoch=33/49, loss=0.0035547835286706686, accuracy=93.34481048583984\n",
      "epoch=34/49, loss=0.012661784887313843, accuracy=93.2741928100586\n",
      "epoch=35/49, loss=0.7256371974945068, accuracy=93.2962646484375\n",
      "epoch=36/49, loss=0.025445744395256042, accuracy=93.27861022949219\n",
      "epoch=37/49, loss=0.004912802949547768, accuracy=93.43748474121094\n",
      "epoch=38/49, loss=0.0010077519109472632, accuracy=93.28302001953125\n",
      "epoch=39/49, loss=0.5606342554092407, accuracy=93.30509185791016\n",
      "epoch=40/49, loss=0.0006118579185567796, accuracy=93.30067443847656\n",
      "epoch=41/49, loss=0.43869420886039734, accuracy=93.47720336914062\n",
      "epoch=42/49, loss=0.7049703598022461, accuracy=93.31832885742188\n",
      "epoch=43/49, loss=0.7636217474937439, accuracy=93.38011169433594\n",
      "epoch=44/49, loss=0.22814340889453888, accuracy=93.3536376953125\n",
      "epoch=45/49, loss=0.022192077711224556, accuracy=93.42424774169922\n",
      "epoch=46/49, loss=0.015763679519295692, accuracy=93.46837615966797\n",
      "epoch=47/49, loss=0.011539126746356487, accuracy=93.39335632324219\n",
      "epoch=48/49, loss=0.0002582081942819059, accuracy=93.47279357910156\n",
      "epoch=49/49, loss=0.8079372048377991, accuracy=93.40218353271484\n"
     ]
    }
   ],
   "source": [
    "model = NN.LSTM.train(dataset=train_data, num_features=num_features, num_blocks=num_blocks, hidden_dim=12, num_epochs=50, batch_size=64, lr=0.001, weight_decay=0.0001, verbose='vv')"
   ]
  },
  {
   "cell_type": "code",
   "execution_count": 35,
   "metadata": {},
   "outputs": [
    {
     "name": "stdout",
     "output_type": "stream",
     "text": [
      "Accuracy: 93.19%\n",
      "F1 Score: 93.33%\n",
      "Precision: 92.28%\n",
      "Recall: 94.41%\n"
     ]
    }
   ],
   "source": [
    "from sklearn.metrics import accuracy_score, f1_score, precision_score, recall_score,confusion_matrix\n",
    "\n",
    "from torch.utils.data import DataLoader\n",
    "\n",
    "data_loader = DataLoader(test_data, batch_size=64, shuffle=False)\n",
    "\n",
    "predictions = np.array([])\n",
    "labels = np.array([])\n",
    "\n",
    "with torch.no_grad():\n",
    "    for X, y in iter(data_loader):\n",
    "        probs = model(X)\n",
    "        preds = torch.argmax(probs, dim=1, keepdim=False)\n",
    "        predictions = np.concatenate((predictions,preds), axis=None)\n",
    "        labels= np.concatenate((labels,y),axis=None)\n",
    "\n",
    "\n",
    "accuracy = accuracy_score(labels,predictions)\n",
    "f1 = f1_score(labels,predictions)\n",
    "precision = precision_score(labels,predictions)\n",
    "recall = recall_score(labels,predictions)\n",
    "\n",
    "names =[\"Accuracy\", \"F1 Score\", \"Precision\", \"Recall\"]\n",
    "functions = [accuracy_score, f1_score, precision_score, recall_score]\n",
    "\n",
    "for name, func in zip(names,functions):\n",
    "    score = func(labels,predictions)\n",
    "    print(f\"{name}: {score*100:.2f}%\")\n",
    "\n",
    "\n"
   ]
  },
  {
   "cell_type": "markdown",
   "metadata": {},
   "source": [
    "Lists of runs:\n",
    "\n",
    "With SGD:\n",
    "\n",
    "model = NN.LSTM.train(dataset=train_data, num_features=num_features, num_blocks=num_blocks, hidden_dim=4, num_epochs=100, batch_size=64, lr=0.05, verbose='vv') \n",
    "\n",
    "92.62%\n",
    "\n",
    "model = NN.LSTM.train(dataset=train_data, num_features=num_features, num_blocks=num_blocks, hidden_dim=6, num_epochs=100, batch_size=64, lr=0.05, verbose='vv') \n",
    "\n",
    "93.318% (increasing hidden_dim from 4 to 6)\n",
    "\n",
    "\n",
    "With Adam:\n",
    "\n",
    "model = NN.LSTM.train(dataset=train_data, num_features=num_features, num_blocks=num_blocks, hidden_dim=4, num_epochs=100, batch_size=64, lr=0.05, verbose='vv') \n",
    "\n",
    "- Accuracy: 91.81%\n",
    "- F1 Score: 91.82%\n",
    "- Precision: 91.30%\n",
    "- Recall: 92.34%\n",
    "\n",
    "model = NN.LSTM.train(dataset=train_data, num_features=num_features, num_blocks=num_blocks, hidden_dim=9, num_epochs=100, batch_size=64, lr=0.001, verbose='vv')\n",
    "\n",
    "(changed hidden_dim from 4 to 6)\n",
    "\n",
    "\n",
    "- Accuracy: 92.23%\n",
    "- F1 Score: 92.35%\n",
    "- Precision: 90.53%\n",
    "- Recall: 94.25%\n",
    "\n",
    "\n",
    "model = NN.LSTM.train(dataset=train_data, num_features=num_features, num_blocks=num_blocks, hidden_dim=6, num_epochs=100, batch_size=64, lr=0.001, verbose='vv')\n",
    "\n",
    "(changed hidden_dim from 4 to 9)\n",
    "\n",
    "\n",
    "- Accuracy: 92.48%\n",
    "- F1 Score: 92.56%\n",
    "- Precision: 91.22%\n",
    "- Recall: 93.93%\n",
    "\n",
    "\n",
    "model = NN.LSTM.train(dataset=train_data, num_features=num_features, num_blocks=num_blocks, hidden_dim=12, num_epochs=300, batch_size=64, lr=0.001, verbose='vv')\n",
    "\n",
    "(changed hidden_dim from 4 to 12 and num_epochs from 100 to 300)\n",
    "\n",
    "- Accuracy: 92.16%\n",
    "- F1 Score: 92.21%\n",
    "- Precision: 91.25%\n",
    "- Recall: 93.19%\n",
    "\n",
    "\n"
   ]
  },
  {
   "cell_type": "code",
   "execution_count": null,
   "metadata": {},
   "outputs": [],
   "source": []
  }
 ],
 "metadata": {
  "interpreter": {
   "hash": "e78a7ef29a5e3028f948eff69c34ba1d8ebd35a887497a02775c6aab840f6bc2"
  },
  "kernelspec": {
   "display_name": "Python 3.8.12 64-bit ('base': conda)",
   "language": "python",
   "name": "python3"
  },
  "language_info": {
   "codemirror_mode": {
    "name": "ipython",
    "version": 3
   },
   "file_extension": ".py",
   "mimetype": "text/x-python",
   "name": "python",
   "nbconvert_exporter": "python",
   "pygments_lexer": "ipython3",
   "version": "3.8.12"
  },
  "orig_nbformat": 4
 },
 "nbformat": 4,
 "nbformat_minor": 2
}
