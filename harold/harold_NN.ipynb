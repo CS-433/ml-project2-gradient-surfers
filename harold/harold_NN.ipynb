{
 "cells": [
  {
   "cell_type": "code",
   "execution_count": 8,
   "metadata": {},
   "outputs": [
    {
     "name": "stdout",
     "output_type": "stream",
     "text": [
      "The autoreload extension is already loaded. To reload it, use:\n",
      "  %reload_ext autoreload\n"
     ]
    }
   ],
   "source": [
    "%load_ext autoreload\n",
    "%autoreload 2\n",
    "\n",
    "\n",
    "## classic pydata stack\n",
    "import os \n",
    "import numpy as np\n",
    "from tqdm import tqdm\n",
    "import pandas as pd\n",
    "import matplotlib.pyplot as plt\n",
    "import seaborn as sns\n",
    "import statsmodels.api as sm\n",
    "import statsmodels.formula.api as smf\n",
    "\n",
    "%matplotlib inline \n",
    "\n",
    "plt.style.use('ggplot')\n",
    "plt.rcParams['figure.figsize'] = (15,7)\n",
    "\n",
    "\n",
    "\n",
    "## torch\n",
    "import torch\n",
    "from torch.utils.data import Dataset\n",
    "import torch.nn as nn\n",
    "import torch.nn.functional as F\n",
    "import torch.optim as optim\n",
    "\n",
    "## SEEDING\n",
    "\n",
    "\n",
    "\n",
    "REBUILD_DATA = True"
   ]
  },
  {
   "cell_type": "code",
   "execution_count": 9,
   "metadata": {},
   "outputs": [],
   "source": [
    "import sys\n",
    "\n",
    "import vanilla_NN as NN\n",
    "\n",
    "sys.path.append('..')\n",
    "from pipeline import *\n",
    "from models import *\n"
   ]
  },
  {
   "cell_type": "code",
   "execution_count": 3,
   "metadata": {},
   "outputs": [
    {
     "name": "stderr",
     "output_type": "stream",
     "text": [
      "Processing AA00400AA.npy: 100%|██████████| 14162/14162 [00:41<00:00, 344.04it/s]\n",
      "Processing AA66466AA.npy: 100%|██████████| 14185/14185 [01:37<00:00, 145.21it/s]\n"
     ]
    }
   ],
   "source": [
    "num_blocks = 3\n",
    "pipe = AA0066_Pipeline(num_blocks=3)\n",
    "dataset = PolymerDataset(data_paths=[\"AA00400AA.npy\",\"AA66466AA.npy\"],pipeline=pipe)"
   ]
  },
  {
   "cell_type": "code",
   "execution_count": 4,
   "metadata": {},
   "outputs": [],
   "source": [
    "train_data, test_data = train_test_split(dataset)\n"
   ]
  },
  {
   "cell_type": "code",
   "execution_count": 5,
   "metadata": {},
   "outputs": [],
   "source": [
    "model = VanillaLSTM(input_dim=dataset.num_features, output_dim=dataset.num_classes)"
   ]
  },
  {
   "cell_type": "code",
   "execution_count": 6,
   "metadata": {},
   "outputs": [
    {
     "name": "stdout",
     "output_type": "stream",
     "text": [
      "epoch=0/20, loss=0.2741706689198812, accuracy=88.25733947753906\n",
      "epoch=1/20, loss=0.15626064240932463, accuracy=93.5179443359375\n",
      "epoch=2/20, loss=0.1443950868315167, accuracy=93.99858856201172\n",
      "epoch=3/20, loss=0.12777058515283796, accuracy=94.78790283203125\n",
      "epoch=4/20, loss=0.12934217817253538, accuracy=94.6556167602539\n",
      "epoch=5/20, loss=0.12374301999807358, accuracy=94.8364028930664\n",
      "epoch=6/20, loss=0.12511229945553673, accuracy=94.86727142333984\n",
      "epoch=7/20, loss=0.12219851927624809, accuracy=94.88050079345703\n",
      "epoch=8/20, loss=0.12046502182881037, accuracy=94.93782806396484\n",
      "epoch=9/20, loss=0.1193733486864302, accuracy=95.11420440673828\n",
      "epoch=10/20, loss=0.11511428455511728, accuracy=95.23767852783203\n",
      "epoch=11/20, loss=0.12255211687750286, accuracy=94.93341827392578\n",
      "epoch=12/20, loss=0.11374554948674308, accuracy=95.29940795898438\n",
      "epoch=13/20, loss=0.11606910427411397, accuracy=95.18917083740234\n",
      "epoch=14/20, loss=0.11330001817809211, accuracy=95.28617858886719\n",
      "epoch=15/20, loss=0.11380825125508838, accuracy=95.17594146728516\n",
      "epoch=16/20, loss=0.11706005020274056, accuracy=95.10979461669922\n",
      "epoch=17/20, loss=0.1141284884677993, accuracy=95.27735900878906\n",
      "epoch=18/20, loss=0.1133316288391749, accuracy=95.33027648925781\n",
      "epoch=19/20, loss=0.11013935059309006, accuracy=95.47579193115234\n"
     ]
    }
   ],
   "source": [
    "model = train(train_data, model, batch_size=512, num_epochs=20, lr_rate=0.01)"
   ]
  },
  {
   "cell_type": "code",
   "execution_count": 10,
   "metadata": {},
   "outputs": [
    {
     "name": "stdout",
     "output_type": "stream",
     "text": [
      "Accuracy: 94.99%\n",
      "F1 Score: 94.93%\n",
      "Precision: 94.63%\n",
      "Recall: 95.24%\n"
     ]
    }
   ],
   "source": [
    "test(test_data,model=model)"
   ]
  },
  {
   "cell_type": "markdown",
   "metadata": {},
   "source": [
    "Lists of runs:\n",
    "\n",
    "With SGD:\n",
    "\n",
    "model = NN.LSTM.train(dataset=train_data, num_features=num_features, num_blocks=num_blocks, hidden_dim=4, num_epochs=100, batch_size=64, lr=0.05, verbose='vv') \n",
    "\n",
    "92.62%\n",
    "\n",
    "model = NN.LSTM.train(dataset=train_data, num_features=num_features, num_blocks=num_blocks, hidden_dim=6, num_epochs=100, batch_size=64, lr=0.05, verbose='vv') \n",
    "\n",
    "93.318% (increasing hidden_dim from 4 to 6)\n",
    "\n",
    "\n",
    "With Adam:\n",
    "\n",
    "model = NN.LSTM.train(dataset=train_data, num_features=num_features, num_blocks=num_blocks, hidden_dim=4, num_epochs=100, batch_size=64, lr=0.05, verbose='vv') \n",
    "\n",
    "- Accuracy: 91.81%\n",
    "- F1 Score: 91.82%\n",
    "- Precision: 91.30%\n",
    "- Recall: 92.34%\n",
    "\n",
    "model = NN.LSTM.train(dataset=train_data, num_features=num_features, num_blocks=num_blocks, hidden_dim=9, num_epochs=100, batch_size=64, lr=0.001, verbose='vv')\n",
    "\n",
    "(changed hidden_dim from 4 to 6)\n",
    "\n",
    "\n",
    "- Accuracy: 92.23%\n",
    "- F1 Score: 92.35%\n",
    "- Precision: 90.53%\n",
    "- Recall: 94.25%\n",
    "\n",
    "\n",
    "model = NN.LSTM.train(dataset=train_data, num_features=num_features, num_blocks=num_blocks, hidden_dim=6, num_epochs=100, batch_size=64, lr=0.001, verbose='vv')\n",
    "\n",
    "(changed hidden_dim from 4 to 9)\n",
    "\n",
    "\n",
    "- Accuracy: 92.48%\n",
    "- F1 Score: 92.56%\n",
    "- Precision: 91.22%\n",
    "- Recall: 93.93%\n",
    "\n",
    "\n",
    "model = NN.LSTM.train(dataset=train_data, num_features=num_features, num_blocks=num_blocks, hidden_dim=12, num_epochs=300, batch_size=64, lr=0.001, verbose='vv')\n",
    "\n",
    "(changed hidden_dim from 4 to 12 and num_epochs from 100 to 300)\n",
    "\n",
    "- Accuracy: 92.16%\n",
    "- F1 Score: 92.21%\n",
    "- Precision: 91.25%\n",
    "- Recall: 93.19%\n",
    "\n",
    "\n"
   ]
  },
  {
   "cell_type": "code",
   "execution_count": null,
   "metadata": {},
   "outputs": [],
   "source": []
  }
 ],
 "metadata": {
  "interpreter": {
   "hash": "e78a7ef29a5e3028f948eff69c34ba1d8ebd35a887497a02775c6aab840f6bc2"
  },
  "kernelspec": {
   "display_name": "Python 3.8.12 64-bit ('base': conda)",
   "language": "python",
   "name": "python3"
  },
  "language_info": {
   "codemirror_mode": {
    "name": "ipython",
    "version": 3
   },
   "file_extension": ".py",
   "mimetype": "text/x-python",
   "name": "python",
   "nbconvert_exporter": "python",
   "pygments_lexer": "ipython3",
   "version": "3.8.12"
  },
  "orig_nbformat": 4
 },
 "nbformat": 4,
 "nbformat_minor": 2
}
