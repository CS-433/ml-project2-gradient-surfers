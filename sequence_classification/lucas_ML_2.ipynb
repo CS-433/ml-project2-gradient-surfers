{
 "cells": [
  {
   "cell_type": "code",
   "execution_count": 3,
   "metadata": {},
   "outputs": [
    {
     "name": "stdout",
     "output_type": "stream",
     "text": [
      "The autoreload extension is already loaded. To reload it, use:\n",
      "  %reload_ext autoreload\n"
     ]
    }
   ],
   "source": [
    "%load_ext autoreload\n",
    "%autoreload 2\n",
    "\n",
    "\n",
    "## classic pydata stack\n",
    "import os \n",
    "import numpy as np\n",
    "from tqdm import tqdm\n",
    "import pandas as pd\n",
    "import matplotlib.pyplot as plt\n",
    "import seaborn as sns\n",
    "import statsmodels.api as sm\n",
    "import statsmodels.formula.api as smf\n",
    "\n",
    "from sklearn.ensemble import RandomForestClassifier\n",
    "\n",
    "\n",
    "%matplotlib inline \n",
    "\n",
    "plt.style.use('ggplot')\n",
    "plt.rcParams['figure.figsize'] = (15,7)\n",
    "\n",
    "\n",
    "import sys\n",
    "\n",
    "import vanilla_NN as NN\n",
    "\n",
    "sys.path.append('..')\n",
    "from pipeline import *\n",
    "from models import *\n",
    "\n"
   ]
  },
  {
   "cell_type": "code",
   "execution_count": 4,
   "metadata": {},
   "outputs": [
    {
     "name": "stderr",
     "output_type": "stream",
     "text": [
      "Processing ../data/AA66266AA.npy: 100%|██████████| 19798/19798 [01:14<00:00, 265.79it/s]\n",
      "Processing ../data/AA662266AA.npy: 100%|██████████| 19831/19831 [01:05<00:00, 304.12it/s]\n"
     ]
    }
   ],
   "source": [
    "pipe = PairSingle_Pipeline(num_blocks=6)\n",
    "dataset_fft = PolymerDataset(data_paths=[\"../data/AA66266AA.npy\",\"../data/AA662266AA.npy\"],pipeline=pipe)"
   ]
  },
  {
   "cell_type": "code",
   "execution_count": 5,
   "metadata": {},
   "outputs": [],
   "source": [
    "train_data, test_data = train_test_split(dataset_fft)\n"
   ]
  },
  {
   "cell_type": "code",
   "execution_count": 6,
   "metadata": {},
   "outputs": [],
   "source": [
    "model = PReLULSTM(input_dim=dataset_fft.num_features, output_dim=dataset_fft.num_classes, num_layers=1, hidden_dim=64)"
   ]
  },
  {
   "cell_type": "code",
   "execution_count": 7,
   "metadata": {},
   "outputs": [
    {
     "name": "stderr",
     "output_type": "stream",
     "text": [
      "Failed to detect the name of this notebook, you can set it manually with the WANDB_NOTEBOOK_NAME environment variable to enable code saving.\n",
      "\u001b[34m\u001b[1mwandb\u001b[0m: Currently logged in as: \u001b[33mlucastrg\u001b[0m (use `wandb login --relogin` to force relogin)\n",
      "2021-12-21 18:42:25.473000: W tensorflow/stream_executor/platform/default/dso_loader.cc:64] Could not load dynamic library 'libcudart.so.11.0'; dlerror: libcudart.so.11.0: cannot open shared object file: No such file or directory\n",
      "2021-12-21 18:42:25.473030: I tensorflow/stream_executor/cuda/cudart_stub.cc:29] Ignore above cudart dlerror if you do not have a GPU set up on your machine.\n"
     ]
    },
    {
     "data": {
      "text/html": [
       "\n",
       "                    Syncing run <strong><a href=\"https://wandb.ai/lucastrg/ml4science-polymers/runs/3rzdvipo\" target=\"_blank\">sunny-shape-76</a></strong> to <a href=\"https://wandb.ai/lucastrg/ml4science-polymers\" target=\"_blank\">Weights & Biases</a> (<a href=\"https://docs.wandb.com/integrations/jupyter.html\" target=\"_blank\">docs</a>).<br/>\n",
       "\n",
       "                "
      ],
      "text/plain": [
       "<IPython.core.display.HTML object>"
      ]
     },
     "metadata": {},
     "output_type": "display_data"
    },
    {
     "name": "stdout",
     "output_type": "stream",
     "text": [
      "epoch=0/150, loss=0.569888, accuracy=81.4534\n",
      "epoch=0/150, test_accuracy=86.4732\n",
      "epoch=1/150, loss=0.283707, accuracy=87.5694\n",
      "epoch=1/150, test_accuracy=89.2744\n",
      "epoch=2/150, loss=0.233351, accuracy=89.8467\n",
      "epoch=2/150, test_accuracy=90.4227\n",
      "epoch=3/150, loss=0.208396, accuracy=91.1178\n",
      "epoch=3/150, test_accuracy=91.5836\n",
      "epoch=4/150, loss=0.188445, accuracy=92.2597\n",
      "epoch=4/150, test_accuracy=92.2776\n",
      "epoch=5/150, loss=0.173235, accuracy=92.8369\n",
      "epoch=5/150, test_accuracy=92.7823\n",
      "epoch=6/150, loss=0.163762, accuracy=93.3447\n",
      "epoch=6/150, test_accuracy=93.0599\n",
      "epoch=7/150, loss=0.156715, accuracy=93.6380\n",
      "epoch=7/150, test_accuracy=93.1735\n",
      "epoch=8/150, loss=0.151550, accuracy=93.9471\n",
      "epoch=8/150, test_accuracy=93.5899\n",
      "epoch=9/150, loss=0.147173, accuracy=94.1553\n",
      "epoch=9/150, test_accuracy=93.8423\n",
      "epoch=10/150, loss=0.144649, accuracy=94.2058\n",
      "epoch=10/150, test_accuracy=93.9180\n",
      "epoch=11/150, loss=0.141648, accuracy=94.3666\n",
      "epoch=11/150, test_accuracy=93.9811\n",
      "epoch=12/150, loss=0.139359, accuracy=94.5023\n",
      "epoch=12/150, test_accuracy=93.8927\n",
      "epoch=13/150, loss=0.138199, accuracy=94.5464\n",
      "epoch=13/150, test_accuracy=94.0189\n",
      "epoch=14/150, loss=0.137863, accuracy=94.5654\n",
      "epoch=14/150, test_accuracy=94.3218\n",
      "epoch=15/150, loss=0.134401, accuracy=94.6064\n",
      "epoch=15/150, test_accuracy=94.0442\n",
      "epoch=16/150, loss=0.133484, accuracy=94.6663\n",
      "epoch=16/150, test_accuracy=94.2082\n",
      "epoch=17/150, loss=0.132123, accuracy=94.8019\n",
      "epoch=17/150, test_accuracy=94.3344\n",
      "epoch=18/150, loss=0.130909, accuracy=94.7956\n",
      "epoch=18/150, test_accuracy=94.2082\n",
      "epoch=19/150, loss=0.131029, accuracy=94.8303\n",
      "epoch=19/150, test_accuracy=94.2082\n",
      "epoch=20/150, loss=0.129626, accuracy=94.8366\n",
      "epoch=20/150, test_accuracy=94.6751\n",
      "epoch=21/150, loss=0.127628, accuracy=94.9565\n",
      "epoch=21/150, test_accuracy=94.4732\n",
      "epoch=22/150, loss=0.128414, accuracy=94.8745\n",
      "epoch=22/150, test_accuracy=94.5868\n",
      "epoch=23/150, loss=0.126492, accuracy=94.9943\n",
      "epoch=23/150, test_accuracy=94.2082\n",
      "epoch=24/150, loss=0.126941, accuracy=94.9596\n",
      "epoch=24/150, test_accuracy=94.5615\n",
      "epoch=25/150, loss=0.126860, accuracy=94.9407\n",
      "epoch=25/150, test_accuracy=94.5615\n",
      "epoch=26/150, loss=0.124313, accuracy=95.0763\n",
      "epoch=26/150, test_accuracy=94.8013\n",
      "epoch=27/150, loss=0.123751, accuracy=95.0196\n",
      "epoch=27/150, test_accuracy=94.6625\n",
      "epoch=28/150, loss=0.124207, accuracy=95.1047\n",
      "epoch=28/150, test_accuracy=94.5363\n",
      "epoch=29/150, loss=0.124087, accuracy=95.0826\n",
      "epoch=29/150, test_accuracy=94.5237\n",
      "epoch=30/150, loss=0.122412, accuracy=95.1142\n",
      "epoch=30/150, test_accuracy=94.4858\n",
      "epoch=31/150, loss=0.122961, accuracy=95.1079\n",
      "epoch=31/150, test_accuracy=94.5489\n",
      "epoch=32/150, loss=0.122498, accuracy=95.1331\n",
      "epoch=32/150, test_accuracy=94.4353\n",
      "epoch=33/150, loss=0.122989, accuracy=95.0353\n",
      "epoch=33/150, test_accuracy=94.6751\n",
      "epoch=34/150, loss=0.122020, accuracy=95.1079\n",
      "epoch=34/150, test_accuracy=94.6751\n",
      "epoch=35/150, loss=0.122034, accuracy=95.0574\n",
      "epoch=35/150, test_accuracy=94.6751\n",
      "epoch=36/150, loss=0.121228, accuracy=95.2183\n",
      "epoch=36/150, test_accuracy=94.4479\n",
      "epoch=37/150, loss=0.121880, accuracy=95.2183\n",
      "epoch=37/150, test_accuracy=94.6625\n",
      "epoch=38/150, loss=0.120657, accuracy=95.2246\n",
      "epoch=38/150, test_accuracy=94.8013\n",
      "epoch=39/150, loss=0.120282, accuracy=95.1236\n",
      "epoch=39/150, test_accuracy=94.6120\n",
      "epoch=40/150, loss=0.121285, accuracy=95.1110\n",
      "epoch=40/150, test_accuracy=94.8013\n",
      "epoch=41/150, loss=0.118943, accuracy=95.3034\n",
      "epoch=41/150, test_accuracy=94.7382\n",
      "epoch=42/150, loss=0.119143, accuracy=95.2467\n",
      "epoch=42/150, test_accuracy=94.7886\n",
      "epoch=43/150, loss=0.118147, accuracy=95.4075\n",
      "epoch=43/150, test_accuracy=94.7634\n",
      "epoch=44/150, loss=0.118713, accuracy=95.2435\n",
      "epoch=44/150, test_accuracy=95.0032\n",
      "epoch=45/150, loss=0.118246, accuracy=95.2877\n",
      "epoch=45/150, test_accuracy=94.8013\n",
      "epoch=46/150, loss=0.118134, accuracy=95.3634\n",
      "epoch=46/150, test_accuracy=94.7129\n",
      "epoch=47/150, loss=0.117082, accuracy=95.4391\n",
      "epoch=47/150, test_accuracy=94.5741\n",
      "epoch=48/150, loss=0.117142, accuracy=95.3602\n",
      "epoch=48/150, test_accuracy=94.7003\n",
      "epoch=49/150, loss=0.116675, accuracy=95.3854\n",
      "epoch=49/150, test_accuracy=94.8896\n",
      "epoch=50/150, loss=0.117166, accuracy=95.3728\n",
      "epoch=50/150, test_accuracy=94.8265\n",
      "epoch=51/150, loss=0.117823, accuracy=95.3413\n",
      "epoch=51/150, test_accuracy=94.8013\n",
      "epoch=52/150, loss=0.116105, accuracy=95.3602\n",
      "epoch=52/150, test_accuracy=94.9653\n",
      "epoch=53/150, loss=0.116562, accuracy=95.4296\n",
      "epoch=53/150, test_accuracy=94.7382\n",
      "epoch=54/150, loss=0.116137, accuracy=95.3760\n",
      "epoch=54/150, test_accuracy=94.5994\n",
      "epoch=55/150, loss=0.115750, accuracy=95.3823\n",
      "epoch=55/150, test_accuracy=94.8139\n",
      "epoch=56/150, loss=0.119363, accuracy=95.2057\n",
      "epoch=56/150, test_accuracy=94.7634\n",
      "epoch=57/150, loss=0.115938, accuracy=95.4170\n",
      "epoch=57/150, test_accuracy=94.7760\n",
      "epoch=58/150, loss=0.115269, accuracy=95.4044\n",
      "epoch=58/150, test_accuracy=94.9022\n",
      "epoch=59/150, loss=0.114748, accuracy=95.4264\n",
      "epoch=59/150, test_accuracy=94.8770\n",
      "epoch=60/150, loss=0.113852, accuracy=95.5715\n",
      "epoch=60/150, test_accuracy=94.8391\n",
      "epoch=61/150, loss=0.114677, accuracy=95.4580\n",
      "epoch=61/150, test_accuracy=94.9022\n",
      "epoch=62/150, loss=0.114101, accuracy=95.4485\n",
      "epoch=62/150, test_accuracy=94.8265\n",
      "epoch=63/150, loss=0.114418, accuracy=95.5368\n",
      "epoch=63/150, test_accuracy=94.8013\n",
      "epoch=64/150, loss=0.114798, accuracy=95.4138\n",
      "epoch=64/150, test_accuracy=95.0032\n",
      "epoch=65/150, loss=0.113768, accuracy=95.4832\n",
      "epoch=65/150, test_accuracy=95.0789\n",
      "epoch=66/150, loss=0.112973, accuracy=95.5715\n",
      "epoch=66/150, test_accuracy=94.6372\n",
      "epoch=67/150, loss=0.114435, accuracy=95.4738\n",
      "epoch=67/150, test_accuracy=94.7634\n",
      "epoch=68/150, loss=0.114538, accuracy=95.4138\n",
      "epoch=68/150, test_accuracy=94.7886\n",
      "epoch=69/150, loss=0.114099, accuracy=95.4738\n",
      "epoch=69/150, test_accuracy=94.9527\n",
      "epoch=70/150, loss=0.112090, accuracy=95.6283\n",
      "epoch=70/150, test_accuracy=94.8013\n",
      "epoch=71/150, loss=0.113404, accuracy=95.4611\n",
      "epoch=71/150, test_accuracy=94.7760\n",
      "epoch=72/150, loss=0.113506, accuracy=95.5179\n",
      "epoch=72/150, test_accuracy=95.0662\n",
      "epoch=73/150, loss=0.114274, accuracy=95.4548\n",
      "epoch=73/150, test_accuracy=95.1798\n",
      "epoch=74/150, loss=0.113708, accuracy=95.4738\n",
      "epoch=74/150, test_accuracy=94.9653\n",
      "epoch=75/150, loss=0.112214, accuracy=95.6472\n",
      "epoch=75/150, test_accuracy=94.8644\n",
      "epoch=76/150, loss=0.112834, accuracy=95.5432\n",
      "epoch=76/150, test_accuracy=94.9401\n",
      "epoch=77/150, loss=0.113191, accuracy=95.4769\n",
      "epoch=77/150, test_accuracy=94.8013\n",
      "epoch=78/150, loss=0.111019, accuracy=95.5999\n",
      "epoch=78/150, test_accuracy=95.0158\n",
      "epoch=79/150, loss=0.113718, accuracy=95.4517\n",
      "epoch=79/150, test_accuracy=94.8896\n",
      "epoch=80/150, loss=0.111937, accuracy=95.5463\n",
      "epoch=80/150, test_accuracy=95.0536\n",
      "epoch=81/150, loss=0.111985, accuracy=95.5021\n",
      "epoch=81/150, test_accuracy=94.9779\n",
      "epoch=82/150, loss=0.111047, accuracy=95.6409\n",
      "epoch=82/150, test_accuracy=95.1420\n",
      "epoch=83/150, loss=0.111698, accuracy=95.5337\n",
      "epoch=83/150, test_accuracy=94.9527\n",
      "epoch=84/150, loss=0.112093, accuracy=95.5873\n",
      "epoch=84/150, test_accuracy=95.0032\n",
      "epoch=85/150, loss=0.111516, accuracy=95.6315\n",
      "epoch=85/150, test_accuracy=94.9527\n",
      "epoch=86/150, loss=0.111304, accuracy=95.6062\n",
      "epoch=86/150, test_accuracy=95.0284\n",
      "epoch=87/150, loss=0.110592, accuracy=95.5842\n",
      "epoch=87/150, test_accuracy=95.0662\n",
      "epoch=88/150, loss=0.110107, accuracy=95.6977\n",
      "epoch=88/150, test_accuracy=95.0032\n",
      "epoch=89/150, loss=0.109140, accuracy=95.6725\n",
      "epoch=89/150, test_accuracy=95.1672\n",
      "epoch=90/150, loss=0.110418, accuracy=95.6756\n",
      "epoch=90/150, test_accuracy=95.0284\n",
      "epoch=91/150, loss=0.109739, accuracy=95.6630\n",
      "epoch=91/150, test_accuracy=95.0789\n",
      "epoch=92/150, loss=0.110521, accuracy=95.6220\n",
      "epoch=92/150, test_accuracy=95.0662\n",
      "epoch=93/150, loss=0.110128, accuracy=95.6945\n",
      "epoch=93/150, test_accuracy=95.0284\n",
      "epoch=94/150, loss=0.110119, accuracy=95.6504\n",
      "epoch=94/150, test_accuracy=94.7508\n",
      "epoch=95/150, loss=0.109255, accuracy=95.7702\n",
      "epoch=95/150, test_accuracy=95.1924\n",
      "epoch=96/150, loss=0.109639, accuracy=95.6756\n",
      "epoch=96/150, test_accuracy=95.0662\n",
      "epoch=97/150, loss=0.109919, accuracy=95.7198\n",
      "epoch=97/150, test_accuracy=94.7129\n",
      "epoch=98/150, loss=0.110783, accuracy=95.6662\n",
      "epoch=98/150, test_accuracy=95.0662\n",
      "epoch=99/150, loss=0.110085, accuracy=95.6630\n",
      "epoch=99/150, test_accuracy=95.0536\n",
      "epoch=100/150, loss=0.110387, accuracy=95.6630\n",
      "epoch=100/150, test_accuracy=95.1293\n",
      "epoch=101/150, loss=0.109305, accuracy=95.6662\n",
      "epoch=101/150, test_accuracy=94.8391\n",
      "epoch=102/150, loss=0.109428, accuracy=95.7166\n",
      "epoch=102/150, test_accuracy=95.1041\n",
      "epoch=103/150, loss=0.109430, accuracy=95.7103\n",
      "epoch=103/150, test_accuracy=95.0662\n",
      "epoch=104/150, loss=0.109498, accuracy=95.7419\n",
      "epoch=104/150, test_accuracy=95.1293\n",
      "epoch=105/150, loss=0.109053, accuracy=95.7072\n",
      "epoch=105/150, test_accuracy=95.0284\n",
      "epoch=106/150, loss=0.108253, accuracy=95.8113\n",
      "epoch=106/150, test_accuracy=95.1420\n",
      "epoch=107/150, loss=0.108883, accuracy=95.7229\n",
      "epoch=107/150, test_accuracy=95.0789\n",
      "epoch=108/150, loss=0.107357, accuracy=95.8113\n",
      "epoch=108/150, test_accuracy=95.0536\n",
      "epoch=109/150, loss=0.109424, accuracy=95.7135\n",
      "epoch=109/150, test_accuracy=95.1167\n",
      "epoch=110/150, loss=0.108051, accuracy=95.7482\n",
      "epoch=110/150, test_accuracy=95.0915\n",
      "epoch=111/150, loss=0.110059, accuracy=95.6535\n",
      "epoch=111/150, test_accuracy=95.1041\n",
      "epoch=112/150, loss=0.108102, accuracy=95.7513\n",
      "epoch=112/150, test_accuracy=95.0662\n",
      "epoch=113/150, loss=0.109268, accuracy=95.7072\n",
      "epoch=113/150, test_accuracy=95.1672\n",
      "epoch=114/150, loss=0.108529, accuracy=95.7198\n",
      "epoch=114/150, test_accuracy=94.9401\n",
      "epoch=115/150, loss=0.109919, accuracy=95.6914\n",
      "epoch=115/150, test_accuracy=95.0662\n",
      "epoch=116/150, loss=0.107814, accuracy=95.7576\n",
      "epoch=116/150, test_accuracy=94.9779\n",
      "epoch=117/150, loss=0.107276, accuracy=95.7986\n",
      "epoch=117/150, test_accuracy=94.9527\n",
      "epoch=118/150, loss=0.108087, accuracy=95.7576\n",
      "epoch=118/150, test_accuracy=94.9779\n",
      "epoch=119/150, loss=0.109686, accuracy=95.7545\n",
      "epoch=119/150, test_accuracy=95.0158\n",
      "epoch=120/150, loss=0.107152, accuracy=95.7829\n",
      "epoch=120/150, test_accuracy=95.1167\n",
      "epoch=121/150, loss=0.106842, accuracy=95.8586\n",
      "epoch=121/150, test_accuracy=95.0158\n",
      "epoch=122/150, loss=0.108812, accuracy=95.6662\n",
      "epoch=122/150, test_accuracy=95.0284\n",
      "epoch=123/150, loss=0.106973, accuracy=95.8428\n",
      "epoch=123/150, test_accuracy=95.1798\n",
      "epoch=124/150, loss=0.106832, accuracy=95.7829\n",
      "epoch=124/150, test_accuracy=95.0158\n",
      "epoch=125/150, loss=0.106382, accuracy=95.8239\n",
      "epoch=125/150, test_accuracy=95.1293\n",
      "epoch=126/150, loss=0.107712, accuracy=95.8428\n",
      "epoch=126/150, test_accuracy=95.1546\n",
      "epoch=127/150, loss=0.105874, accuracy=95.7671\n",
      "epoch=127/150, test_accuracy=95.1167\n",
      "epoch=128/150, loss=0.105961, accuracy=95.8901\n",
      "epoch=128/150, test_accuracy=95.1672\n",
      "epoch=129/150, loss=0.106417, accuracy=95.8491\n",
      "epoch=129/150, test_accuracy=95.2555\n",
      "epoch=130/150, loss=0.106182, accuracy=95.8081\n",
      "epoch=130/150, test_accuracy=95.1798\n",
      "epoch=131/150, loss=0.105892, accuracy=95.9153\n",
      "epoch=131/150, test_accuracy=94.7256\n",
      "epoch=132/150, loss=0.108995, accuracy=95.7166\n",
      "epoch=132/150, test_accuracy=94.8644\n",
      "epoch=133/150, loss=0.106637, accuracy=95.7955\n",
      "epoch=133/150, test_accuracy=95.2303\n",
      "epoch=134/150, loss=0.106199, accuracy=95.8239\n",
      "epoch=134/150, test_accuracy=95.1546\n",
      "epoch=135/150, loss=0.105823, accuracy=95.8554\n",
      "epoch=135/150, test_accuracy=95.1924\n",
      "epoch=136/150, loss=0.105616, accuracy=95.8838\n",
      "epoch=136/150, test_accuracy=95.2303\n",
      "epoch=137/150, loss=0.105278, accuracy=95.9784\n",
      "epoch=137/150, test_accuracy=95.0662\n",
      "epoch=138/150, loss=0.106476, accuracy=95.8018\n",
      "epoch=138/150, test_accuracy=95.0410\n",
      "epoch=139/150, loss=0.105997, accuracy=95.8302\n",
      "epoch=139/150, test_accuracy=94.9653\n",
      "epoch=140/150, loss=0.106345, accuracy=95.8333\n",
      "epoch=140/150, test_accuracy=95.0915\n",
      "epoch=141/150, loss=0.104898, accuracy=95.9248\n",
      "epoch=141/150, test_accuracy=95.2934\n",
      "epoch=142/150, loss=0.105110, accuracy=95.8680\n",
      "epoch=142/150, test_accuracy=95.1798\n",
      "epoch=143/150, loss=0.105322, accuracy=95.9122\n",
      "epoch=143/150, test_accuracy=95.0789\n",
      "epoch=144/150, loss=0.104447, accuracy=95.9753\n",
      "epoch=144/150, test_accuracy=95.1167\n",
      "epoch=145/150, loss=0.105131, accuracy=95.8617\n",
      "epoch=145/150, test_accuracy=94.9148\n",
      "epoch=146/150, loss=0.106469, accuracy=95.8901\n",
      "epoch=146/150, test_accuracy=95.0032\n",
      "epoch=147/150, loss=0.105285, accuracy=95.8743\n",
      "epoch=147/150, test_accuracy=95.0662\n",
      "epoch=148/150, loss=0.104356, accuracy=95.9311\n",
      "epoch=148/150, test_accuracy=95.2303\n",
      "epoch=149/150, loss=0.104843, accuracy=95.9437\n",
      "epoch=149/150, test_accuracy=95.0284\n"
     ]
    },
    {
     "data": {
      "text/html": [
       "Waiting for W&B process to finish, PID 10885... <strong style=\"color:green\">(success).</strong>"
      ],
      "text/plain": [
       "<IPython.core.display.HTML object>"
      ]
     },
     "metadata": {},
     "output_type": "display_data"
    },
    {
     "data": {
      "text/html": [
       "Synced <strong style=\"color:#cdcd00\">sunny-shape-76</strong>: <a href=\"https://wandb.ai/lucastrg/ml4science-polymers/runs/3rzdvipo\" target=\"_blank\">https://wandb.ai/lucastrg/ml4science-polymers/runs/3rzdvipo</a><br/>\n"
      ],
      "text/plain": [
       "<IPython.core.display.HTML object>"
      ]
     },
     "metadata": {},
     "output_type": "display_data"
    }
   ],
   "source": [
    "model, test_metrics = train(train_data, model, batch_size=512, num_epochs=150, lr_rate=0.0005, test_dataset=test_data)"
   ]
  },
  {
   "cell_type": "code",
   "execution_count": 8,
   "metadata": {},
   "outputs": [
    {
     "data": {
      "text/plain": [
       "{'accuracy': 0.9502839116719243,\n",
       " 'f1_score': 0.9496678589678079,\n",
       " 'precision': 0.957249549317538,\n",
       " 'recall': 0.9422053231939164,\n",
       " 'confusion_matrix': array([[0.958, 0.042],\n",
       "        [0.058, 0.942]])}"
      ]
     },
     "execution_count": 8,
     "metadata": {},
     "output_type": "execute_result"
    }
   ],
   "source": [
    "test(test_data,model=model)"
   ]
  },
  {
   "cell_type": "code",
   "execution_count": 9,
   "metadata": {},
   "outputs": [],
   "source": [
    "np.save(arr=dataset_fft.labels.numpy(),file=\"backbone_bulky4_labels\")"
   ]
  },
  {
   "cell_type": "code",
   "execution_count": 10,
   "metadata": {},
   "outputs": [],
   "source": [
    "def kfold_cv_iter(y: np.ndarray, tx: np.ndarray, k: int = 5, seed: float = 1):\n",
    "    \"\"\"K-fold cross validation. Split data into k parts and iterate through the folds\n",
    "    Args:\n",
    "        y (np.ndarray): Label data\n",
    "        tx (np.ndarray): Features data\n",
    "        k (int, optional): Number of folds. Defaults to 5.\n",
    "        seed (float, optional): Seed for randomization. Defaults to 1.\n",
    "    Yields:\n",
    "        Generator: (x_train, y_train, x_test, y_test)\n",
    "    \"\"\"\n",
    "    num_row = y.shape[0]\n",
    "    fold_size = int(num_row / k)\n",
    "    np.random.seed(seed)\n",
    "    indices = np.random.permutation(num_row)\n",
    "    \n",
    "    for i in range(k):\n",
    "        test_indices = indices[i * fold_size: (i + 1) * fold_size]\n",
    "        train_indices = list(set(range(num_row)) - set(test_indices))\n",
    "        yield tx[train_indices], y[train_indices], tx[test_indices], y[test_indices]\n"
   ]
  },
  {
   "cell_type": "code",
   "execution_count": 11,
   "metadata": {},
   "outputs": [],
   "source": [
    "def train_random_forest(x,y, k=5, n_estimators = 100):\n",
    "    accuracies = []\n",
    "    importances = []\n",
    "\n",
    "    iter = kfold_cv_iter(y=y,tx=tx,k=k,seed=2)\n",
    "    for X_train, Y_train, X_test, Y_test in iter:\n",
    "        classifier = RandomForestClassifier(random_state=89,n_estimators = n_estimators )\n",
    "        classifier.fit(X_train, Y_train)\n",
    "        y_pred = classifier.predict(X_test)\n",
    "        accuracy = accuracy_score(Y_test, y_pred)\n",
    "        accuracies.append(accuracy)\n",
    "        importances.append(classifier.feature_importances_)\n",
    "\n",
    "    accuracies = np.array(accuracies)\n",
    "    importances = np.array(importances)\n",
    "    \n",
    "    return accuracies, importances, classifier"
   ]
  },
  {
   "cell_type": "code",
   "execution_count": 12,
   "metadata": {},
   "outputs": [],
   "source": [
    "y = dataset_fft.labels.numpy()\n",
    "tx = dataset_fft.data.numpy()\n",
    "tx = tx.reshape((tx.shape[0],-1))\n",
    "forest = train_random_forest(x=tx,y=y,k=5,n_estimators=100)"
   ]
  },
  {
   "cell_type": "code",
   "execution_count": 13,
   "metadata": {},
   "outputs": [
    {
     "data": {
      "text/plain": [
       "0.948340694006309"
      ]
     },
     "execution_count": 13,
     "metadata": {},
     "output_type": "execute_result"
    }
   ],
   "source": [
    "forest[0].mean()"
   ]
  },
  {
   "cell_type": "code",
   "execution_count": 14,
   "metadata": {},
   "outputs": [],
   "source": [
    "def plot_feature_importances(feature_importances, names, num_blocks,title, savepath=None):\n",
    "\n",
    "    df = pd.DataFrame()\n",
    "    df['names'] = pd.Series(names*num_blocks)\n",
    "    df['features'] = pd.Series(feature_importances)\n",
    "    df['block_number'] = pd.Series([i  for i in range(1,num_blocks+1) for j in range(len(names))]) \n",
    "\n",
    "    f,a = plt.subplots(1,1,figsize=(30,15))\n",
    "    g= sns.barplot(x='names', y='features', data=df, hue='block_number')\n",
    "    g.set_title(title)\n",
    "    g.set_xlabel(\"Feature names\")\n",
    "    g.set_ylabel(\"Feature importance\")\n",
    "\n",
    "    if savepath:\n",
    "        plt.savefig(savepath, dpi=300)"
   ]
  },
  {
   "cell_type": "code",
   "execution_count": null,
   "metadata": {},
   "outputs": [],
   "source": []
  },
  {
   "cell_type": "code",
   "execution_count": 15,
   "metadata": {},
   "outputs": [],
   "source": [
    "features = forest[1].mean(axis=0)\n"
   ]
  },
  {
   "cell_type": "code",
   "execution_count": 16,
   "metadata": {},
   "outputs": [
    {
     "ename": "AttributeError",
     "evalue": "'numpy.ndarray' object has no attribute 'unique'",
     "output_type": "error",
     "traceback": [
      "\u001b[0;31m---------------------------------------------------------------------------\u001b[0m",
      "\u001b[0;31mAttributeError\u001b[0m                            Traceback (most recent call last)",
      "\u001b[0;32m/tmp/ipykernel_10124/504733579.py\u001b[0m in \u001b[0;36m<module>\u001b[0;34m\u001b[0m\n\u001b[0;32m----> 1\u001b[0;31m \u001b[0mforest\u001b[0m\u001b[0;34m[\u001b[0m\u001b[0;36m1\u001b[0m\u001b[0;34m]\u001b[0m\u001b[0;34m.\u001b[0m\u001b[0munique\u001b[0m\u001b[0;34m\u001b[0m\u001b[0;34m\u001b[0m\u001b[0m\n\u001b[0m",
      "\u001b[0;31mAttributeError\u001b[0m: 'numpy.ndarray' object has no attribute 'unique'"
     ]
    }
   ],
   "source": [
    "forest[1].unique"
   ]
  },
  {
   "cell_type": "code",
   "execution_count": null,
   "metadata": {},
   "outputs": [],
   "source": [
    "def a():\n",
    "    return 3,4,5"
   ]
  },
  {
   "cell_type": "code",
   "execution_count": null,
   "metadata": {},
   "outputs": [
    {
     "data": {
      "text/plain": [
       "[1, 2, 3, 4, 5, 6, 7]"
      ]
     },
     "execution_count": 59,
     "metadata": {},
     "output_type": "execute_result"
    }
   ],
   "source": [
    "[1,2,*a(),6,7]"
   ]
  },
  {
   "cell_type": "code",
   "execution_count": null,
   "metadata": {},
   "outputs": [
    {
     "data": {
      "text/plain": [
       "20"
      ]
     },
     "execution_count": 15,
     "metadata": {},
     "output_type": "execute_result"
    }
   ],
   "source": [
    "dataset_fft.num_features"
   ]
  },
  {
   "cell_type": "code",
   "execution_count": null,
   "metadata": {},
   "outputs": [
    {
     "data": {
      "text/plain": [
       "20"
      ]
     },
     "execution_count": 16,
     "metadata": {},
     "output_type": "execute_result"
    }
   ],
   "source": [
    "names = [\"mean\", \"median\", \"std\", \"min\", \"max\", \"len\", \"count_extremums\", \"max_slope\", \"min_slope\",\"duration\",\"max_amp\",\"min_amp\",\n",
    "        \"mean_amp\",\n",
    "        \"std_amp\",\n",
    "        \"dwell_time\",\n",
    "        \"dwell_start\",\n",
    "        \"dwell_end\",\n",
    "        \"main_frequency\",\n",
    "        \"secondary_frequency\",\n",
    "        \"tertiary_frequency\"]\n",
    "len(names)"
   ]
  },
  {
   "cell_type": "code",
   "execution_count": null,
   "metadata": {},
   "outputs": [
    {
     "data": {
      "image/png": "[encoded data removed]",
      "text/plain": [
       "<Figure size 2160x1080 with 1 Axes>"
      ]
     },
     "metadata": {},
     "output_type": "display_data"
    }
   ],
   "source": [
    "plot_feature_importances(np.mean(forest[1], axis=0), names ,5, \"oui\") "
   ]
  },
  {
   "cell_type": "code",
   "execution_count": null,
   "metadata": {},
   "outputs": [
    {
     "ename": "AttributeError",
     "evalue": "",
     "output_type": "error",
     "traceback": [
      "\u001b[0;31m---------------------------------------------------------------------------\u001b[0m",
      "\u001b[0;31mAttributeError\u001b[0m                            Traceback (most recent call last)",
      "\u001b[0;32m/tmp/ipykernel_11435/4037995355.py\u001b[0m in \u001b[0;36m<module>\u001b[0;34m\u001b[0m\n\u001b[0;32m----> 1\u001b[0;31m \u001b[0mprint\u001b[0m\u001b[0;34m(\u001b[0m\u001b[0mdataset\u001b[0m\u001b[0;34m.\u001b[0m\u001b[0mfull_dataset\u001b[0m\u001b[0;34m.\u001b[0m\u001b[0mnumpy\u001b[0m\u001b[0;34m(\u001b[0m\u001b[0;34m)\u001b[0m\u001b[0;34m)\u001b[0m\u001b[0;34m\u001b[0m\u001b[0;34m\u001b[0m\u001b[0m\n\u001b[0m",
      "\u001b[0;32m~/FLEP/MA1/ML/ml4science-polymers/ml4science/lib/python3.9/site-packages/torch/utils/data/dataset.py\u001b[0m in \u001b[0;36m__getattr__\u001b[0;34m(self, attribute_name)\u001b[0m\n\u001b[1;32m     81\u001b[0m             \u001b[0;32mreturn\u001b[0m \u001b[0mfunction\u001b[0m\u001b[0;34m\u001b[0m\u001b[0;34m\u001b[0m\u001b[0m\n\u001b[1;32m     82\u001b[0m         \u001b[0;32melse\u001b[0m\u001b[0;34m:\u001b[0m\u001b[0;34m\u001b[0m\u001b[0;34m\u001b[0m\u001b[0m\n\u001b[0;32m---> 83\u001b[0;31m             \u001b[0;32mraise\u001b[0m \u001b[0mAttributeError\u001b[0m\u001b[0;34m\u001b[0m\u001b[0;34m\u001b[0m\u001b[0m\n\u001b[0m\u001b[1;32m     84\u001b[0m \u001b[0;34m\u001b[0m\u001b[0m\n\u001b[1;32m     85\u001b[0m     \u001b[0;34m@\u001b[0m\u001b[0mclassmethod\u001b[0m\u001b[0;34m\u001b[0m\u001b[0;34m\u001b[0m\u001b[0m\n",
      "\u001b[0;31mAttributeError\u001b[0m: "
     ]
    }
   ],
   "source": [
    "print(dataset.full_dataset.numpy())"
   ]
  },
  {
   "cell_type": "code",
   "execution_count": null,
   "metadata": {},
   "outputs": [],
   "source": [
    "for i in dataset.full_dataset\n",
    "    print(i)"
   ]
  },
  {
   "cell_type": "code",
   "execution_count": null,
   "metadata": {},
   "outputs": [],
   "source": [
    "mask = np.zeros((9), dtype=bool)\n",
    "\n",
    "mask[0] = True\n",
    "\n",
    "test = tx[:,np.logical_not(mask)]\n"
   ]
  },
  {
   "cell_type": "code",
   "execution_count": null,
   "metadata": {},
   "outputs": [],
   "source": [
    "tx[0]"
   ]
  },
  {
   "cell_type": "code",
   "execution_count": null,
   "metadata": {},
   "outputs": [],
   "source": [
    "y = np.load(\"backbone_bulky4_labels.npy\",allow_pickle=True)"
   ]
  },
  {
   "cell_type": "markdown",
   "metadata": {},
   "source": [
    "## Random forest with removing a feature"
   ]
  },
  {
   "cell_type": "code",
   "execution_count": null,
   "metadata": {},
   "outputs": [],
   "source": [
    "names=[\"mean\", \"median\", \"std\", \"min\", \"max\", \"len\", \"count_extremums\", \"max_slope\", \"min_slope\"]\n",
    "\n",
    "from sklearn.ensemble import RandomForestClassifier\n",
    "from sklearn.metrics import accuracy_score\n",
    "\n",
    "for i in range(9):\n",
    "    tx = np.load(\"backbone_bulky4_data_1.npy\",allow_pickle=True)\n",
    "    tx = tx.reshape((tx.shape[0],-1))\n",
    "    mask = np.zeros((9), dtype=bool)\n",
    "    mask[i] = True\n",
    "\n",
    "    tx =tx[:,np.logical_not(mask)]\n",
    "\n",
    "\n",
    "    iter = kfold_cv_iter(y=y,tx=tx,k=3,seed=2)\n",
    "    accuracies = []\n",
    "    for X_train, Y_train, X_test, Y_test in iter:\n",
    "        classifier = RandomForestClassifier(random_state=89,n_estimators = 100 )\n",
    "        classifier.fit(X_train, Y_train)\n",
    "        y_pred = classifier.predict(X_test)\n",
    "        accuracy = accuracy_score(Y_test, y_pred)\n",
    "        accuracies.append(accuracy)\n",
    "\n",
    "    print(names[i],\": \",np.array(accuracies).mean())\n"
   ]
  },
  {
   "cell_type": "markdown",
   "metadata": {},
   "source": [
    "## Random forest with different num_blocks"
   ]
  },
  {
   "cell_type": "code",
   "execution_count": null,
   "metadata": {},
   "outputs": [],
   "source": [
    "for i in range(1,11):\n",
    "    path = f\"backbone_bulky4_data_{i}.npy\"\n",
    "    tx = np.load(path,allow_pickle=True)\n",
    "    tx = tx.reshape((tx.shape[0],-1))\n",
    "\n",
    "    iter = kfold_cv_iter(y=y,tx=tx,k=3,seed=2)\n",
    "    accuracies = []\n",
    "    for X_train, Y_train, X_test, Y_test in iter:\n",
    "        classifier = RandomForestClassifier(random_state=89,n_estimators = 100 )\n",
    "        classifier.fit(X_train, Y_train)\n",
    "        y_pred = classifier.predict(X_test)\n",
    "        accuracy = accuracy_score(Y_test, y_pred)\n",
    "        accuracies.append(accuracy)\n",
    "\n",
    "    print(f\"num_blocks={i}\",\": \",np.array(accuracies).mean())"
   ]
  },
  {
   "cell_type": "markdown",
   "metadata": {},
   "source": [
    "### Gradient boosting classifier with removing a feature"
   ]
  },
  {
   "cell_type": "code",
   "execution_count": null,
   "metadata": {},
   "outputs": [],
   "source": [
    "from sklearn.ensemble import GradientBoostingClassifier\n",
    "\n",
    "names=[\"mean\", \"median\", \"std\", \"min\", \"max\", \"len\", \"count_extremums\", \"max_slope\", \"min_slope\"]\n",
    "from sklearn.metrics import accuracy_score\n",
    "\n",
    "for i in range(9):\n",
    "    tx = np.load(\"backbone_bulky4_data_1.npy\",allow_pickle=True)\n",
    "    tx = tx.reshape((tx.shape[0],-1))\n",
    "    mask = np.zeros((9), dtype=bool)\n",
    "    mask[i] = True\n",
    "\n",
    "    tx =tx[:,np.logical_not(mask)]\n",
    "\n",
    "\n",
    "    iter = kfold_cv_iter(y=y,tx=tx,k=3,seed=2)\n",
    "    accuracies = []\n",
    "    for X_train, Y_train, X_test, Y_test in iter:\n",
    "        classifier =GradientBoostingClassifier(random_state=89,n_estimators = 100 )\n",
    "        classifier.fit(X_train, Y_train)\n",
    "        y_pred = classifier.predict(X_test)\n",
    "        accuracy = accuracy_score(Y_test, y_pred)\n",
    "        accuracies.append(accuracy)\n",
    "\n",
    "    print(names[i],\": \",np.array(accuracies).mean())\n"
   ]
  },
  {
   "cell_type": "markdown",
   "metadata": {},
   "source": [
    " ## Gradient boosting classifier with different num_blocks"
   ]
  },
  {
   "cell_type": "code",
   "execution_count": null,
   "metadata": {},
   "outputs": [],
   "source": [
    "for i in range(1,11):\n",
    "    path = f\"backbone_bulky4_data_{i}.npy\"\n",
    "    tx = np.load(path,allow_pickle=True)\n",
    "    tx = tx.reshape((tx.shape[0],-1))\n",
    "\n",
    "    iter = kfold_cv_iter(y=y,tx=tx,k=3,seed=2)\n",
    "    accuracies = []\n",
    "    for X_train, Y_train, X_test, Y_test in iter:\n",
    "        classifier = GradientBoostingClassifier(random_state=89,n_estimators = 100 )\n",
    "        classifier.fit(X_train, Y_train)\n",
    "        y_pred = classifier.predict(X_test)\n",
    "        accuracy = accuracy_score(Y_test, y_pred)\n",
    "        accuracies.append(accuracy)\n",
    "\n",
    "    print(f\"num_blocks={i}\",\": \",np.array(accuracies).mean())"
   ]
  },
  {
   "cell_type": "code",
   "execution_count": null,
   "metadata": {},
   "outputs": [],
   "source": [
    "class PaddedDataset():\n",
    "\n",
    "    def __init__(self, data_paths,seed=10):\n",
    "        self.process(data_paths,seed)\n",
    "\n",
    "\n",
    "    def process(self,data_paths,seed):\n",
    "\n",
    "        raw_data = [np.load(data_path, allow_pickle=True) for data_path in data_paths]\n",
    "        labels = [0,1]\n",
    "\n",
    "    ## balance the dataset by removing signals that are too short or too long\n",
    "    ## first we build the dataframe to know the lengths of the time series\n",
    "\n",
    "        len_series = []\n",
    "\n",
    "        for data in raw_data:\n",
    "            lengths= []\n",
    "            for row in data:\n",
    "                ## length of time series\n",
    "                lengths.append(row.shape[0])\n",
    "\n",
    "            len_series.append(pd.Series(lengths))\n",
    "\n",
    "        ## enforces that the first dataset is the smaller one in total size\n",
    "        ## such that we can apply our balancing operations generally\n",
    "        if len(len_series[0]) > len(len_series[1]):\n",
    "            len_series.reverse()\n",
    "            raw_data.reverse()\n",
    "            labels.reverse()\n",
    "\n",
    "        ## filter the dataset and remove signals that are:\n",
    "        ## too short i.e. < len_series[0].quantile(0.1)\n",
    "        ## too long i.e. > len_series[0].quantile(0.9)\n",
    "        for i in range(2):\n",
    "            mask = (len_series[i] > max(len_series[0].quantile(0.1),num_blocks)) & (len_series[i] < len_series[0].quantile(0.5))\n",
    "            raw_data[i] = raw_data[i][mask]\n",
    "\n",
    "        ## most likely, one dataset is still bigger than the other one\n",
    "        ## therefore, we randomly sample data from the bigger dataset to create a new dataset of the same size as the small one \n",
    "        np.random.seed(seed=seed)\n",
    "\n",
    "        # making sure the smallest dataset is the first one\n",
    "        if len(raw_data[0]) > len(raw_data[1]):\n",
    "            raw_data.reverse()\n",
    "            labels.reverse()\n",
    "\n",
    "        # randomly sampling and making a balanced dataset\n",
    "        raw_data[1]  = np.random.permutation(raw_data[1])[:len(raw_data[0])]\n",
    "        data=[]\n",
    "        data_labels=[]\n",
    "        \n",
    "        max_length = max(len_series[0].max(), len_series[1].max())\n",
    "        print(\"Max length\",max_length)\n",
    "\n",
    "        ## using our Input class to build the entire dataset and extracting features from each row\n",
    "        for index, raw_data in enumerate(raw_data):\n",
    "            for raw_series in raw_data:\n",
    "                padded_series = self.pad(raw_series,max_length)\n",
    "                data.append(padded_series)\n",
    "                data_labels.append(labels[index])\n",
    "        data = np.array(data)\n",
    "\n",
    "        #normalizing features\n",
    "        data = (data - data.mean(axis=0)) / data.std(axis=0)\n",
    "        data_labels = np.array(data_labels)\n",
    "\n",
    "        self.data = data\n",
    "        self.labels = data_labels\n",
    "\n",
    "        return self\n",
    "\n",
    "    \n",
    "    def pad(self,raw_series, max_length):\n",
    "\n",
    "        l = max_length - raw_series.shape[0]\n",
    "        x=raw_series[:,0]\n",
    "        y= raw_series[:,1]\n",
    "\n",
    "        if l > 0:\n",
    "            res1 = np.concatenate((x, np.linspace(start= x[-1] + 0.01, stop= x[-1] + l*0.01 , num=l)),axis=None)\n",
    "            res2 = np.concatenate((y, np.zeros(l)),axis=None)\n",
    "\n",
    "        res = np.vstack((res1,res2)).T\n",
    "\n",
    "        return res\n",
    "        "
   ]
  },
  {
   "cell_type": "code",
   "execution_count": null,
   "metadata": {},
   "outputs": [],
   "source": [
    "dataset = PaddedDataset(data_paths=[\"AA00400AA.npy\",\"AA66466AA.npy\"])"
   ]
  },
  {
   "cell_type": "code",
   "execution_count": null,
   "metadata": {},
   "outputs": [],
   "source": [
    "from sktime.classification.interval_based import TimeSeriesForestClassifier\n",
    "from sktime.datasets import load_arrow_head\n",
    "from sklearn.model_selection import train_test_split\n",
    "from sklearn.metrics import accuracy_score\n",
    "\n",
    "X, y = dataset.data, dataset.labels\n",
    "X_train, X_test, y_train, y_test = train_test_split(X, y)\n",
    "classifier = TimeSeriesForestClassifier()\n",
    "classifier.fit(X_train, y_train)\n",
    "y_pred = classifier.predict(X_test)\n",
    "accuracy_score(y_test, y_pred)"
   ]
  },
  {
   "cell_type": "code",
   "execution_count": null,
   "metadata": {},
   "outputs": [],
   "source": [
    "dataset.data[1]"
   ]
  }
 ],
 "metadata": {
  "interpreter": {
   "hash": "e78a7ef29a5e3028f948eff69c34ba1d8ebd35a887497a02775c6aab840f6bc2"
  },
  "kernelspec": {
   "display_name": "Python 3.8.12 64-bit ('base': conda)",
   "language": "python",
   "name": "python3"
  },
  "language_info": {
   "codemirror_mode": {
    "name": "ipython",
    "version": 3
   },
   "file_extension": ".py",
   "mimetype": "text/x-python",
   "name": "python",
   "nbconvert_exporter": "python",
   "pygments_lexer": "ipython3",
   "version": "3.9.5"
  },
  "orig_nbformat": 4
 },
 "nbformat": 4,
 "nbformat_minor": 2
}
